{
 "cells": [
  {
   "cell_type": "code",
   "execution_count": 1,
   "id": "b00e875f",
   "metadata": {},
   "outputs": [],
   "source": [
    "my_set = {10,20,30,40,50}"
   ]
  },
  {
   "cell_type": "code",
   "execution_count": 2,
   "id": "27f81ce6",
   "metadata": {},
   "outputs": [
    {
     "data": {
      "text/plain": [
       "{10, 20, 30, 40, 50}"
      ]
     },
     "execution_count": 2,
     "metadata": {},
     "output_type": "execute_result"
    }
   ],
   "source": [
    "my_set"
   ]
  },
  {
   "cell_type": "code",
   "execution_count": 8,
   "id": "d38a4c0b",
   "metadata": {},
   "outputs": [
    {
     "name": "stdout",
     "output_type": "stream",
     "text": [
      "{70, 40, 10, 80, 50, 20, 60, 30}\n"
     ]
    }
   ],
   "source": [
    "my_set = {10,20,30,40,50,40,50,60,70,30,40,80}\n",
    "print(my_set)"
   ]
  },
  {
   "cell_type": "code",
   "execution_count": 9,
   "id": "91a8266b",
   "metadata": {},
   "outputs": [
    {
     "data": {
      "text/plain": [
       "{10, 20, 30, 40, 50, 60, 70, 80}"
      ]
     },
     "execution_count": 9,
     "metadata": {},
     "output_type": "execute_result"
    }
   ],
   "source": [
    "my_set"
   ]
  },
  {
   "cell_type": "code",
   "execution_count": 6,
   "id": "ac5ea44f",
   "metadata": {},
   "outputs": [
    {
     "name": "stdout",
     "output_type": "stream",
     "text": [
      "{70, 40, 10, 80, 50, 20, 60, 30}\n"
     ]
    }
   ],
   "source": [
    "print(my_set)"
   ]
  },
  {
   "cell_type": "code",
   "execution_count": 11,
   "id": "63b55c52",
   "metadata": {},
   "outputs": [
    {
     "ename": "TypeError",
     "evalue": "'set' object is not subscriptable",
     "output_type": "error",
     "traceback": [
      "\u001b[1;31m---------------------------------------------------------------------------\u001b[0m",
      "\u001b[1;31mTypeError\u001b[0m                                 Traceback (most recent call last)",
      "Cell \u001b[1;32mIn[11], line 1\u001b[0m\n\u001b[1;32m----> 1\u001b[0m \u001b[43mmy_set\u001b[49m\u001b[43m[\u001b[49m\u001b[38;5;241;43m0\u001b[39;49m\u001b[43m]\u001b[49m \u001b[38;5;66;03m# Set is unordered --> indexing or slicing is not used\u001b[39;00m\n",
      "\u001b[1;31mTypeError\u001b[0m: 'set' object is not subscriptable"
     ]
    }
   ],
   "source": [
    "my_set[0] # Set is unordered --> indexing or slicing is not used"
   ]
  },
  {
   "cell_type": "code",
   "execution_count": 13,
   "id": "5f8d739c",
   "metadata": {},
   "outputs": [],
   "source": [
    "# my_set.*?\n",
    "\n",
    "# my_set.add\n",
    "# my_set.clear\n",
    "# my_set.copy\n",
    "# my_set.difference\n",
    "# my_set.difference_update\n",
    "# my_set.discard\n",
    "# my_set.intersection\n",
    "# my_set.intersection_update\n",
    "# my_set.isdisjoint\n",
    "# my_set.issubset\n",
    "# my_set.issuperset\n",
    "# my_set.pop\n",
    "# my_set.remove\n",
    "# my_set.symmetric_difference\n",
    "# my_set.symmetric_difference_update\n",
    "# my_set.union\n",
    "# my_set.update"
   ]
  },
  {
   "cell_type": "code",
   "execution_count": 18,
   "id": "5cea16b2",
   "metadata": {},
   "outputs": [],
   "source": [
    "my_set = {'a',10.0,34.5,True,None,True,False,'b',10}"
   ]
  },
  {
   "cell_type": "code",
   "execution_count": 19,
   "id": "30a8ee5c",
   "metadata": {},
   "outputs": [
    {
     "data": {
      "text/plain": [
       "{10.0, 34.5, False, None, True, 'a', 'b'}"
      ]
     },
     "execution_count": 19,
     "metadata": {},
     "output_type": "execute_result"
    }
   ],
   "source": [
    "my_set"
   ]
  },
  {
   "cell_type": "code",
   "execution_count": null,
   "id": "69cd78bc",
   "metadata": {},
   "outputs": [],
   "source": []
  }
 ],
 "metadata": {
  "kernelspec": {
   "display_name": "Python 3",
   "language": "python",
   "name": "python3"
  },
  "language_info": {
   "codemirror_mode": {
    "name": "ipython",
    "version": 3
   },
   "file_extension": ".py",
   "mimetype": "text/x-python",
   "name": "python",
   "nbconvert_exporter": "python",
   "pygments_lexer": "ipython3",
   "version": "3.11.9"
  }
 },
 "nbformat": 4,
 "nbformat_minor": 5
}
