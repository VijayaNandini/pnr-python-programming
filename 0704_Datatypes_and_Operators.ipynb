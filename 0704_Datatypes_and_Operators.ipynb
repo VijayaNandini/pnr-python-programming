{
 "cells": [
  {
   "cell_type": "code",
   "execution_count": 7,
   "id": "a573cb63-9c92-4837-adea-31e83dc516a2",
   "metadata": {},
   "outputs": [
    {
     "name": "stdout",
     "output_type": "stream",
     "text": [
      "Welcome to Python\n"
     ]
    }
   ],
   "source": [
    "print(\"Welcome to Python\") \n",
    "\n",
    "# To run - Shift + Enter - Executes current cell and proceeds to next cell\n",
    "# To run - Ctrl + Enter"
   ]
  },
  {
   "cell_type": "code",
   "execution_count": 11,
   "id": "4925c497-da46-4eb2-8563-126fe1b2c7de",
   "metadata": {},
   "outputs": [
    {
     "name": "stdout",
     "output_type": "stream",
     "text": [
      "Hello World\n"
     ]
    }
   ],
   "source": [
    "print(\"Hello World\")"
   ]
  },
  {
   "cell_type": "code",
   "execution_count": null,
   "id": "24408da7-2eef-4bdd-8dfd-43f78147f782",
   "metadata": {},
   "outputs": [],
   "source": [
    "# this is code cell\n",
    "# to convert to markdown -> 'Ctrl + M' + M "
   ]
  },
  {
   "cell_type": "markdown",
   "id": "62023af0-c190-4ff7-97fd-b1c2df5bbe2a",
   "metadata": {},
   "source": [
    "# this is markdown cell\n",
    "# to convert to code cell --> 'Ctrl + M' + Y"
   ]
  },
  {
   "cell_type": "markdown",
   "id": "69db672e-e251-45d3-94ea-b523ceb69d81",
   "metadata": {},
   "source": [
    "# Python Datatypes\n",
    "- String\n",
    "- Integer\n",
    "- Float\n",
    "- Boolean\n",
    "- Complex"
   ]
  },
  {
   "cell_type": "code",
   "execution_count": 17,
   "id": "f19639b5-2c8c-4140-b18b-720e58250ee0",
   "metadata": {},
   "outputs": [
    {
     "data": {
      "text/plain": [
       "'Hi'"
      ]
     },
     "execution_count": 17,
     "metadata": {},
     "output_type": "execute_result"
    }
   ],
   "source": [
    "\"Hi\" # Str"
   ]
  },
  {
   "cell_type": "code",
   "execution_count": 19,
   "id": "419766bd-039b-4d11-aef2-405e4d4037ec",
   "metadata": {},
   "outputs": [
    {
     "data": {
      "text/plain": [
       "'Hello'"
      ]
     },
     "execution_count": 19,
     "metadata": {},
     "output_type": "execute_result"
    }
   ],
   "source": [
    "'Hello'"
   ]
  },
  {
   "cell_type": "code",
   "execution_count": 38,
   "id": "67631159-539c-47f1-adf7-29ff01c435ba",
   "metadata": {},
   "outputs": [],
   "source": [
    "# type() - this is a function\n",
    "\n",
    "# abc() -- function\n",
    "# Abc() -- class"
   ]
  },
  {
   "cell_type": "code",
   "execution_count": 21,
   "id": "25303a83-fe66-4e59-9dc0-bee85e8f6c70",
   "metadata": {},
   "outputs": [
    {
     "data": {
      "text/plain": [
       "str"
      ]
     },
     "execution_count": 21,
     "metadata": {},
     "output_type": "execute_result"
    }
   ],
   "source": [
    "type(\"hi\")"
   ]
  },
  {
   "cell_type": "code",
   "execution_count": 23,
   "id": "5ddf79a9-0c00-4e7d-a14b-6e4c54196a1e",
   "metadata": {},
   "outputs": [
    {
     "data": {
      "text/plain": [
       "str"
      ]
     },
     "execution_count": 23,
     "metadata": {},
     "output_type": "execute_result"
    }
   ],
   "source": [
    "type('hello')"
   ]
  },
  {
   "cell_type": "code",
   "execution_count": 25,
   "id": "0c3f34e5-9048-43bd-b938-1b168be63041",
   "metadata": {},
   "outputs": [
    {
     "data": {
      "text/plain": [
       "'Hi \\nBalu\\nand\\nMadhuri!\\n'"
      ]
     },
     "execution_count": 25,
     "metadata": {},
     "output_type": "execute_result"
    }
   ],
   "source": [
    "'''Hi \n",
    "Balu\n",
    "and\n",
    "Madhuri!\n",
    "'''"
   ]
  },
  {
   "cell_type": "code",
   "execution_count": 27,
   "id": "bd209167-b8b3-4ca2-8d39-49f2da02c935",
   "metadata": {},
   "outputs": [
    {
     "data": {
      "text/plain": [
       "str"
      ]
     },
     "execution_count": 27,
     "metadata": {},
     "output_type": "execute_result"
    }
   ],
   "source": [
    "type('''Hi \n",
    "Balu\n",
    "and\n",
    "Madhuri!\n",
    "''')"
   ]
  },
  {
   "cell_type": "code",
   "execution_count": 29,
   "id": "2efecb32-dbea-4d25-83f7-18d70ba4fd3b",
   "metadata": {},
   "outputs": [
    {
     "data": {
      "text/plain": [
       "'Hi \\nBalu\\nand\\nMadhuri!\\n'"
      ]
     },
     "execution_count": 29,
     "metadata": {},
     "output_type": "execute_result"
    }
   ],
   "source": [
    "\"\"\"Hi \n",
    "Balu\n",
    "and\n",
    "Madhuri!\n",
    "\"\"\""
   ]
  },
  {
   "cell_type": "code",
   "execution_count": 31,
   "id": "be3d13eb-9730-4639-abde-b4324746f80d",
   "metadata": {},
   "outputs": [
    {
     "data": {
      "text/plain": [
       "str"
      ]
     },
     "execution_count": 31,
     "metadata": {},
     "output_type": "execute_result"
    }
   ],
   "source": [
    "type(\"\"\"Hi \n",
    "Balu\n",
    "and\n",
    "Madhuri!\n",
    "\"\"\")"
   ]
  },
  {
   "cell_type": "code",
   "execution_count": 36,
   "id": "83f18e8a-9d43-4f87-ba85-9f82ac6a79e1",
   "metadata": {},
   "outputs": [
    {
     "data": {
      "text/plain": [
       "'Hi Balu and Madhuri!'"
      ]
     },
     "execution_count": 36,
     "metadata": {},
     "output_type": "execute_result"
    }
   ],
   "source": [
    "'''Hi Balu and Madhuri!''' # This is a multi-line string"
   ]
  },
  {
   "cell_type": "markdown",
   "id": "2fa858ce-3d7a-40f3-8a66-1b3bd0495b08",
   "metadata": {},
   "source": [
    "## String Examples\n",
    "- 'Hi'\n",
    "- \"Hello\"\n",
    "- '''Hi Balu and Madhuri!'''\n",
    "- \"\"\"Hi Balu and Madhuri!\"\"\""
   ]
  },
  {
   "cell_type": "code",
   "execution_count": 40,
   "id": "e38eb8ec-8f27-4739-aaa5-bd3d48b2f0db",
   "metadata": {},
   "outputs": [
    {
     "data": {
      "text/plain": [
       "123"
      ]
     },
     "execution_count": 40,
     "metadata": {},
     "output_type": "execute_result"
    }
   ],
   "source": [
    "123 # integer"
   ]
  },
  {
   "cell_type": "code",
   "execution_count": 42,
   "id": "462c5aff-95cc-4f21-9f5b-554a84b653e2",
   "metadata": {},
   "outputs": [
    {
     "data": {
      "text/plain": [
       "int"
      ]
     },
     "execution_count": 42,
     "metadata": {},
     "output_type": "execute_result"
    }
   ],
   "source": [
    "type(123)"
   ]
  },
  {
   "cell_type": "code",
   "execution_count": 48,
   "id": "d25a6c19-9a10-4081-902b-debaf7805fad",
   "metadata": {},
   "outputs": [
    {
     "data": {
      "text/plain": [
       "123.4"
      ]
     },
     "execution_count": 48,
     "metadata": {},
     "output_type": "execute_result"
    }
   ],
   "source": [
    "123.4 # float"
   ]
  },
  {
   "cell_type": "code",
   "execution_count": 46,
   "id": "ea8b710e-093a-4ed8-a966-d30a33d9a918",
   "metadata": {},
   "outputs": [
    {
     "data": {
      "text/plain": [
       "float"
      ]
     },
     "execution_count": 46,
     "metadata": {},
     "output_type": "execute_result"
    }
   ],
   "source": [
    "type(123.4)"
   ]
  },
  {
   "cell_type": "code",
   "execution_count": 53,
   "id": "6c40ceff-84f5-4194-abad-37ce089a0943",
   "metadata": {},
   "outputs": [
    {
     "data": {
      "text/plain": [
       "123.0"
      ]
     },
     "execution_count": 53,
     "metadata": {},
     "output_type": "execute_result"
    }
   ],
   "source": [
    "123.0 # float"
   ]
  },
  {
   "cell_type": "code",
   "execution_count": 52,
   "id": "999c0ea7-74ae-44a7-9e8a-4717fa74b163",
   "metadata": {},
   "outputs": [
    {
     "data": {
      "text/plain": [
       "float"
      ]
     },
     "execution_count": 52,
     "metadata": {},
     "output_type": "execute_result"
    }
   ],
   "source": [
    "type(123.0)"
   ]
  },
  {
   "cell_type": "code",
   "execution_count": 58,
   "id": "c462a662-39b9-40ae-ba25-951278a77bdd",
   "metadata": {},
   "outputs": [
    {
     "data": {
      "text/plain": [
       "True"
      ]
     },
     "execution_count": 58,
     "metadata": {},
     "output_type": "execute_result"
    }
   ],
   "source": [
    "True # Boolean"
   ]
  },
  {
   "cell_type": "code",
   "execution_count": 60,
   "id": "bb967c4e-d535-4d9a-8e70-2e62b07c82fb",
   "metadata": {},
   "outputs": [
    {
     "data": {
      "text/plain": [
       "False"
      ]
     },
     "execution_count": 60,
     "metadata": {},
     "output_type": "execute_result"
    }
   ],
   "source": [
    "False # Boolean"
   ]
  },
  {
   "cell_type": "code",
   "execution_count": 62,
   "id": "84fdc8ca-005c-4f88-a9a4-c4ec9c1331d7",
   "metadata": {},
   "outputs": [
    {
     "data": {
      "text/plain": [
       "bool"
      ]
     },
     "execution_count": 62,
     "metadata": {},
     "output_type": "execute_result"
    }
   ],
   "source": [
    "type(True)"
   ]
  },
  {
   "cell_type": "code",
   "execution_count": 64,
   "id": "55fb8867-6d0f-41db-b5ea-a19de43826b6",
   "metadata": {},
   "outputs": [
    {
     "data": {
      "text/plain": [
       "bool"
      ]
     },
     "execution_count": 64,
     "metadata": {},
     "output_type": "execute_result"
    }
   ],
   "source": [
    "type(False)"
   ]
  },
  {
   "cell_type": "code",
   "execution_count": 68,
   "id": "1c92e224-f419-42fe-b9c4-5e9473f3aae6",
   "metadata": {},
   "outputs": [
    {
     "ename": "NameError",
     "evalue": "name 'true' is not defined",
     "output_type": "error",
     "traceback": [
      "\u001b[1;31m---------------------------------------------------------------------------\u001b[0m",
      "\u001b[1;31mNameError\u001b[0m                                 Traceback (most recent call last)",
      "Cell \u001b[1;32mIn[68], line 1\u001b[0m\n\u001b[1;32m----> 1\u001b[0m \u001b[43mtrue\u001b[49m \n\u001b[0;32m      2\u001b[0m \u001b[38;5;66;03m# this will be considered as variable\u001b[39;00m\n\u001b[0;32m      3\u001b[0m \n\u001b[0;32m      4\u001b[0m \u001b[38;5;66;03m# NameError: name 'true' is not defined --> meaning: variable with name 'true' is not created yet\u001b[39;00m\n",
      "\u001b[1;31mNameError\u001b[0m: name 'true' is not defined"
     ]
    }
   ],
   "source": [
    "true \n",
    "# this will be considered as variable\n",
    "\n",
    "# NameError: name 'true' is not defined --> meaning: variable with name 'true' is not created yet"
   ]
  },
  {
   "cell_type": "code",
   "execution_count": 74,
   "id": "bf706a4b-ccb3-47e7-afec-663818b6d922",
   "metadata": {},
   "outputs": [
    {
     "data": {
      "text/plain": [
       "(2+3j)"
      ]
     },
     "execution_count": 74,
     "metadata": {},
     "output_type": "execute_result"
    }
   ],
   "source": [
    "2+3j # Complex"
   ]
  },
  {
   "cell_type": "code",
   "execution_count": 76,
   "id": "0b232123-895b-4ccf-90b5-e8d032dfb9aa",
   "metadata": {},
   "outputs": [
    {
     "data": {
      "text/plain": [
       "complex"
      ]
     },
     "execution_count": 76,
     "metadata": {},
     "output_type": "execute_result"
    }
   ],
   "source": [
    "type(2+3j)"
   ]
  },
  {
   "cell_type": "code",
   "execution_count": 80,
   "id": "89d1988b-ebce-47ee-8d82-8359a79071df",
   "metadata": {},
   "outputs": [
    {
     "data": {
      "text/plain": [
       "(2+0j)"
      ]
     },
     "execution_count": 80,
     "metadata": {},
     "output_type": "execute_result"
    }
   ],
   "source": [
    "2+0j # complex"
   ]
  },
  {
   "cell_type": "markdown",
   "id": "ad00f1eb-eaa9-46c7-a04f-ce9cea7cdf63",
   "metadata": {},
   "source": [
    "## Python Datatype - None"
   ]
  },
  {
   "cell_type": "code",
   "execution_count": 90,
   "id": "60edd669-0387-4ff8-8833-c4f4ec12af32",
   "metadata": {},
   "outputs": [],
   "source": [
    "None"
   ]
  },
  {
   "cell_type": "code",
   "execution_count": 92,
   "id": "520a286e-9d34-444c-963a-d65ddb25c5dc",
   "metadata": {},
   "outputs": [],
   "source": [
    "# None and False, 0, '' - these are different"
   ]
  },
  {
   "cell_type": "code",
   "execution_count": 94,
   "id": "7f7d3ba3-df68-4687-95be-659d051d30e6",
   "metadata": {},
   "outputs": [
    {
     "data": {
      "text/plain": [
       "NoneType"
      ]
     },
     "execution_count": 94,
     "metadata": {},
     "output_type": "execute_result"
    }
   ],
   "source": [
    "type(None)"
   ]
  },
  {
   "cell_type": "markdown",
   "id": "4092a2c7-cec2-445e-892c-3e468317f0c1",
   "metadata": {},
   "source": [
    "# Variables"
   ]
  },
  {
   "cell_type": "code",
   "execution_count": 83,
   "id": "4aad013d-f5ef-4d2a-81fd-1ff17b2d8878",
   "metadata": {},
   "outputs": [],
   "source": [
    "name = 'Ram'"
   ]
  },
  {
   "cell_type": "code",
   "execution_count": 85,
   "id": "6cacb3c0-22e1-4280-a282-797b0a068062",
   "metadata": {},
   "outputs": [
    {
     "data": {
      "text/plain": [
       "'Ram'"
      ]
     },
     "execution_count": 85,
     "metadata": {},
     "output_type": "execute_result"
    }
   ],
   "source": [
    "name"
   ]
  },
  {
   "cell_type": "code",
   "execution_count": 1,
   "id": "2c22f5b6-1280-4afd-85b7-a51c0d1f7ba3",
   "metadata": {},
   "outputs": [
    {
     "ename": "NameError",
     "evalue": "name 'age' is not defined",
     "output_type": "error",
     "traceback": [
      "\u001b[1;31m---------------------------------------------------------------------------\u001b[0m",
      "\u001b[1;31mNameError\u001b[0m                                 Traceback (most recent call last)",
      "Cell \u001b[1;32mIn[1], line 1\u001b[0m\n\u001b[1;32m----> 1\u001b[0m \u001b[43mage\u001b[49m \n\u001b[0;32m      2\u001b[0m \u001b[38;5;66;03m# To create a variable - value must be assigned\u001b[39;00m\n",
      "\u001b[1;31mNameError\u001b[0m: name 'age' is not defined"
     ]
    }
   ],
   "source": [
    "age \n",
    "# To create a variable - value must be assigned"
   ]
  },
  {
   "cell_type": "code",
   "execution_count": 3,
   "id": "892970ee-b899-4f8f-b8f2-48cd1007084d",
   "metadata": {},
   "outputs": [],
   "source": [
    "age = None"
   ]
  },
  {
   "cell_type": "code",
   "execution_count": 9,
   "id": "c318f159-bf74-4c2f-8ff2-40b45cf056fd",
   "metadata": {},
   "outputs": [],
   "source": [
    "age # nothing will be printed - because it contains None"
   ]
  },
  {
   "cell_type": "code",
   "execution_count": 11,
   "id": "016e4e59-f0b9-420f-841f-bb83bab5cf9a",
   "metadata": {},
   "outputs": [
    {
     "name": "stdout",
     "output_type": "stream",
     "text": [
      "None\n"
     ]
    }
   ],
   "source": [
    "print(age)"
   ]
  },
  {
   "cell_type": "code",
   "execution_count": 13,
   "id": "03286fc6-11cf-4bbe-9e0a-49b34a430e01",
   "metadata": {},
   "outputs": [],
   "source": [
    "age = 10"
   ]
  },
  {
   "cell_type": "code",
   "execution_count": 15,
   "id": "313fb3de-349b-4574-a9c5-3f8ca3c6b998",
   "metadata": {},
   "outputs": [
    {
     "data": {
      "text/plain": [
       "10"
      ]
     },
     "execution_count": 15,
     "metadata": {},
     "output_type": "execute_result"
    }
   ],
   "source": [
    "age"
   ]
  },
  {
   "cell_type": "code",
   "execution_count": 19,
   "id": "12f890a3-11a7-4504-a9ba-46f8deb404c7",
   "metadata": {},
   "outputs": [],
   "source": [
    "yob = 0000"
   ]
  },
  {
   "cell_type": "code",
   "execution_count": 21,
   "id": "9ca69847-f191-47a8-a1dd-f7f2e3e42dc8",
   "metadata": {},
   "outputs": [
    {
     "data": {
      "text/plain": [
       "0"
      ]
     },
     "execution_count": 21,
     "metadata": {},
     "output_type": "execute_result"
    }
   ],
   "source": [
    "yob"
   ]
  },
  {
   "cell_type": "code",
   "execution_count": 23,
   "id": "c199c89b-e377-4e8e-93ab-b1b4e6431ddb",
   "metadata": {},
   "outputs": [],
   "source": [
    "yob = 1991"
   ]
  },
  {
   "cell_type": "code",
   "execution_count": 25,
   "id": "df9a94af-0944-4c0c-9320-70bfa2c9803d",
   "metadata": {},
   "outputs": [
    {
     "data": {
      "text/plain": [
       "1991"
      ]
     },
     "execution_count": 25,
     "metadata": {},
     "output_type": "execute_result"
    }
   ],
   "source": [
    "yob"
   ]
  },
  {
   "cell_type": "code",
   "execution_count": 27,
   "id": "ba3c6adb-85bc-4a63-8371-c08e356468e8",
   "metadata": {},
   "outputs": [
    {
     "data": {
      "text/plain": [
       "int"
      ]
     },
     "execution_count": 27,
     "metadata": {},
     "output_type": "execute_result"
    }
   ],
   "source": [
    "type(yob)"
   ]
  },
  {
   "cell_type": "code",
   "execution_count": 29,
   "id": "202404aa-3d0f-4347-93d7-eea10d7d86b0",
   "metadata": {},
   "outputs": [],
   "source": [
    "mobile = \"1234567890\""
   ]
  },
  {
   "cell_type": "code",
   "execution_count": 31,
   "id": "4bebb2f0-db32-40a5-a7d7-bdc8763fc412",
   "metadata": {},
   "outputs": [
    {
     "data": {
      "text/plain": [
       "'1234567890'"
      ]
     },
     "execution_count": 31,
     "metadata": {},
     "output_type": "execute_result"
    }
   ],
   "source": [
    "mobile"
   ]
  },
  {
   "cell_type": "code",
   "execution_count": 33,
   "id": "13f567b0-d439-49fd-9bcd-69a933953a55",
   "metadata": {},
   "outputs": [
    {
     "data": {
      "text/plain": [
       "str"
      ]
     },
     "execution_count": 33,
     "metadata": {},
     "output_type": "execute_result"
    }
   ],
   "source": [
    "type(mobile)"
   ]
  },
  {
   "cell_type": "code",
   "execution_count": 35,
   "id": "abfc64f6-af2d-4bdb-ba54-b8286e97a92e",
   "metadata": {},
   "outputs": [],
   "source": [
    "mobile = 1234567890"
   ]
  },
  {
   "cell_type": "code",
   "execution_count": 37,
   "id": "38d5dbc8-a5f5-4f74-8bb2-e19f061fe2d9",
   "metadata": {},
   "outputs": [
    {
     "data": {
      "text/plain": [
       "1234567890"
      ]
     },
     "execution_count": 37,
     "metadata": {},
     "output_type": "execute_result"
    }
   ],
   "source": [
    "mobile"
   ]
  },
  {
   "cell_type": "code",
   "execution_count": 39,
   "id": "bba452bb-fb57-436e-a61b-8d11ddb5d5b6",
   "metadata": {},
   "outputs": [
    {
     "data": {
      "text/plain": [
       "int"
      ]
     },
     "execution_count": 39,
     "metadata": {},
     "output_type": "execute_result"
    }
   ],
   "source": [
    "type(mobile)"
   ]
  },
  {
   "cell_type": "code",
   "execution_count": 45,
   "id": "35a3fad4-d858-45b7-a7bd-39adf424f633",
   "metadata": {},
   "outputs": [
    {
     "data": {
      "text/plain": [
       "True"
      ]
     },
     "execution_count": 45,
     "metadata": {},
     "output_type": "execute_result"
    }
   ],
   "source": [
    "type(mobile) == int # Checking the type of data in 'mobile' variable"
   ]
  },
  {
   "cell_type": "markdown",
   "id": "62ac33fe-55ab-4ae9-9812-d6a94de3044c",
   "metadata": {},
   "source": [
    "## Variable Naming Convention\n",
    "- should start with letters or _ (underscore)\n",
    "- no special characters\n",
    "- they are case sensitive\n",
    "- should not use keywords like for, if, and, or, in"
   ]
  },
  {
   "cell_type": "code",
   "execution_count": 47,
   "id": "9bda682a-db44-412d-a9d9-f8aaf070ff39",
   "metadata": {},
   "outputs": [],
   "source": [
    "_1 = 'nandini'\n",
    "a_ = \"madhuri\""
   ]
  },
  {
   "cell_type": "code",
   "execution_count": 49,
   "id": "4dd527e5-a94e-4497-bbdc-4e3fc91a873a",
   "metadata": {},
   "outputs": [
    {
     "data": {
      "text/plain": [
       "'nandini'"
      ]
     },
     "execution_count": 49,
     "metadata": {},
     "output_type": "execute_result"
    }
   ],
   "source": [
    "_1"
   ]
  },
  {
   "cell_type": "code",
   "execution_count": 51,
   "id": "a99361f8-8bf9-40ea-a123-1e505d5d93bd",
   "metadata": {},
   "outputs": [
    {
     "ename": "SyntaxError",
     "evalue": "invalid decimal literal (1049931710.py, line 1)",
     "output_type": "error",
     "traceback": [
      "\u001b[1;36m  Cell \u001b[1;32mIn[51], line 1\u001b[1;36m\u001b[0m\n\u001b[1;33m    1_ = \"balu\"\u001b[0m\n\u001b[1;37m     ^\u001b[0m\n\u001b[1;31mSyntaxError\u001b[0m\u001b[1;31m:\u001b[0m invalid decimal literal\n"
     ]
    }
   ],
   "source": [
    "$_ = \"balu\""
   ]
  },
  {
   "cell_type": "code",
   "execution_count": 59,
   "id": "deef9076-5512-4dd1-bb31-19cc4a0b76f0",
   "metadata": {},
   "outputs": [],
   "source": [
    "# Variable names are case sensitive\n",
    "a = 10\n",
    "A = 100 "
   ]
  },
  {
   "cell_type": "code",
   "execution_count": 55,
   "id": "bd38e87f-413d-4150-ad74-a0e652e31364",
   "metadata": {},
   "outputs": [
    {
     "data": {
      "text/plain": [
       "10"
      ]
     },
     "execution_count": 55,
     "metadata": {},
     "output_type": "execute_result"
    }
   ],
   "source": [
    "a"
   ]
  },
  {
   "cell_type": "code",
   "execution_count": 57,
   "id": "9dd557b4-edb0-4b97-9d1f-477b22a198c5",
   "metadata": {},
   "outputs": [
    {
     "data": {
      "text/plain": [
       "100"
      ]
     },
     "execution_count": 57,
     "metadata": {},
     "output_type": "execute_result"
    }
   ],
   "source": [
    "A"
   ]
  },
  {
   "cell_type": "code",
   "execution_count": 61,
   "id": "99edaee2-251b-4ff9-b1e5-20781ba12d8e",
   "metadata": {},
   "outputs": [],
   "source": [
    "b = 'Balu'"
   ]
  },
  {
   "cell_type": "code",
   "execution_count": 63,
   "id": "470f8eb0-4a69-4bd0-b329-c911f62ebcf0",
   "metadata": {},
   "outputs": [
    {
     "ename": "NameError",
     "evalue": "name 'B' is not defined",
     "output_type": "error",
     "traceback": [
      "\u001b[1;31m---------------------------------------------------------------------------\u001b[0m",
      "\u001b[1;31mNameError\u001b[0m                                 Traceback (most recent call last)",
      "Cell \u001b[1;32mIn[63], line 1\u001b[0m\n\u001b[1;32m----> 1\u001b[0m \u001b[43mB\u001b[49m\n",
      "\u001b[1;31mNameError\u001b[0m: name 'B' is not defined"
     ]
    }
   ],
   "source": [
    "B"
   ]
  },
  {
   "cell_type": "markdown",
   "id": "19611587-b7df-427e-bfe9-39dacdc464f5",
   "metadata": {},
   "source": [
    "# Operators\n",
    "- Arithmetic\n",
    "- Comparision\n",
    "- Logical\n",
    "- Assignment"
   ]
  },
  {
   "cell_type": "markdown",
   "id": "230ddffb-810c-4bab-8002-d28ae1c0b190",
   "metadata": {},
   "source": [
    "## Arithmetic Operators\n",
    "- **+** : addition\n",
    "- **-** : subtraction\n",
    "- '*' : multiplication\n",
    "- **/** : division\n",
    "- **//** : integer division - quotient\n",
    "- **%** : modulus operator - reminder\n",
    "- '**' : exponential - power of "
   ]
  },
  {
   "cell_type": "code",
   "execution_count": 75,
   "id": "e6228074-535a-4215-af28-7a3946195b17",
   "metadata": {},
   "outputs": [
    {
     "data": {
      "text/plain": [
       "19"
      ]
     },
     "execution_count": 75,
     "metadata": {},
     "output_type": "execute_result"
    }
   ],
   "source": [
    "14 + 5"
   ]
  },
  {
   "cell_type": "code",
   "execution_count": 77,
   "id": "b0521195-6102-4c3d-b6bd-813654dff14f",
   "metadata": {},
   "outputs": [
    {
     "data": {
      "text/plain": [
       "9"
      ]
     },
     "execution_count": 77,
     "metadata": {},
     "output_type": "execute_result"
    }
   ],
   "source": [
    "14 - 5"
   ]
  },
  {
   "cell_type": "code",
   "execution_count": 79,
   "id": "83e26315-33c4-4493-8e13-a344dc26a620",
   "metadata": {},
   "outputs": [
    {
     "data": {
      "text/plain": [
       "70"
      ]
     },
     "execution_count": 79,
     "metadata": {},
     "output_type": "execute_result"
    }
   ],
   "source": [
    "14 * 5"
   ]
  },
  {
   "cell_type": "code",
   "execution_count": 84,
   "id": "01dfc471-2bcb-4f81-8161-8113441cd104",
   "metadata": {},
   "outputs": [
    {
     "data": {
      "text/plain": [
       "2.8"
      ]
     },
     "execution_count": 84,
     "metadata": {},
     "output_type": "execute_result"
    }
   ],
   "source": [
    "14 / 5"
   ]
  },
  {
   "cell_type": "code",
   "execution_count": 86,
   "id": "eb90ee44-c07c-4c2d-a2dd-53a4a5f2afe8",
   "metadata": {},
   "outputs": [
    {
     "data": {
      "text/plain": [
       "2"
      ]
     },
     "execution_count": 86,
     "metadata": {},
     "output_type": "execute_result"
    }
   ],
   "source": [
    "14 // 5"
   ]
  },
  {
   "cell_type": "code",
   "execution_count": 88,
   "id": "72c9890b-898e-4663-bd8e-8d49ac941a08",
   "metadata": {},
   "outputs": [
    {
     "data": {
      "text/plain": [
       "4"
      ]
     },
     "execution_count": 88,
     "metadata": {},
     "output_type": "execute_result"
    }
   ],
   "source": [
    "14 % 5"
   ]
  },
  {
   "cell_type": "code",
   "execution_count": 90,
   "id": "3d312340-e834-4aeb-aafa-1934039fcf97",
   "metadata": {},
   "outputs": [
    {
     "data": {
      "text/plain": [
       "537824"
      ]
     },
     "execution_count": 90,
     "metadata": {},
     "output_type": "execute_result"
    }
   ],
   "source": [
    "14 ** 5"
   ]
  },
  {
   "cell_type": "code",
   "execution_count": 92,
   "id": "6e8f5d7d-c985-4a1f-abe4-2afde922e739",
   "metadata": {},
   "outputs": [
    {
     "data": {
      "text/plain": [
       "8"
      ]
     },
     "execution_count": 92,
     "metadata": {},
     "output_type": "execute_result"
    }
   ],
   "source": [
    "2**3"
   ]
  },
  {
   "cell_type": "markdown",
   "id": "5d289b4b-2ffb-419a-97e1-113eeb99e4ab",
   "metadata": {},
   "source": [
    "## Comparision Operators\n",
    "- **==** : equal to\n",
    "- **!=** : not equal to\n",
    "- **>** : greater than\n",
    "- **<** : less than\n",
    "- **>=** : greater than or equal to\n",
    "- **<=** : less than or equal to"
   ]
  },
  {
   "cell_type": "code",
   "execution_count": 99,
   "id": "6131fb49-4d79-405e-8488-a89dee848b35",
   "metadata": {},
   "outputs": [
    {
     "ename": "SyntaxError",
     "evalue": "cannot assign to literal here. Maybe you meant '==' instead of '='? (1343537484.py, line 1)",
     "output_type": "error",
     "traceback": [
      "\u001b[1;36m  Cell \u001b[1;32mIn[99], line 1\u001b[1;36m\u001b[0m\n\u001b[1;33m    12 = 13 # this is assignment\u001b[0m\n\u001b[1;37m    ^\u001b[0m\n\u001b[1;31mSyntaxError\u001b[0m\u001b[1;31m:\u001b[0m cannot assign to literal here. Maybe you meant '==' instead of '='?\n"
     ]
    }
   ],
   "source": [
    "12 = 13 # this is assignment"
   ]
  },
  {
   "cell_type": "code",
   "execution_count": 101,
   "id": "c5741415-3e84-436f-9a1f-0413059b43e9",
   "metadata": {},
   "outputs": [
    {
     "data": {
      "text/plain": [
       "False"
      ]
     },
     "execution_count": 101,
     "metadata": {},
     "output_type": "execute_result"
    }
   ],
   "source": [
    "12 == 13"
   ]
  },
  {
   "cell_type": "code",
   "execution_count": 103,
   "id": "e0d846a4-b0ff-435e-90e0-e6f324fe26a0",
   "metadata": {},
   "outputs": [
    {
     "data": {
      "text/plain": [
       "True"
      ]
     },
     "execution_count": 103,
     "metadata": {},
     "output_type": "execute_result"
    }
   ],
   "source": [
    "12 == 12"
   ]
  },
  {
   "cell_type": "code",
   "execution_count": 105,
   "id": "fc5ca372-403d-4d1e-bfd8-50e19f5aa687",
   "metadata": {},
   "outputs": [
    {
     "data": {
      "text/plain": [
       "True"
      ]
     },
     "execution_count": 105,
     "metadata": {},
     "output_type": "execute_result"
    }
   ],
   "source": [
    "12 != 13"
   ]
  },
  {
   "cell_type": "code",
   "execution_count": 107,
   "id": "d5d402ea-4607-453a-afe0-9a32d5c33a29",
   "metadata": {},
   "outputs": [
    {
     "data": {
      "text/plain": [
       "False"
      ]
     },
     "execution_count": 107,
     "metadata": {},
     "output_type": "execute_result"
    }
   ],
   "source": [
    "12.0 != 12.0"
   ]
  },
  {
   "cell_type": "code",
   "execution_count": 109,
   "id": "a6fc5470-44a2-4de9-8730-43b581158548",
   "metadata": {},
   "outputs": [
    {
     "data": {
      "text/plain": [
       "True"
      ]
     },
     "execution_count": 109,
     "metadata": {},
     "output_type": "execute_result"
    }
   ],
   "source": [
    "12 > 5"
   ]
  },
  {
   "cell_type": "code",
   "execution_count": 111,
   "id": "405cd3fa-5af7-4f44-a57e-90e17190d93c",
   "metadata": {},
   "outputs": [
    {
     "data": {
      "text/plain": [
       "False"
      ]
     },
     "execution_count": 111,
     "metadata": {},
     "output_type": "execute_result"
    }
   ],
   "source": [
    "12 < 5"
   ]
  },
  {
   "cell_type": "code",
   "execution_count": 113,
   "id": "2f2d78ce-61dd-4bf0-8137-637d432efc4c",
   "metadata": {},
   "outputs": [
    {
     "data": {
      "text/plain": [
       "True"
      ]
     },
     "execution_count": 113,
     "metadata": {},
     "output_type": "execute_result"
    }
   ],
   "source": [
    "12 >= 12"
   ]
  },
  {
   "cell_type": "code",
   "execution_count": 115,
   "id": "b4be1ec9-aec5-4285-b6e7-35312b175430",
   "metadata": {},
   "outputs": [
    {
     "data": {
      "text/plain": [
       "True"
      ]
     },
     "execution_count": 115,
     "metadata": {},
     "output_type": "execute_result"
    }
   ],
   "source": [
    "12 >= 5"
   ]
  },
  {
   "cell_type": "code",
   "execution_count": 117,
   "id": "0dbaeb83-5fab-4658-bd29-2dffc8e03b3a",
   "metadata": {},
   "outputs": [
    {
     "data": {
      "text/plain": [
       "False"
      ]
     },
     "execution_count": 117,
     "metadata": {},
     "output_type": "execute_result"
    }
   ],
   "source": [
    "12 <= 5"
   ]
  },
  {
   "cell_type": "code",
   "execution_count": 119,
   "id": "f2b8b0da-4745-439e-b00b-16f46e735789",
   "metadata": {},
   "outputs": [
    {
     "data": {
      "text/plain": [
       "True"
      ]
     },
     "execution_count": 119,
     "metadata": {},
     "output_type": "execute_result"
    }
   ],
   "source": [
    "12 <= 12"
   ]
  },
  {
   "cell_type": "code",
   "execution_count": 124,
   "id": "250f15eb-c772-48c7-a8c9-c235d7e7389e",
   "metadata": {},
   "outputs": [
    {
     "data": {
      "text/plain": [
       "False"
      ]
     },
     "execution_count": 124,
     "metadata": {},
     "output_type": "execute_result"
    }
   ],
   "source": [
    "'hi' == 'Hi'"
   ]
  },
  {
   "cell_type": "code",
   "execution_count": 126,
   "id": "3d481d70-a554-4d5f-887e-5cfb4c5b21bc",
   "metadata": {},
   "outputs": [
    {
     "data": {
      "text/plain": [
       "True"
      ]
     },
     "execution_count": 126,
     "metadata": {},
     "output_type": "execute_result"
    }
   ],
   "source": [
    "'hi' == 'hi'"
   ]
  },
  {
   "cell_type": "code",
   "execution_count": 128,
   "id": "789662a0-ff66-4344-969e-681099822a17",
   "metadata": {},
   "outputs": [
    {
     "data": {
      "text/plain": [
       "True"
      ]
     },
     "execution_count": 128,
     "metadata": {},
     "output_type": "execute_result"
    }
   ],
   "source": [
    "'hi' != 'Hi'"
   ]
  },
  {
   "cell_type": "code",
   "execution_count": 130,
   "id": "5798aef4-181f-40b9-9f8a-a9d6913399c2",
   "metadata": {},
   "outputs": [
    {
     "data": {
      "text/plain": [
       "False"
      ]
     },
     "execution_count": 130,
     "metadata": {},
     "output_type": "execute_result"
    }
   ],
   "source": [
    "'hi' != 'hi'"
   ]
  },
  {
   "cell_type": "code",
   "execution_count": 132,
   "id": "f0a3a72a-2415-4e51-93d4-de38e68d09fc",
   "metadata": {},
   "outputs": [
    {
     "data": {
      "text/plain": [
       "True"
      ]
     },
     "execution_count": 132,
     "metadata": {},
     "output_type": "execute_result"
    }
   ],
   "source": [
    "True == True"
   ]
  },
  {
   "cell_type": "code",
   "execution_count": 138,
   "id": "f0add680-a155-4ad2-80b3-1101aa379f7a",
   "metadata": {},
   "outputs": [
    {
     "data": {
      "text/plain": [
       "False"
      ]
     },
     "execution_count": 138,
     "metadata": {},
     "output_type": "execute_result"
    }
   ],
   "source": [
    "True == False"
   ]
  },
  {
   "cell_type": "code",
   "execution_count": 134,
   "id": "11262838-ffd0-417c-8190-a8d1f3dfa68f",
   "metadata": {},
   "outputs": [
    {
     "data": {
      "text/plain": [
       "False"
      ]
     },
     "execution_count": 134,
     "metadata": {},
     "output_type": "execute_result"
    }
   ],
   "source": [
    "True != True"
   ]
  },
  {
   "cell_type": "code",
   "execution_count": 136,
   "id": "36caf162-3763-408c-9ed5-0ecf0a87e9c2",
   "metadata": {},
   "outputs": [
    {
     "data": {
      "text/plain": [
       "True"
      ]
     },
     "execution_count": 136,
     "metadata": {},
     "output_type": "execute_result"
    }
   ],
   "source": [
    "True != False"
   ]
  },
  {
   "cell_type": "code",
   "execution_count": 142,
   "id": "730bec2e-8108-464c-9536-103f8236ba35",
   "metadata": {},
   "outputs": [
    {
     "data": {
      "text/plain": [
       "True"
      ]
     },
     "execution_count": 142,
     "metadata": {},
     "output_type": "execute_result"
    }
   ],
   "source": [
    "None == None"
   ]
  },
  {
   "cell_type": "code",
   "execution_count": 140,
   "id": "df21edaa-beb0-4e3a-b799-265d2e6280f5",
   "metadata": {},
   "outputs": [
    {
     "data": {
      "text/plain": [
       "False"
      ]
     },
     "execution_count": 140,
     "metadata": {},
     "output_type": "execute_result"
    }
   ],
   "source": [
    "123 == None"
   ]
  },
  {
   "cell_type": "code",
   "execution_count": 144,
   "id": "d6e16f19-79bc-4591-bdee-984a8093235c",
   "metadata": {},
   "outputs": [
    {
     "data": {
      "text/plain": [
       "False"
      ]
     },
     "execution_count": 144,
     "metadata": {},
     "output_type": "execute_result"
    }
   ],
   "source": [
    "0 == None"
   ]
  },
  {
   "cell_type": "code",
   "execution_count": 146,
   "id": "367c7241-556f-443b-8836-787a1ce54a07",
   "metadata": {},
   "outputs": [
    {
     "data": {
      "text/plain": [
       "''"
      ]
     },
     "execution_count": 146,
     "metadata": {},
     "output_type": "execute_result"
    }
   ],
   "source": [
    "'' # Empty string"
   ]
  },
  {
   "cell_type": "code",
   "execution_count": 148,
   "id": "845c9144-9749-48c5-adaa-2159675edf6a",
   "metadata": {},
   "outputs": [
    {
     "data": {
      "text/plain": [
       "False"
      ]
     },
     "execution_count": 148,
     "metadata": {},
     "output_type": "execute_result"
    }
   ],
   "source": [
    "'' == None"
   ]
  },
  {
   "cell_type": "code",
   "execution_count": 150,
   "id": "88a8c159-d624-4324-8785-be0801417b92",
   "metadata": {},
   "outputs": [
    {
     "data": {
      "text/plain": [
       "False"
      ]
     },
     "execution_count": 150,
     "metadata": {},
     "output_type": "execute_result"
    }
   ],
   "source": [
    "False == None"
   ]
  },
  {
   "cell_type": "code",
   "execution_count": 152,
   "id": "f6aa8c53-a691-4d31-97dc-6520470cd888",
   "metadata": {},
   "outputs": [
    {
     "data": {
      "text/plain": [
       "False"
      ]
     },
     "execution_count": 152,
     "metadata": {},
     "output_type": "execute_result"
    }
   ],
   "source": [
    "0.0 == None"
   ]
  },
  {
   "cell_type": "code",
   "execution_count": 154,
   "id": "9c628ad4-d060-49b7-9c97-fec2875e04b3",
   "metadata": {},
   "outputs": [
    {
     "data": {
      "text/plain": [
       "False"
      ]
     },
     "execution_count": 154,
     "metadata": {},
     "output_type": "execute_result"
    }
   ],
   "source": [
    "'Hello' == None"
   ]
  },
  {
   "cell_type": "code",
   "execution_count": null,
   "id": "df7ddb2b-5ef3-4532-a871-e7d85224cc64",
   "metadata": {},
   "outputs": [],
   "source": []
  }
 ],
 "metadata": {
  "kernelspec": {
   "display_name": "Python 3 (ipykernel)",
   "language": "python",
   "name": "python3"
  },
  "language_info": {
   "codemirror_mode": {
    "name": "ipython",
    "version": 3
   },
   "file_extension": ".py",
   "mimetype": "text/x-python",
   "name": "python",
   "nbconvert_exporter": "python",
   "pygments_lexer": "ipython3",
   "version": "3.12.4"
  }
 },
 "nbformat": 4,
 "nbformat_minor": 5
}
