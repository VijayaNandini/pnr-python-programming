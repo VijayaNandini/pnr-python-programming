{
 "cells": [
  {
   "cell_type": "code",
   "execution_count": 2,
   "id": "8f027c21",
   "metadata": {},
   "outputs": [],
   "source": [
    "#Ex-1: Get the list of numbers between 50 and 100 that are divisible by 3  --> Will discuss in next class\n",
    "\n",
    "# Example Output: [51,54,57,60,...]"
   ]
  },
  {
   "cell_type": "code",
   "execution_count": 3,
   "id": "a8927a83",
   "metadata": {},
   "outputs": [
    {
     "data": {
      "text/plain": [
       "[50, 51, 52, 53, 54, 55, 56, 57, 58, 59, 60]"
      ]
     },
     "execution_count": 3,
     "metadata": {},
     "output_type": "execute_result"
    }
   ],
   "source": [
    "list(range(50,61))"
   ]
  },
  {
   "cell_type": "code",
   "execution_count": 5,
   "id": "7a7815f0",
   "metadata": {},
   "outputs": [
    {
     "name": "stdout",
     "output_type": "stream",
     "text": [
      "value of i is: 50\n",
      "value of i is: 51\n",
      "value of i is: 52\n",
      "value of i is: 53\n",
      "value of i is: 54\n",
      "value of i is: 55\n",
      "value of i is: 56\n",
      "value of i is: 57\n",
      "value of i is: 58\n",
      "value of i is: 59\n",
      "value of i is: 60\n"
     ]
    }
   ],
   "source": [
    "for i in range(50,61):\n",
    "    print(\"value of i is:\",i)"
   ]
  },
  {
   "cell_type": "code",
   "execution_count": 6,
   "id": "8c19bdcf",
   "metadata": {},
   "outputs": [],
   "source": [
    "# Number divisible by 3 --> when we divide it with 3, remainder should be 0"
   ]
  },
  {
   "cell_type": "code",
   "execution_count": 7,
   "id": "8a7b8f5b",
   "metadata": {},
   "outputs": [
    {
     "data": {
      "text/plain": [
       "16.666666666666668"
      ]
     },
     "execution_count": 7,
     "metadata": {},
     "output_type": "execute_result"
    }
   ],
   "source": [
    "50/3"
   ]
  },
  {
   "cell_type": "code",
   "execution_count": null,
   "id": "c1121f10",
   "metadata": {},
   "outputs": [
    {
     "data": {
      "text/plain": [
       "17.0"
      ]
     },
     "execution_count": 8,
     "metadata": {},
     "output_type": "execute_result"
    }
   ],
   "source": [
    "51/3  # -->"
   ]
  },
  {
   "cell_type": "code",
   "execution_count": null,
   "id": "3d9c9557",
   "metadata": {},
   "outputs": [
    {
     "data": {
      "text/plain": [
       "2"
      ]
     },
     "execution_count": 9,
     "metadata": {},
     "output_type": "execute_result"
    }
   ],
   "source": [
    "50%3  # --> remainder is 2"
   ]
  },
  {
   "cell_type": "code",
   "execution_count": 11,
   "id": "e70da84f",
   "metadata": {},
   "outputs": [
    {
     "data": {
      "text/plain": [
       "0"
      ]
     },
     "execution_count": 11,
     "metadata": {},
     "output_type": "execute_result"
    }
   ],
   "source": [
    "51%3   # --> remainder is 0 --> this number is divisible by 3"
   ]
  },
  {
   "cell_type": "code",
   "execution_count": 12,
   "id": "14cab2cd",
   "metadata": {},
   "outputs": [
    {
     "data": {
      "text/plain": [
       "0"
      ]
     },
     "execution_count": 12,
     "metadata": {},
     "output_type": "execute_result"
    }
   ],
   "source": [
    "54%3"
   ]
  },
  {
   "cell_type": "code",
   "execution_count": 13,
   "id": "2d4b7e76",
   "metadata": {},
   "outputs": [
    {
     "data": {
      "text/plain": [
       "0"
      ]
     },
     "execution_count": 13,
     "metadata": {},
     "output_type": "execute_result"
    }
   ],
   "source": [
    "57%3"
   ]
  },
  {
   "cell_type": "code",
   "execution_count": 18,
   "id": "47d93972",
   "metadata": {},
   "outputs": [
    {
     "name": "stdout",
     "output_type": "stream",
     "text": [
      "value of i: 50\n",
      "Remainder when divided by 3: 2\n",
      "False\n",
      "value of i: 51\n",
      "Remainder when divided by 3: 0\n",
      "True\n",
      "value of i: 52\n",
      "Remainder when divided by 3: 1\n",
      "False\n",
      "value of i: 53\n",
      "Remainder when divided by 3: 2\n",
      "False\n",
      "value of i: 54\n",
      "Remainder when divided by 3: 0\n",
      "True\n",
      "value of i: 55\n",
      "Remainder when divided by 3: 1\n",
      "False\n",
      "value of i: 56\n",
      "Remainder when divided by 3: 2\n",
      "False\n",
      "value of i: 57\n",
      "Remainder when divided by 3: 0\n",
      "True\n",
      "value of i: 58\n",
      "Remainder when divided by 3: 1\n",
      "False\n",
      "value of i: 59\n",
      "Remainder when divided by 3: 2\n",
      "False\n",
      "value of i: 60\n",
      "Remainder when divided by 3: 0\n",
      "True\n"
     ]
    }
   ],
   "source": [
    "for i in range(50,61):\n",
    "    print(\"value of i:\",i)\n",
    "    print(\"Remainder when divided by 3:\",i%3)\n",
    "    print(i%3 == 0)"
   ]
  },
  {
   "cell_type": "code",
   "execution_count": 21,
   "id": "898536f3",
   "metadata": {},
   "outputs": [
    {
     "name": "stdout",
     "output_type": "stream",
     "text": [
      "50 is not divisible by 3.\n",
      "51 is divisible by 3.\n",
      "52 is not divisible by 3.\n",
      "53 is not divisible by 3.\n",
      "54 is divisible by 3.\n",
      "55 is not divisible by 3.\n",
      "56 is not divisible by 3.\n",
      "57 is divisible by 3.\n",
      "58 is not divisible by 3.\n",
      "59 is not divisible by 3.\n",
      "60 is divisible by 3.\n"
     ]
    }
   ],
   "source": [
    "for i in range(50,61):\n",
    "    # print(\"value of i:\",i)\n",
    "    # print(\"Remainder when divided by 3:\",i%3)\n",
    "    # print(i%3 == 0)\n",
    "    if i%3==0:\n",
    "        print(i,'is divisible by 3.')\n",
    "    else:\n",
    "        print(i,'is not divisible by 3.')"
   ]
  },
  {
   "cell_type": "code",
   "execution_count": 22,
   "id": "240a0cfc",
   "metadata": {},
   "outputs": [
    {
     "name": "stdout",
     "output_type": "stream",
     "text": [
      "i: 50\n",
      "i: 51\n",
      "51 is divisible by 3.\n",
      "i: 52\n",
      "i: 53\n",
      "i: 54\n",
      "54 is divisible by 3.\n",
      "i: 55\n",
      "i: 56\n",
      "i: 57\n",
      "57 is divisible by 3.\n",
      "i: 58\n",
      "i: 59\n",
      "i: 60\n",
      "60 is divisible by 3.\n"
     ]
    }
   ],
   "source": [
    "for i in range(50,61):\n",
    "    print(\"i:\",i)\n",
    "    if i%3==0:\n",
    "        print(i,'is divisible by 3.')\n",
    "    # End of if\n",
    "# End of for loop"
   ]
  },
  {
   "cell_type": "code",
   "execution_count": 23,
   "id": "b9e3cf29",
   "metadata": {},
   "outputs": [
    {
     "name": "stdout",
     "output_type": "stream",
     "text": [
      "51 is divisible by 3.\n",
      "54 is divisible by 3.\n",
      "57 is divisible by 3.\n",
      "60 is divisible by 3.\n"
     ]
    }
   ],
   "source": [
    "for i in range(50,61):\n",
    "    # print(\"i:\",i)\n",
    "    if i%3==0:\n",
    "        print(i,'is divisible by 3.')\n",
    "    "
   ]
  },
  {
   "cell_type": "code",
   "execution_count": null,
   "id": "89b22732",
   "metadata": {},
   "outputs": [],
   "source": [
    "# Get the 'list of numbers' between 50 and 100 that are divisible by 3 --> [51,54,57,60,..]"
   ]
  },
  {
   "cell_type": "code",
   "execution_count": 28,
   "id": "40602693",
   "metadata": {},
   "outputs": [
    {
     "data": {
      "text/plain": [
       "[]"
      ]
     },
     "execution_count": 28,
     "metadata": {},
     "output_type": "execute_result"
    }
   ],
   "source": [
    "test_output = []  # --> Empty list\n",
    "test_output"
   ]
  },
  {
   "cell_type": "code",
   "execution_count": 29,
   "id": "99ee7d1d",
   "metadata": {},
   "outputs": [],
   "source": [
    "test_output.append(2)"
   ]
  },
  {
   "cell_type": "code",
   "execution_count": 30,
   "id": "988a7d07",
   "metadata": {},
   "outputs": [
    {
     "data": {
      "text/plain": [
       "[2]"
      ]
     },
     "execution_count": 30,
     "metadata": {},
     "output_type": "execute_result"
    }
   ],
   "source": [
    "test_output"
   ]
  },
  {
   "cell_type": "code",
   "execution_count": 31,
   "id": "70b21b29",
   "metadata": {},
   "outputs": [
    {
     "name": "stdout",
     "output_type": "stream",
     "text": [
      "[2, 5]\n"
     ]
    }
   ],
   "source": [
    "test_output.append(5)\n",
    "print(test_output)"
   ]
  },
  {
   "cell_type": "code",
   "execution_count": 34,
   "id": "00f5a60b",
   "metadata": {},
   "outputs": [
    {
     "name": "stdout",
     "output_type": "stream",
     "text": [
      "i: 50\n",
      "my_output: []\n",
      "i: 51\n",
      "51 is divisible by 3.\n",
      "my_output: [51]\n",
      "i: 52\n",
      "my_output: [51]\n",
      "i: 53\n",
      "my_output: [51]\n",
      "i: 54\n",
      "54 is divisible by 3.\n",
      "my_output: [51, 54]\n",
      "i: 55\n",
      "my_output: [51, 54]\n",
      "i: 56\n",
      "my_output: [51, 54]\n",
      "i: 57\n",
      "57 is divisible by 3.\n",
      "my_output: [51, 54, 57]\n",
      "i: 58\n",
      "my_output: [51, 54, 57]\n",
      "i: 59\n",
      "my_output: [51, 54, 57]\n",
      "i: 60\n",
      "60 is divisible by 3.\n",
      "my_output: [51, 54, 57, 60]\n"
     ]
    }
   ],
   "source": [
    "my_output = []\n",
    "\n",
    "for i in range(50,61):\n",
    "    print(\"i:\",i)\n",
    "    if i%3==0:\n",
    "        print(i,'is divisible by 3.')\n",
    "        my_output.append(i)\n",
    "    print(\"my_output:\",my_output)"
   ]
  },
  {
   "cell_type": "code",
   "execution_count": 39,
   "id": "4ce1ef73",
   "metadata": {},
   "outputs": [
    {
     "name": "stdout",
     "output_type": "stream",
     "text": [
      "my_output: [51]\n",
      "my_output: [51, 54]\n",
      "my_output: [51, 54, 57]\n",
      "my_output: [51, 54, 57, 60]\n",
      "my_output: [51, 54, 57, 60, 63]\n",
      "my_output: [51, 54, 57, 60, 63, 66]\n",
      "my_output: [51, 54, 57, 60, 63, 66, 69]\n",
      "my_output: [51, 54, 57, 60, 63, 66, 69, 72]\n",
      "my_output: [51, 54, 57, 60, 63, 66, 69, 72, 75]\n",
      "my_output: [51, 54, 57, 60, 63, 66, 69, 72, 75, 78]\n",
      "my_output: [51, 54, 57, 60, 63, 66, 69, 72, 75, 78, 81]\n",
      "my_output: [51, 54, 57, 60, 63, 66, 69, 72, 75, 78, 81, 84]\n",
      "my_output: [51, 54, 57, 60, 63, 66, 69, 72, 75, 78, 81, 84, 87]\n",
      "my_output: [51, 54, 57, 60, 63, 66, 69, 72, 75, 78, 81, 84, 87, 90]\n",
      "my_output: [51, 54, 57, 60, 63, 66, 69, 72, 75, 78, 81, 84, 87, 90, 93]\n",
      "my_output: [51, 54, 57, 60, 63, 66, 69, 72, 75, 78, 81, 84, 87, 90, 93, 96]\n",
      "my_output: [51, 54, 57, 60, 63, 66, 69, 72, 75, 78, 81, 84, 87, 90, 93, 96, 99]\n"
     ]
    }
   ],
   "source": [
    "# Get the list of number between 50 and 100 that are divisible by 3\n",
    "\n",
    "my_output = []\n",
    "for i in range(50,101):\n",
    "    # print(\"i:\",i)\n",
    "    if i%3 == 0:\n",
    "        my_output.append(i)\n",
    "        print(\"my_output:\",my_output)\n",
    "    "
   ]
  },
  {
   "cell_type": "code",
   "execution_count": 42,
   "id": "854d9700",
   "metadata": {},
   "outputs": [
    {
     "name": "stdout",
     "output_type": "stream",
     "text": [
      "List of numbers divisible by 3: [51, 54, 57, 60, 63, 66, 69, 72, 75, 78, 81, 84, 87, 90, 93, 96, 99]\n"
     ]
    }
   ],
   "source": [
    "my_output = []\n",
    "for i in range(50,101):\n",
    "    # print(\"i:\",i)\n",
    "    if i%3 == 0:\n",
    "        my_output.append(i)\n",
    "        # print(\"my_output:\",my_output)\n",
    "# End of for loop\n",
    "print(\"List of numbers divisible by 3:\",my_output)"
   ]
  },
  {
   "cell_type": "code",
   "execution_count": 43,
   "id": "13095122",
   "metadata": {},
   "outputs": [],
   "source": [
    "# Get list of numbers divisible by 3 between 1 and 100"
   ]
  },
  {
   "cell_type": "code",
   "execution_count": 44,
   "id": "6d6201ad",
   "metadata": {},
   "outputs": [
    {
     "name": "stdout",
     "output_type": "stream",
     "text": [
      "output_list: [3, 6, 9, 12, 15, 18, 21, 24, 27, 30, 33, 36, 39, 42, 45, 48, 51, 54, 57, 60, 63, 66, 69, 72, 75, 78, 81, 84, 87, 90, 93, 96, 99]\n"
     ]
    }
   ],
   "source": [
    "output_list = []\n",
    "for i in range(1,101):\n",
    "    if i%3==0:\n",
    "        output_list.append(i)\n",
    "print(\"output_list:\", output_list)"
   ]
  },
  {
   "cell_type": "code",
   "execution_count": 52,
   "id": "e7128c6a",
   "metadata": {},
   "outputs": [],
   "source": [
    "# Ex2: For numbers between 10 and 30 generate two lists: even and odd lists\n",
    "# Even number list: [10,12,14,16,..]\n",
    "# Odd number list: [11,13,15,..]"
   ]
  },
  {
   "cell_type": "code",
   "execution_count": 47,
   "id": "21c701bb",
   "metadata": {},
   "outputs": [
    {
     "data": {
      "text/plain": [
       "0"
      ]
     },
     "execution_count": 47,
     "metadata": {},
     "output_type": "execute_result"
    }
   ],
   "source": [
    "# Even number -- Number divisible by 2 --> i%2 == 0\n",
    "10%2"
   ]
  },
  {
   "cell_type": "code",
   "execution_count": 48,
   "id": "218bd237",
   "metadata": {},
   "outputs": [
    {
     "data": {
      "text/plain": [
       "1"
      ]
     },
     "execution_count": 48,
     "metadata": {},
     "output_type": "execute_result"
    }
   ],
   "source": [
    "# Odd number --> Number not divisble by 2 --> i%2 != 0\n",
    "11%2"
   ]
  },
  {
   "cell_type": "code",
   "execution_count": 51,
   "id": "b2039b1c",
   "metadata": {},
   "outputs": [
    {
     "name": "stdout",
     "output_type": "stream",
     "text": [
      "10 is even\n",
      "12 is even\n",
      "14 is even\n",
      "16 is even\n",
      "18 is even\n",
      "20 is even\n",
      "22 is even\n",
      "24 is even\n",
      "26 is even\n",
      "28 is even\n",
      "30 is even\n"
     ]
    }
   ],
   "source": [
    "for i in range(10,31):\n",
    "    # print(i)\n",
    "    if i%2==0:\n",
    "        print(i, 'is even')"
   ]
  },
  {
   "cell_type": "code",
   "execution_count": 55,
   "id": "5702f08e",
   "metadata": {},
   "outputs": [
    {
     "name": "stdout",
     "output_type": "stream",
     "text": [
      "10 is even\n",
      "12 is even\n",
      "14 is even\n",
      "16 is even\n",
      "18 is even\n",
      "20 is even\n",
      "22 is even\n",
      "24 is even\n",
      "26 is even\n",
      "28 is even\n",
      "30 is even\n",
      "even_list: [10, 12, 14, 16, 18, 20, 22, 24, 26, 28, 30]\n"
     ]
    }
   ],
   "source": [
    "even_list = []\n",
    "\n",
    "for i in range(10,31):\n",
    "    if i%2==0:\n",
    "        print(i, 'is even')\n",
    "        even_list.append(i)\n",
    "        # print(even_list)\n",
    "print(\"even_list:\",even_list)"
   ]
  },
  {
   "cell_type": "code",
   "execution_count": 58,
   "id": "281962bc",
   "metadata": {},
   "outputs": [
    {
     "name": "stdout",
     "output_type": "stream",
     "text": [
      "i: 10\n",
      "10 is even\n",
      "i: 11\n",
      "11 is odd\n",
      "i: 12\n",
      "12 is even\n",
      "i: 13\n",
      "13 is odd\n",
      "i: 14\n",
      "14 is even\n",
      "i: 15\n",
      "15 is odd\n",
      "i: 16\n",
      "16 is even\n",
      "i: 17\n",
      "17 is odd\n",
      "i: 18\n",
      "18 is even\n",
      "i: 19\n",
      "19 is odd\n",
      "even_list: [10, 12, 14, 16, 18]\n",
      "odd_list: [11, 13, 15, 17, 19]\n"
     ]
    }
   ],
   "source": [
    "even_list = []\n",
    "odd_list = []\n",
    "\n",
    "for i in range(10,20):\n",
    "    print('i:',i)\n",
    "    if i%2==0:\n",
    "        print(i, 'is even')\n",
    "        even_list.append(i)\n",
    "    else:\n",
    "        print(i, 'is odd')\n",
    "        odd_list.append(i)\n",
    "print(\"even_list:\",even_list)\n",
    "print(\"odd_list:\",odd_list)"
   ]
  },
  {
   "cell_type": "code",
   "execution_count": 60,
   "id": "50ff677e",
   "metadata": {},
   "outputs": [
    {
     "name": "stdout",
     "output_type": "stream",
     "text": [
      "even_list: [10, 12, 14, 16, 18, 20, 22, 24, 26, 28]\n",
      "odd_list: [11, 13, 15, 17, 19, 21, 23, 25, 27, 29]\n"
     ]
    }
   ],
   "source": [
    "even_list = []\n",
    "odd_list = []\n",
    "\n",
    "for i in range(10,30):\n",
    "    # print('i:',i)\n",
    "    if i%2==0:\n",
    "        # print(i, 'is even')\n",
    "        even_list.append(i)\n",
    "    else:\n",
    "        # print(i, 'is odd')\n",
    "        odd_list.append(i)\n",
    "print(\"even_list:\",even_list)\n",
    "print(\"odd_list:\",odd_list)"
   ]
  },
  {
   "cell_type": "code",
   "execution_count": null,
   "id": "990456fd",
   "metadata": {},
   "outputs": [],
   "source": [
    "# Ex 3 --> Input_list: [100,200,300,200,400,200,100,200,300]\n",
    "# Output_dict: {100:2,200:4,300:2,400:1}"
   ]
  }
 ],
 "metadata": {
  "kernelspec": {
   "display_name": "Python 3",
   "language": "python",
   "name": "python3"
  },
  "language_info": {
   "codemirror_mode": {
    "name": "ipython",
    "version": 3
   },
   "file_extension": ".py",
   "mimetype": "text/x-python",
   "name": "python",
   "nbconvert_exporter": "python",
   "pygments_lexer": "ipython3",
   "version": "3.11.9"
  }
 },
 "nbformat": 4,
 "nbformat_minor": 5
}
