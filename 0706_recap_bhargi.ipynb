{
 "cells": [
  {
   "cell_type": "code",
   "execution_count": 3,
   "id": "fd651e2f-c6bf-4394-a0f4-1167ac73a40d",
   "metadata": {},
   "outputs": [
    {
     "name": "stdout",
     "output_type": "stream",
     "text": [
      "Hello World\n"
     ]
    }
   ],
   "source": [
    "print(\"Hello World\")"
   ]
  },
  {
   "cell_type": "code",
   "execution_count": 7,
   "id": "a1195e64-a526-4c57-a841-f63b7c3d8db3",
   "metadata": {},
   "outputs": [
    {
     "name": "stdout",
     "output_type": "stream",
     "text": [
      "😀😀Welcome back to Python programming Bhargavi!!😀😀\n"
     ]
    }
   ],
   "source": [
    "print(\"😀😀Welcome back to Python programming Bhargavi!!😀😀\")"
   ]
  },
  {
   "cell_type": "code",
   "execution_count": 11,
   "id": "7d8f98eb-9c9c-4c26-9901-bd4374f41ff7",
   "metadata": {},
   "outputs": [
    {
     "name": "stdout",
     "output_type": "stream",
     "text": [
      "Hello\n"
     ]
    }
   ],
   "source": [
    "print(\"Hello\")"
   ]
  },
  {
   "cell_type": "code",
   "execution_count": 15,
   "id": "80dcc730-7b8f-46f1-90db-32d4a1117653",
   "metadata": {},
   "outputs": [],
   "source": [
    "# This is comment"
   ]
  },
  {
   "cell_type": "markdown",
   "id": "44181997-6179-4908-b124-8f5e9f500829",
   "metadata": {},
   "source": [
    "# Python Datatypes\n",
    "- String\n",
    "- Integer\n",
    "- Float\n",
    "- Boolean\n",
    "- Complex"
   ]
  },
  {
   "cell_type": "code",
   "execution_count": 19,
   "id": "b04b4a57-b4ad-4f2d-bdac-4ece0ab9aec8",
   "metadata": {},
   "outputs": [
    {
     "data": {
      "text/plain": [
       "'Bhargavi'"
      ]
     },
     "execution_count": 19,
     "metadata": {},
     "output_type": "execute_result"
    }
   ],
   "source": [
    "'Bhargavi'"
   ]
  },
  {
   "cell_type": "code",
   "execution_count": 23,
   "id": "45e97950-7c7f-4630-a805-c9563f67b05a",
   "metadata": {},
   "outputs": [
    {
     "data": {
      "text/plain": [
       "str"
      ]
     },
     "execution_count": 23,
     "metadata": {},
     "output_type": "execute_result"
    }
   ],
   "source": [
    "type('Bhargavi')"
   ]
  },
  {
   "cell_type": "code",
   "execution_count": 21,
   "id": "4cda6dbd-0656-4eac-819c-1584851f7c8b",
   "metadata": {},
   "outputs": [
    {
     "data": {
      "text/plain": [
       "'nandini'"
      ]
     },
     "execution_count": 21,
     "metadata": {},
     "output_type": "execute_result"
    }
   ],
   "source": [
    "\"nandini\""
   ]
  },
  {
   "cell_type": "code",
   "execution_count": 25,
   "id": "3b77e0f4-651e-4f46-a628-8e1991f852d9",
   "metadata": {},
   "outputs": [
    {
     "data": {
      "text/plain": [
       "str"
      ]
     },
     "execution_count": 25,
     "metadata": {},
     "output_type": "execute_result"
    }
   ],
   "source": [
    "type(\"nandini\")"
   ]
  },
  {
   "cell_type": "code",
   "execution_count": 27,
   "id": "8222c37d-185a-4b15-ba07-f9514a51e73a",
   "metadata": {},
   "outputs": [
    {
     "data": {
      "text/plain": [
       "'This \\nis\\nmulti-line\\nstring\\n'"
      ]
     },
     "execution_count": 27,
     "metadata": {},
     "output_type": "execute_result"
    }
   ],
   "source": [
    "'''This \n",
    "is\n",
    "multi-line\n",
    "string\n",
    "'''"
   ]
  },
  {
   "cell_type": "code",
   "execution_count": 29,
   "id": "d9e0dca4-9f26-4ebb-8560-052a106c6ab2",
   "metadata": {},
   "outputs": [
    {
     "data": {
      "text/plain": [
       "str"
      ]
     },
     "execution_count": 29,
     "metadata": {},
     "output_type": "execute_result"
    }
   ],
   "source": [
    "type('''This \n",
    "is\n",
    "multi-line\n",
    "string\n",
    "''')"
   ]
  },
  {
   "cell_type": "code",
   "execution_count": 31,
   "id": "09c17ae9-c4b6-4c79-b030-777438d12c57",
   "metadata": {},
   "outputs": [
    {
     "data": {
      "text/plain": [
       "'This \\nis also\\nmulti-line\\nstring\\n'"
      ]
     },
     "execution_count": 31,
     "metadata": {},
     "output_type": "execute_result"
    }
   ],
   "source": [
    "\"\"\"This \n",
    "is also\n",
    "multi-line\n",
    "string\n",
    "\"\"\""
   ]
  },
  {
   "cell_type": "code",
   "execution_count": 33,
   "id": "54be2aab-ebfb-4ec8-9fd4-1d7b7bb2ec46",
   "metadata": {},
   "outputs": [
    {
     "data": {
      "text/plain": [
       "str"
      ]
     },
     "execution_count": 33,
     "metadata": {},
     "output_type": "execute_result"
    }
   ],
   "source": [
    "type(\"\"\"This \n",
    "is also\n",
    "multi-line\n",
    "string\n",
    "\"\"\")"
   ]
  },
  {
   "cell_type": "code",
   "execution_count": 35,
   "id": "92b71d4a-93b6-4704-8111-1cb8e3146bb9",
   "metadata": {},
   "outputs": [
    {
     "name": "stdout",
     "output_type": "stream",
     "text": [
      "This \n",
      "is also\n",
      "multi-line\n",
      "string\n",
      "\n"
     ]
    }
   ],
   "source": [
    "print(\"\"\"This \n",
    "is also\n",
    "multi-line\n",
    "string\n",
    "\"\"\")"
   ]
  },
  {
   "cell_type": "code",
   "execution_count": 37,
   "id": "de7d3996-9f14-4b47-9abe-550d3887cf43",
   "metadata": {},
   "outputs": [
    {
     "data": {
      "text/plain": [
       "123"
      ]
     },
     "execution_count": 37,
     "metadata": {},
     "output_type": "execute_result"
    }
   ],
   "source": [
    "123 # integer"
   ]
  },
  {
   "cell_type": "code",
   "execution_count": 39,
   "id": "818817e6-19a2-40f2-bd2b-a34966f3af4b",
   "metadata": {},
   "outputs": [
    {
     "data": {
      "text/plain": [
       "int"
      ]
     },
     "execution_count": 39,
     "metadata": {},
     "output_type": "execute_result"
    }
   ],
   "source": [
    "type(123)"
   ]
  },
  {
   "cell_type": "code",
   "execution_count": 41,
   "id": "0cc3bae1-be64-493a-8035-d9ed632be421",
   "metadata": {},
   "outputs": [
    {
     "data": {
      "text/plain": [
       "123.4"
      ]
     },
     "execution_count": 41,
     "metadata": {},
     "output_type": "execute_result"
    }
   ],
   "source": [
    "123.4 # float"
   ]
  },
  {
   "cell_type": "code",
   "execution_count": 43,
   "id": "13693544-d993-4eb1-9c4d-be7cac207b8e",
   "metadata": {},
   "outputs": [
    {
     "data": {
      "text/plain": [
       "float"
      ]
     },
     "execution_count": 43,
     "metadata": {},
     "output_type": "execute_result"
    }
   ],
   "source": [
    "type(123.4)"
   ]
  },
  {
   "cell_type": "code",
   "execution_count": 45,
   "id": "a3079715-bf05-437d-9b55-94f806bf06dd",
   "metadata": {},
   "outputs": [
    {
     "data": {
      "text/plain": [
       "123.0"
      ]
     },
     "execution_count": 45,
     "metadata": {},
     "output_type": "execute_result"
    }
   ],
   "source": [
    "123.0 # float"
   ]
  },
  {
   "cell_type": "code",
   "execution_count": 47,
   "id": "1567c4d6-f371-44ea-af43-2cf0a33ac4eb",
   "metadata": {},
   "outputs": [
    {
     "data": {
      "text/plain": [
       "float"
      ]
     },
     "execution_count": 47,
     "metadata": {},
     "output_type": "execute_result"
    }
   ],
   "source": [
    "type(123.0)"
   ]
  },
  {
   "cell_type": "code",
   "execution_count": 49,
   "id": "6f369771-4bc4-4ec5-8e68-ff805b8b559d",
   "metadata": {},
   "outputs": [
    {
     "data": {
      "text/plain": [
       "True"
      ]
     },
     "execution_count": 49,
     "metadata": {},
     "output_type": "execute_result"
    }
   ],
   "source": [
    "True # boolean"
   ]
  },
  {
   "cell_type": "code",
   "execution_count": 51,
   "id": "4d5a71a8-62a3-4ebe-9bee-d0f1f8c6db4c",
   "metadata": {},
   "outputs": [
    {
     "data": {
      "text/plain": [
       "bool"
      ]
     },
     "execution_count": 51,
     "metadata": {},
     "output_type": "execute_result"
    }
   ],
   "source": [
    "type(True)"
   ]
  },
  {
   "cell_type": "code",
   "execution_count": 53,
   "id": "ce58d4f6-d254-43ad-aa53-d27bc4ccfc5d",
   "metadata": {},
   "outputs": [
    {
     "data": {
      "text/plain": [
       "False"
      ]
     },
     "execution_count": 53,
     "metadata": {},
     "output_type": "execute_result"
    }
   ],
   "source": [
    "False # boolean"
   ]
  },
  {
   "cell_type": "code",
   "execution_count": 55,
   "id": "a2510b67-c2d2-4b37-a84a-51e79b20edf5",
   "metadata": {},
   "outputs": [
    {
     "data": {
      "text/plain": [
       "bool"
      ]
     },
     "execution_count": 55,
     "metadata": {},
     "output_type": "execute_result"
    }
   ],
   "source": [
    "type(False)"
   ]
  },
  {
   "cell_type": "code",
   "execution_count": 59,
   "id": "bf8bd6d6-761c-4e0d-95cc-32f9c79e5a2f",
   "metadata": {},
   "outputs": [
    {
     "ename": "NameError",
     "evalue": "name 'false' is not defined",
     "output_type": "error",
     "traceback": [
      "\u001b[1;31m---------------------------------------------------------------------------\u001b[0m",
      "\u001b[1;31mNameError\u001b[0m                                 Traceback (most recent call last)",
      "Cell \u001b[1;32mIn[59], line 1\u001b[0m\n\u001b[1;32m----> 1\u001b[0m \u001b[43mfalse\u001b[49m \u001b[38;5;66;03m# this is not boolean --> interpreter considers it as a variable name\u001b[39;00m\n",
      "\u001b[1;31mNameError\u001b[0m: name 'false' is not defined"
     ]
    }
   ],
   "source": [
    "false # this is not boolean --> interpreter considers it as a variable name"
   ]
  },
  {
   "cell_type": "code",
   "execution_count": 63,
   "id": "cf474fe6-c66b-41db-9c24-7d5773fd0f82",
   "metadata": {},
   "outputs": [
    {
     "data": {
      "text/plain": [
       "(2+3j)"
      ]
     },
     "execution_count": 63,
     "metadata": {},
     "output_type": "execute_result"
    }
   ],
   "source": [
    "2+3j # complex"
   ]
  },
  {
   "cell_type": "code",
   "execution_count": 65,
   "id": "1d636981-16ec-402b-87f0-2af7c344ee85",
   "metadata": {},
   "outputs": [
    {
     "data": {
      "text/plain": [
       "complex"
      ]
     },
     "execution_count": 65,
     "metadata": {},
     "output_type": "execute_result"
    }
   ],
   "source": [
    "type(2+3j)"
   ]
  },
  {
   "cell_type": "code",
   "execution_count": 69,
   "id": "4dda3c84-b4d5-4344-b27a-4b831ac48578",
   "metadata": {},
   "outputs": [
    {
     "data": {
      "text/plain": [
       "(2+0j)"
      ]
     },
     "execution_count": 69,
     "metadata": {},
     "output_type": "execute_result"
    }
   ],
   "source": [
    "2+0j # complex"
   ]
  },
  {
   "cell_type": "code",
   "execution_count": 71,
   "id": "26e638fa-6f5e-47fa-bc37-6b4b0d103247",
   "metadata": {},
   "outputs": [
    {
     "data": {
      "text/plain": [
       "complex"
      ]
     },
     "execution_count": 71,
     "metadata": {},
     "output_type": "execute_result"
    }
   ],
   "source": [
    "type(2+0j) "
   ]
  },
  {
   "cell_type": "markdown",
   "id": "e8310448-c33f-4b5e-9c0d-e19df4c8e409",
   "metadata": {},
   "source": [
    "# Python Datatype - None"
   ]
  },
  {
   "cell_type": "code",
   "execution_count": 74,
   "id": "c9731023-19e5-4167-86b5-b70560e92f63",
   "metadata": {},
   "outputs": [],
   "source": [
    "None"
   ]
  },
  {
   "cell_type": "code",
   "execution_count": 76,
   "id": "3480208d-9a66-4911-8d86-a7112a45fdc6",
   "metadata": {},
   "outputs": [
    {
     "name": "stdout",
     "output_type": "stream",
     "text": [
      "None\n"
     ]
    }
   ],
   "source": [
    "print(None)"
   ]
  },
  {
   "cell_type": "code",
   "execution_count": 78,
   "id": "90b68b4a-997e-4188-a33a-0b49b1ba8749",
   "metadata": {},
   "outputs": [
    {
     "data": {
      "text/plain": [
       "NoneType"
      ]
     },
     "execution_count": 78,
     "metadata": {},
     "output_type": "execute_result"
    }
   ],
   "source": [
    "type(None)"
   ]
  },
  {
   "cell_type": "markdown",
   "id": "04fa1784-6028-424c-bf57-324978df814b",
   "metadata": {},
   "source": [
    "# Python variables"
   ]
  },
  {
   "cell_type": "code",
   "execution_count": 81,
   "id": "38d191c9-5433-4ec2-b865-03d53bc967d6",
   "metadata": {},
   "outputs": [],
   "source": [
    "name = \"Ram\""
   ]
  },
  {
   "cell_type": "code",
   "execution_count": 83,
   "id": "b4ad39df-a69b-481f-a094-ef5d880695ee",
   "metadata": {},
   "outputs": [
    {
     "data": {
      "text/plain": [
       "'Ram'"
      ]
     },
     "execution_count": 83,
     "metadata": {},
     "output_type": "execute_result"
    }
   ],
   "source": [
    "name"
   ]
  },
  {
   "cell_type": "code",
   "execution_count": 85,
   "id": "1e5449fe-a5b6-4e09-8251-51f0ac5a5314",
   "metadata": {},
   "outputs": [
    {
     "name": "stdout",
     "output_type": "stream",
     "text": [
      "Ram\n"
     ]
    }
   ],
   "source": [
    "print(name)"
   ]
  },
  {
   "cell_type": "code",
   "execution_count": 87,
   "id": "fca392fa-7d9b-4ecb-8998-6f3ccca2f111",
   "metadata": {},
   "outputs": [
    {
     "data": {
      "text/plain": [
       "str"
      ]
     },
     "execution_count": 87,
     "metadata": {},
     "output_type": "execute_result"
    }
   ],
   "source": [
    "type(name)"
   ]
  },
  {
   "cell_type": "code",
   "execution_count": 99,
   "id": "fc6cb9fb-eb77-477d-8076-17d6af53b316",
   "metadata": {},
   "outputs": [],
   "source": [
    "name = 14 # Can reassign values of different types"
   ]
  },
  {
   "cell_type": "code",
   "execution_count": 101,
   "id": "831320b5-831e-442a-8468-9aa10f483e9d",
   "metadata": {},
   "outputs": [
    {
     "data": {
      "text/plain": [
       "14"
      ]
     },
     "execution_count": 101,
     "metadata": {},
     "output_type": "execute_result"
    }
   ],
   "source": [
    "name"
   ]
  },
  {
   "cell_type": "code",
   "execution_count": 105,
   "id": "3585001a-ff7d-46d1-94a5-cf48f3629129",
   "metadata": {},
   "outputs": [
    {
     "data": {
      "text/plain": [
       "int"
      ]
     },
     "execution_count": 105,
     "metadata": {},
     "output_type": "execute_result"
    }
   ],
   "source": [
    "type(name)"
   ]
  },
  {
   "cell_type": "code",
   "execution_count": 107,
   "id": "07defc18-3df7-41a2-98f7-a914f8350bb6",
   "metadata": {},
   "outputs": [],
   "source": [
    "name = None"
   ]
  },
  {
   "cell_type": "code",
   "execution_count": 109,
   "id": "99482616-f947-48be-bb0d-3fcc0cd66114",
   "metadata": {},
   "outputs": [
    {
     "data": {
      "text/plain": [
       "NoneType"
      ]
     },
     "execution_count": 109,
     "metadata": {},
     "output_type": "execute_result"
    }
   ],
   "source": [
    "type(name)"
   ]
  },
  {
   "cell_type": "code",
   "execution_count": 111,
   "id": "107c0989-d77c-4086-8a62-6d99bcc44c63",
   "metadata": {},
   "outputs": [
    {
     "name": "stdout",
     "output_type": "stream",
     "text": [
      "None\n"
     ]
    }
   ],
   "source": [
    "print(name)"
   ]
  },
  {
   "cell_type": "code",
   "execution_count": 113,
   "id": "cf63194e-4ecf-41ab-aeb2-a6e9cbfa6beb",
   "metadata": {},
   "outputs": [],
   "source": [
    "name = \"Ram\"\n",
    "age = 14"
   ]
  },
  {
   "cell_type": "code",
   "execution_count": 115,
   "id": "4019bf53-1188-407e-9615-d42067132b4e",
   "metadata": {},
   "outputs": [
    {
     "data": {
      "text/plain": [
       "str"
      ]
     },
     "execution_count": 115,
     "metadata": {},
     "output_type": "execute_result"
    }
   ],
   "source": [
    "type(name)"
   ]
  },
  {
   "cell_type": "code",
   "execution_count": 117,
   "id": "de40e2bc-1986-41ed-ae93-b8dd5081c79e",
   "metadata": {},
   "outputs": [
    {
     "data": {
      "text/plain": [
       "int"
      ]
     },
     "execution_count": 117,
     "metadata": {},
     "output_type": "execute_result"
    }
   ],
   "source": [
    "type(age)"
   ]
  },
  {
   "cell_type": "markdown",
   "id": "c419cd59-a19a-4449-bf13-52087e6ae8a5",
   "metadata": {},
   "source": [
    "## Variable Naming Convention\n",
    "- should start with letters or _ (underscore)\n",
    "- no special characters except underscore(_)\n",
    "- they are case sensitive\n",
    "- should not use keywords like for, if, and, or, in, etc.,"
   ]
  },
  {
   "cell_type": "code",
   "execution_count": 119,
   "id": "7d7c0bf0-0746-44a3-808f-66b952981e88",
   "metadata": {},
   "outputs": [],
   "source": [
    "a = 10\n",
    "A = 100"
   ]
  },
  {
   "cell_type": "code",
   "execution_count": 121,
   "id": "d034ffe0-a0ca-40e3-a4f2-e213483e5787",
   "metadata": {},
   "outputs": [
    {
     "data": {
      "text/plain": [
       "10"
      ]
     },
     "execution_count": 121,
     "metadata": {},
     "output_type": "execute_result"
    }
   ],
   "source": [
    "a"
   ]
  },
  {
   "cell_type": "code",
   "execution_count": 123,
   "id": "76315753-c4a2-4446-b7be-637ee336ea7a",
   "metadata": {},
   "outputs": [
    {
     "data": {
      "text/plain": [
       "100"
      ]
     },
     "execution_count": 123,
     "metadata": {},
     "output_type": "execute_result"
    }
   ],
   "source": [
    "A"
   ]
  },
  {
   "cell_type": "code",
   "execution_count": 125,
   "id": "e40dce8d-ef01-482c-95d5-e59a51977fd6",
   "metadata": {},
   "outputs": [],
   "source": [
    "_yob = 1990"
   ]
  },
  {
   "cell_type": "code",
   "execution_count": 127,
   "id": "3fa3c358-7612-4250-b565-ae47f012b2f8",
   "metadata": {},
   "outputs": [
    {
     "ename": "SyntaxError",
     "evalue": "invalid decimal literal (563157281.py, line 1)",
     "output_type": "error",
     "traceback": [
      "\u001b[1;36m  Cell \u001b[1;32mIn[127], line 1\u001b[1;36m\u001b[0m\n\u001b[1;33m    1a = \"July\"\u001b[0m\n\u001b[1;37m    ^\u001b[0m\n\u001b[1;31mSyntaxError\u001b[0m\u001b[1;31m:\u001b[0m invalid decimal literal\n"
     ]
    }
   ],
   "source": [
    "1a = \"July\""
   ]
  },
  {
   "cell_type": "code",
   "execution_count": 129,
   "id": "d36622c7-b477-401c-8bda-3dd2caa3593a",
   "metadata": {},
   "outputs": [],
   "source": [
    "_1a = \"July\""
   ]
  },
  {
   "cell_type": "code",
   "execution_count": 131,
   "id": "38faa776-3ff0-411e-8de7-d0fc3658273d",
   "metadata": {},
   "outputs": [
    {
     "data": {
      "text/plain": [
       "'July'"
      ]
     },
     "execution_count": 131,
     "metadata": {},
     "output_type": "execute_result"
    }
   ],
   "source": [
    "_1a"
   ]
  },
  {
   "cell_type": "markdown",
   "id": "af741c10-474e-4e56-8e6d-acf269e06fda",
   "metadata": {},
   "source": [
    "# Operators\n",
    "- Arithmetic\n",
    "- Comparision\n",
    "- Logical\n",
    "- Assignment"
   ]
  },
  {
   "cell_type": "markdown",
   "id": "374a6cef-b758-4230-a568-12f02f41fd95",
   "metadata": {},
   "source": [
    "## Arithmetic Operators\n",
    "- **+** : addition\n",
    "- **-** : subtraction\n",
    "- '*' : multiplication\n",
    "- **/** : division\n",
    "- **//** : integer division - quotient\n",
    "- **%** : modulus operator - reminder\n",
    "- '**' : exponential - power of "
   ]
  },
  {
   "cell_type": "code",
   "execution_count": 150,
   "id": "d26ff6e6-a6bb-433a-acc7-c342eab2a0f6",
   "metadata": {},
   "outputs": [
    {
     "data": {
      "text/plain": [
       "17"
      ]
     },
     "execution_count": 150,
     "metadata": {},
     "output_type": "execute_result"
    }
   ],
   "source": [
    "12 + 5"
   ]
  },
  {
   "cell_type": "code",
   "execution_count": 152,
   "id": "59e83ce4-2bba-4b3e-b326-2df3196d2bbe",
   "metadata": {},
   "outputs": [
    {
     "data": {
      "text/plain": [
       "7"
      ]
     },
     "execution_count": 152,
     "metadata": {},
     "output_type": "execute_result"
    }
   ],
   "source": [
    "12 - 5"
   ]
  },
  {
   "cell_type": "code",
   "execution_count": 154,
   "id": "d6c4497b-f054-4839-9638-be60ca54cafd",
   "metadata": {},
   "outputs": [
    {
     "data": {
      "text/plain": [
       "2.4"
      ]
     },
     "execution_count": 154,
     "metadata": {},
     "output_type": "execute_result"
    }
   ],
   "source": [
    "12 / 5"
   ]
  },
  {
   "cell_type": "code",
   "execution_count": 156,
   "id": "bb913c18-d6b3-449e-adf2-f7a9c5c741c6",
   "metadata": {},
   "outputs": [
    {
     "data": {
      "text/plain": [
       "2"
      ]
     },
     "execution_count": 156,
     "metadata": {},
     "output_type": "execute_result"
    }
   ],
   "source": [
    "12 // 5"
   ]
  },
  {
   "cell_type": "code",
   "execution_count": 158,
   "id": "16e5ea7e-c029-4c7a-841d-84ed3ba0b088",
   "metadata": {},
   "outputs": [
    {
     "data": {
      "text/plain": [
       "2"
      ]
     },
     "execution_count": 158,
     "metadata": {},
     "output_type": "execute_result"
    }
   ],
   "source": [
    "12 % 5"
   ]
  },
  {
   "cell_type": "code",
   "execution_count": 164,
   "id": "fea6ec59-0f4b-4641-ad55-62fcd8695adf",
   "metadata": {},
   "outputs": [
    {
     "data": {
      "text/plain": [
       "4"
      ]
     },
     "execution_count": 164,
     "metadata": {},
     "output_type": "execute_result"
    }
   ],
   "source": [
    "14 % 5"
   ]
  },
  {
   "cell_type": "code",
   "execution_count": 166,
   "id": "45a9f82b-d00f-4c2d-9226-f2cdec82dc45",
   "metadata": {},
   "outputs": [
    {
     "data": {
      "text/plain": [
       "8"
      ]
     },
     "execution_count": 166,
     "metadata": {},
     "output_type": "execute_result"
    }
   ],
   "source": [
    "2 ** 3"
   ]
  },
  {
   "cell_type": "code",
   "execution_count": 168,
   "id": "82e04301-9a30-4bc9-b94a-4ac45113cab1",
   "metadata": {},
   "outputs": [
    {
     "data": {
      "text/plain": [
       "16"
      ]
     },
     "execution_count": 168,
     "metadata": {},
     "output_type": "execute_result"
    }
   ],
   "source": [
    "4**2"
   ]
  },
  {
   "cell_type": "markdown",
   "id": "dd6f4451-e045-4cf1-ad90-37aae96eeeaf",
   "metadata": {},
   "source": [
    "## Comparision Operators\n",
    "- **==** : equal to\n",
    "- **!=** : not equal to\n",
    "- **>** : greater than\n",
    "- **<** : less than\n",
    "- **>=** : greater than or equal to\n",
    "- **<=** : less than or equal to"
   ]
  },
  {
   "cell_type": "code",
   "execution_count": null,
   "id": "bd2f5693-8ccc-483b-b0e3-55d55e3cdb71",
   "metadata": {},
   "outputs": [],
   "source": []
  }
 ],
 "metadata": {
  "kernelspec": {
   "display_name": "Python 3 (ipykernel)",
   "language": "python",
   "name": "python3"
  },
  "language_info": {
   "codemirror_mode": {
    "name": "ipython",
    "version": 3
   },
   "file_extension": ".py",
   "mimetype": "text/x-python",
   "name": "python",
   "nbconvert_exporter": "python",
   "pygments_lexer": "ipython3",
   "version": "3.12.4"
  }
 },
 "nbformat": 4,
 "nbformat_minor": 5
}
