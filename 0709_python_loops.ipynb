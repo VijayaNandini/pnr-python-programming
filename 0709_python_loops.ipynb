{
 "cells": [
  {
   "cell_type": "markdown",
   "id": "432c3597-c217-4170-8574-b7e6f9b7d715",
   "metadata": {},
   "source": [
    "# Python Loops\n",
    "For a piece of code to execute multiple time - loops are used\n",
    "- for : when the number of iterations is known\n",
    "- while : when iterations should continue until a condition is met"
   ]
  },
  {
   "cell_type": "code",
   "execution_count": 3,
   "id": "bdb5b609-7df1-4887-be19-25810c6902b2",
   "metadata": {},
   "outputs": [],
   "source": [
    "# print first 10 odd numbers\n",
    "# if number is not divisible by 2 --> odd\n",
    "# if number is divisible by 2 --> even"
   ]
  },
  {
   "cell_type": "code",
   "execution_count": 9,
   "id": "e126ef18-5d63-405f-a79b-d0c2e179859f",
   "metadata": {},
   "outputs": [
    {
     "name": "stdout",
     "output_type": "stream",
     "text": [
      "1\n",
      "True\n",
      "False\n",
      "False\n"
     ]
    }
   ],
   "source": [
    "# for single input\n",
    "number = 5\n",
    "print(number%2)\n",
    "print(number%2==1) # odd\n",
    "print(number%2!=1) # even\n",
    "print(number%2==0) # even"
   ]
  },
  {
   "cell_type": "code",
   "execution_count": 13,
   "id": "46a4af73-6ab2-44a3-8b7a-4178b69ba336",
   "metadata": {},
   "outputs": [
    {
     "name": "stdout",
     "output_type": "stream",
     "text": [
      "0\n",
      "False\n",
      "False\n",
      "True\n",
      "True\n"
     ]
    }
   ],
   "source": [
    "# for single input\n",
    "number = 4\n",
    "print(number%2)\n",
    "print(number%2==1) # odd\n",
    "print(number%2!=0) # odd\n",
    "print(number%2!=1) # even\n",
    "print(number%2==0) # even"
   ]
  },
  {
   "cell_type": "code",
   "execution_count": 19,
   "id": "fd73a959-0daf-43de-a30f-b7755639f1d9",
   "metadata": {},
   "outputs": [
    {
     "name": "stdout",
     "output_type": "stream",
     "text": [
      "5 is odd\n"
     ]
    }
   ],
   "source": [
    "# print first 10 odd numbers  - Ex: 1,3,5,7,9,11,13,15,17,19\n",
    "number = 5\n",
    "if number%2==1:  # odd\n",
    "    print(number,'is odd')"
   ]
  },
  {
   "cell_type": "code",
   "execution_count": 21,
   "id": "23956100-91c3-417b-9b4b-2fef8934f8c0",
   "metadata": {},
   "outputs": [
    {
     "name": "stdout",
     "output_type": "stream",
     "text": [
      "0\n",
      "1\n",
      "2\n",
      "3\n",
      "4\n",
      "5\n",
      "6\n",
      "7\n",
      "8\n",
      "9\n"
     ]
    }
   ],
   "source": [
    "for i in range(10):\n",
    "    print(i)"
   ]
  },
  {
   "cell_type": "code",
   "execution_count": 23,
   "id": "b96dffe9-9cd5-4a4c-8d94-abf0591cd84d",
   "metadata": {},
   "outputs": [
    {
     "data": {
      "text/plain": [
       "range(0, 10)"
      ]
     },
     "execution_count": 23,
     "metadata": {},
     "output_type": "execute_result"
    }
   ],
   "source": [
    "range(10)"
   ]
  },
  {
   "cell_type": "code",
   "execution_count": 25,
   "id": "057a33d7-a383-439c-8c1b-2c0b95e87849",
   "metadata": {},
   "outputs": [
    {
     "data": {
      "text/plain": [
       "[0, 1, 2, 3, 4, 5, 6, 7, 8, 9]"
      ]
     },
     "execution_count": 25,
     "metadata": {},
     "output_type": "execute_result"
    }
   ],
   "source": [
    "list(range(10))"
   ]
  },
  {
   "cell_type": "code",
   "execution_count": 27,
   "id": "78cf33dc-8991-4bb3-abc3-0720c6312a8e",
   "metadata": {},
   "outputs": [
    {
     "data": {
      "text/plain": [
       "[0, 1, 2, 3, 4]"
      ]
     },
     "execution_count": 27,
     "metadata": {},
     "output_type": "execute_result"
    }
   ],
   "source": [
    "list(range(5))"
   ]
  },
  {
   "cell_type": "code",
   "execution_count": 29,
   "id": "00bf8c8a-f61b-42b7-9e25-4b51f6b73eed",
   "metadata": {},
   "outputs": [
    {
     "data": {
      "text/plain": [
       "[0, 1, 2, 3, 4, 5, 6, 7, 8, 9, 10, 11, 12, 13, 14]"
      ]
     },
     "execution_count": 29,
     "metadata": {},
     "output_type": "execute_result"
    }
   ],
   "source": [
    "list(range(15))"
   ]
  },
  {
   "cell_type": "code",
   "execution_count": 33,
   "id": "1794e709-2716-4524-b37d-482a9eecfe8f",
   "metadata": {},
   "outputs": [
    {
     "name": "stdout",
     "output_type": "stream",
     "text": [
      "0\n",
      "completed iteration\n",
      "1\n",
      "completed iteration\n",
      "2\n",
      "completed iteration\n",
      "3\n",
      "completed iteration\n",
      "4\n",
      "completed iteration\n",
      "5\n",
      "completed iteration\n",
      "6\n",
      "completed iteration\n",
      "7\n",
      "completed iteration\n",
      "8\n",
      "completed iteration\n",
      "9\n",
      "completed iteration\n"
     ]
    }
   ],
   "source": [
    "for i in range(10):  # [0, 1, 2, 3, 4, 5, 6, 7, 8, 9]\n",
    "    print(i)\n",
    "    print('completed iteration')"
   ]
  },
  {
   "cell_type": "code",
   "execution_count": 37,
   "id": "917cad72-4d4b-43c0-adb4-ae11178ed9ba",
   "metadata": {},
   "outputs": [
    {
     "name": "stdout",
     "output_type": "stream",
     "text": [
      "0\n",
      "completed iteration\n",
      "1\n",
      "completed iteration\n",
      "2\n",
      "completed iteration\n",
      "3\n",
      "completed iteration\n",
      "4\n",
      "completed iteration\n",
      "This is outside of for loop\n"
     ]
    }
   ],
   "source": [
    "for i in range(5):  # [0, 1, 2, 3, 4]\n",
    "    print(i)\n",
    "    print('completed iteration')\n",
    "# End of for loop\n",
    "print('This is outside of for loop')"
   ]
  },
  {
   "cell_type": "code",
   "execution_count": 39,
   "id": "ea971483-fdc8-4cdf-8f58-ce63480dcdd3",
   "metadata": {},
   "outputs": [
    {
     "data": {
      "text/plain": [
       "[0, 1, 2, 3, 4, 5, 6, 7, 8, 9, 10, 11, 12, 13, 14, 15, 16, 17, 18, 19]"
      ]
     },
     "execution_count": 39,
     "metadata": {},
     "output_type": "execute_result"
    }
   ],
   "source": [
    "# print first 10 odd numbers  - Ex: 1,3,5,7,9,11,13,15,17,19\n",
    "list(range(20))"
   ]
  },
  {
   "cell_type": "code",
   "execution_count": 61,
   "id": "0a528d43-7cf7-484c-8af4-0feb695be5c7",
   "metadata": {},
   "outputs": [
    {
     "data": {
      "text/plain": [
       "0"
      ]
     },
     "execution_count": 61,
     "metadata": {},
     "output_type": "execute_result"
    }
   ],
   "source": [
    "0%2"
   ]
  },
  {
   "cell_type": "code",
   "execution_count": 63,
   "id": "fcead446-de44-45fc-a376-ce056b17bbeb",
   "metadata": {},
   "outputs": [
    {
     "name": "stdout",
     "output_type": "stream",
     "text": [
      "0 0 False\n",
      "1 1 True\n",
      "1 is odd\n",
      "2 0 False\n",
      "3 1 True\n",
      "3 is odd\n",
      "4 0 False\n",
      "5 1 True\n",
      "5 is odd\n",
      "6 0 False\n",
      "7 1 True\n",
      "7 is odd\n",
      "8 0 False\n",
      "9 1 True\n",
      "9 is odd\n",
      "10 0 False\n",
      "11 1 True\n",
      "11 is odd\n",
      "12 0 False\n",
      "13 1 True\n",
      "13 is odd\n",
      "14 0 False\n",
      "15 1 True\n",
      "15 is odd\n",
      "16 0 False\n",
      "17 1 True\n",
      "17 is odd\n",
      "18 0 False\n",
      "19 1 True\n",
      "19 is odd\n"
     ]
    }
   ],
   "source": [
    "for i in range(20):\n",
    "    # print(f'i:{i}',f'i%2:{i%2}')\n",
    "    print(i,i%2,i%2==1)\n",
    "    if i%2==1:\n",
    "        print(i,'is odd')"
   ]
  },
  {
   "cell_type": "code",
   "execution_count": 49,
   "id": "6e5643d5-b319-4d5d-b279-e4a8edd65cf1",
   "metadata": {},
   "outputs": [
    {
     "name": "stdout",
     "output_type": "stream",
     "text": [
      "The value of number is 100\n",
      "number: 100\n"
     ]
    }
   ],
   "source": [
    "number = 100\n",
    "print(f'The value of number is {number}')\n",
    "print(f'number: {number}')"
   ]
  },
  {
   "cell_type": "code",
   "execution_count": 77,
   "id": "d6cc360f-f987-41b4-a0c5-a1eab24277c3",
   "metadata": {},
   "outputs": [
    {
     "name": "stdout",
     "output_type": "stream",
     "text": [
      "1 is odd\n",
      "3 is odd\n",
      "5 is odd\n",
      "7 is odd\n",
      "9 is odd\n",
      "11 is odd\n",
      "13 is odd\n",
      "15 is odd\n",
      "17 is odd\n",
      "19 is odd\n"
     ]
    }
   ],
   "source": [
    "for i in range(20):\n",
    "    # print(i,i%2,i%2==1)\n",
    "    if i%2==1:\n",
    "        print(i,'is odd')\n",
    "    # End of if\n",
    "# End of for loop\n",
    "# Ideal output: [1,3,5,7,9,11,13,15,17,19]"
   ]
  },
  {
   "cell_type": "markdown",
   "id": "4bec72be-1631-4229-a872-0375f263c3ce",
   "metadata": {},
   "source": [
    "# 20250715 - Recap"
   ]
  },
  {
   "cell_type": "code",
   "execution_count": 1,
   "id": "2968fba5-64bf-40fc-b54f-1922831842fc",
   "metadata": {},
   "outputs": [],
   "source": [
    "# Python loops\n",
    "# 1. for loop - to iterate definite number of times\n",
    "# 2. While loop - to iterate indefinite number of times or to iterate until the condition is met"
   ]
  },
  {
   "cell_type": "code",
   "execution_count": 11,
   "id": "3be3d955-d3e8-4398-9452-739e5d0cded1",
   "metadata": {},
   "outputs": [
    {
     "data": {
      "text/plain": [
       "[0, 1, 2, 3, 4, 5, 6, 7, 8, 9]"
      ]
     },
     "execution_count": 11,
     "metadata": {},
     "output_type": "execute_result"
    }
   ],
   "source": [
    "list(range(10))\n",
    "# range(10)\n",
    "# print(range(10))"
   ]
  },
  {
   "cell_type": "code",
   "execution_count": 13,
   "id": "80b87580-283c-4c52-b9da-9b042072270a",
   "metadata": {},
   "outputs": [
    {
     "name": "stdout",
     "output_type": "stream",
     "text": [
      "iteration 0\n",
      "iteration 1\n",
      "iteration 2\n",
      "iteration 3\n",
      "iteration 4\n",
      "iteration 5\n",
      "iteration 6\n",
      "iteration 7\n",
      "iteration 8\n",
      "iteration 9\n"
     ]
    }
   ],
   "source": [
    "# loop executes from [0,1,2,3,...9]\n",
    "for i in range(10):\n",
    "    print(\"iteration\",i)\n",
    "#"
   ]
  },
  {
   "cell_type": "code",
   "execution_count": 19,
   "id": "38b87da0-8fc2-4611-a85f-a6fa30d19619",
   "metadata": {},
   "outputs": [
    {
     "data": {
      "text/plain": [
       "[0, 1, 2, 3, 4]"
      ]
     },
     "execution_count": 19,
     "metadata": {},
     "output_type": "execute_result"
    }
   ],
   "source": [
    "list(range(5))"
   ]
  },
  {
   "cell_type": "code",
   "execution_count": 29,
   "id": "46c6bf81-ad54-48d1-8093-12c315e8f96e",
   "metadata": {},
   "outputs": [
    {
     "name": "stdout",
     "output_type": "stream",
     "text": [
      "i: 0 | my_output: 0\n",
      "my_output: 0\n",
      "---\n",
      "i: 1 | my_output: 0\n",
      "my_output: 1\n",
      "---\n",
      "i: 2 | my_output: 1\n",
      "my_output: 3\n",
      "---\n",
      "i: 3 | my_output: 3\n",
      "my_output: 6\n",
      "---\n",
      "i: 4 | my_output: 6\n",
      "my_output: 10\n",
      "---\n"
     ]
    }
   ],
   "source": [
    "my_output = 0\n",
    "for i in range(5):\n",
    "    print(\"i:\",i,\"| my_output:\",my_output)\n",
    "    my_output = my_output + i\n",
    "    print(\"my_output:\",my_output)\n",
    "    print(\"---\")"
   ]
  },
  {
   "cell_type": "code",
   "execution_count": 25,
   "id": "9c11a3ad-0c31-4272-b06a-bbd6d980e599",
   "metadata": {},
   "outputs": [],
   "source": [
    "# First iteration\n",
    "# my_output = 0, i = 0 | my_output = my_output + i = 0 + 0 = 0 | my_output = 0\n",
    "# my_output = 0, i = 1 | my_output = my_output + i = 0 + 1 = 1 | my_output = 1\n",
    "# my_output = 1, i = 2 | my_output = my_output + i = 1 + 2 = 3 | my_output = 3\n",
    "# my_output = 3, i = 3 | my_output = my_output + i = 3 + 3 = 6 | my_output = 6\n",
    "# my_output = 6, i = 4 | my_output = my_output + i = 6 + 4 = 10 | my_output = 10"
   ]
  },
  {
   "cell_type": "code",
   "execution_count": 33,
   "id": "a38c1cc9-bb02-451a-a5f6-b4a8d94c5820",
   "metadata": {},
   "outputs": [
    {
     "name": "stdout",
     "output_type": "stream",
     "text": [
      "True\n",
      "a is greater\n"
     ]
    }
   ],
   "source": [
    "# If-else are for one time execution\n",
    "a = 10\n",
    "b = 4\n",
    "print(a>b)\n",
    "if a>b:\n",
    "    print(\"a is greater\")"
   ]
  },
  {
   "cell_type": "code",
   "execution_count": 47,
   "id": "ed46f79b-6a75-4c8e-b327-37e30945fc36",
   "metadata": {},
   "outputs": [
    {
     "name": "stdout",
     "output_type": "stream",
     "text": [
      "a: 10 | b: 4\n",
      "a is greater.\n",
      "a: 9\n",
      "---\n",
      "a: 9 | b: 4\n",
      "a is greater.\n",
      "a: 8\n",
      "---\n",
      "a: 8 | b: 4\n",
      "a is greater.\n",
      "a: 7\n",
      "---\n",
      "a: 7 | b: 4\n",
      "a is greater.\n",
      "a: 6\n",
      "---\n",
      "a: 6 | b: 4\n",
      "a is greater.\n",
      "a: 5\n",
      "---\n",
      "a: 5 | b: 4\n",
      "a is greater.\n",
      "a: 4\n",
      "---\n",
      "When while loop condition failed a is 4 and b is 4 .\n"
     ]
    }
   ],
   "source": [
    "a = 10\n",
    "b = 4\n",
    "# While loop is used for multiple iterations - loop should execute until the condition is false\n",
    "while a>b:\n",
    "    print(\"a:\", a,\"|\",\"b:\",b)\n",
    "    print(\"a is greater.\")\n",
    "    a = a-1\n",
    "    print(\"a:\", a)\n",
    "    print(\"---\")\n",
    "#\n",
    "print(\"When while loop condition failed a is\", a , \"and b is\", b, \".\")"
   ]
  },
  {
   "cell_type": "code",
   "execution_count": null,
   "id": "1ebfa2e2-cca2-4a5a-8c75-69b24c68b34f",
   "metadata": {},
   "outputs": [],
   "source": []
  },
  {
   "cell_type": "code",
   "execution_count": null,
   "id": "84deffdf-fb53-4dec-ae14-7208cfc9db3b",
   "metadata": {},
   "outputs": [],
   "source": []
  }
 ],
 "metadata": {
  "kernelspec": {
   "display_name": "Python 3 (ipykernel)",
   "language": "python",
   "name": "python3"
  },
  "language_info": {
   "codemirror_mode": {
    "name": "ipython",
    "version": 3
   },
   "file_extension": ".py",
   "mimetype": "text/x-python",
   "name": "python",
   "nbconvert_exporter": "python",
   "pygments_lexer": "ipython3",
   "version": "3.12.4"
  }
 },
 "nbformat": 4,
 "nbformat_minor": 5
}
