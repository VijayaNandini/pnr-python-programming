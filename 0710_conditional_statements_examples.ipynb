{
 "cells": [
  {
   "cell_type": "code",
   "execution_count": 14,
   "id": "96321489",
   "metadata": {},
   "outputs": [],
   "source": [
    "# Example 1\n",
    "# Given an input number, check if it is divisible by both 3 and 5. If yes then print 'Happy Number' else print 'Unhappy Number'.\n",
    "# Number divisible by 3 -> when it is divided by 3 remainder should be 0."
   ]
  },
  {
   "cell_type": "code",
   "execution_count": null,
   "id": "ea5cd7d9",
   "metadata": {},
   "outputs": [],
   "source": [
    "# input_number = int(input(\"Enter input number: \"))\n",
    "input_number = 15 # Assign dummy value to variable\n",
    "# Validating condition"
   ]
  },
  {
   "cell_type": "code",
   "execution_count": null,
   "id": "4a72f540",
   "metadata": {},
   "outputs": [
    {
     "data": {
      "text/plain": [
       "0"
      ]
     },
     "execution_count": 24,
     "metadata": {},
     "output_type": "execute_result"
    }
   ],
   "source": [
    "input_number % 3 # Validating condition"
   ]
  },
  {
   "cell_type": "code",
   "execution_count": 26,
   "id": "bd8f2b6b",
   "metadata": {},
   "outputs": [
    {
     "data": {
      "text/plain": [
       "0"
      ]
     },
     "execution_count": 26,
     "metadata": {},
     "output_type": "execute_result"
    }
   ],
   "source": [
    "15%3 # validation condition without creating variable"
   ]
  },
  {
   "cell_type": "code",
   "execution_count": null,
   "id": "e7ce95ef",
   "metadata": {},
   "outputs": [
    {
     "data": {
      "text/plain": [
       "True"
      ]
     },
     "execution_count": 27,
     "metadata": {},
     "output_type": "execute_result"
    }
   ],
   "source": [
    "15%3==0 # condition1 "
   ]
  },
  {
   "cell_type": "code",
   "execution_count": 30,
   "id": "29b8f60a",
   "metadata": {},
   "outputs": [
    {
     "data": {
      "text/plain": [
       "True"
      ]
     },
     "execution_count": 30,
     "metadata": {},
     "output_type": "execute_result"
    }
   ],
   "source": [
    "15%5==0 # condition2"
   ]
  },
  {
   "cell_type": "code",
   "execution_count": null,
   "id": "a757e19e",
   "metadata": {},
   "outputs": [
    {
     "data": {
      "text/plain": [
       "True"
      ]
     },
     "execution_count": 31,
     "metadata": {},
     "output_type": "execute_result"
    }
   ],
   "source": [
    "# number divisible by both 3 and 5\n",
    "15%3==0 and 15%5==0  # got the condition"
   ]
  },
  {
   "cell_type": "code",
   "execution_count": 32,
   "id": "705c7477",
   "metadata": {},
   "outputs": [
    {
     "data": {
      "text/plain": [
       "True"
      ]
     },
     "execution_count": 32,
     "metadata": {},
     "output_type": "execute_result"
    }
   ],
   "source": [
    "input_number = 15\n",
    "input_number%3==0 and input_number%5==0"
   ]
  },
  {
   "cell_type": "code",
   "execution_count": 33,
   "id": "04600f08",
   "metadata": {},
   "outputs": [
    {
     "data": {
      "text/plain": [
       "False"
      ]
     },
     "execution_count": 33,
     "metadata": {},
     "output_type": "execute_result"
    }
   ],
   "source": [
    "input_number = 16\n",
    "input_number%3==0 and input_number%5==0"
   ]
  },
  {
   "cell_type": "code",
   "execution_count": 36,
   "id": "dd848660",
   "metadata": {},
   "outputs": [
    {
     "name": "stdout",
     "output_type": "stream",
     "text": [
      "45 True\n",
      "Happy Number\n"
     ]
    }
   ],
   "source": [
    "# Example 1\n",
    "# Given an input number, check if it is divisible by both 3 and 5. If yes then print 'Happy Number' else print 'Unhappy Number'.\n",
    "# Number divisible by 3 -> when it is divided by 3 remainder should be 0.\n",
    "\n",
    "\n",
    "input_number = int(input(\"Enter input number: \"))\n",
    "# input_number = 15 # Assign dummy value to variable\n",
    "print(input_number, input_number%3==0 and input_number%5==0)\n",
    "\n",
    "if input_number%3==0 and input_number%5==0:\n",
    "    print('Happy Number')\n",
    "else:\n",
    "    print('Unhappy Number')"
   ]
  },
  {
   "cell_type": "code",
   "execution_count": null,
   "id": "dc680e42",
   "metadata": {},
   "outputs": [],
   "source": []
  },
  {
   "cell_type": "code",
   "execution_count": null,
   "id": "9bd0d83b",
   "metadata": {},
   "outputs": [],
   "source": []
  },
  {
   "cell_type": "code",
   "execution_count": 1,
   "id": "8e770186",
   "metadata": {},
   "outputs": [],
   "source": [
    "# Example 2\n",
    "# Given two numbers and an operation as inputs, perform addition, subtraction, multiplication or division and print the result.\n",
    "# If a valid operation is not provided, print 'Illegal operation'."
   ]
  },
  {
   "cell_type": "code",
   "execution_count": 4,
   "id": "c006b424-e735-44c8-aca1-c7e424795480",
   "metadata": {},
   "outputs": [
    {
     "data": {
      "text/plain": [
       "16.1"
      ]
     },
     "execution_count": 4,
     "metadata": {},
     "output_type": "execute_result"
    }
   ],
   "source": [
    "12.5 + 3.6"
   ]
  },
  {
   "cell_type": "code",
   "execution_count": 12,
   "id": "ba049472-eca5-4b29-a53c-15ff5bcaf67c",
   "metadata": {},
   "outputs": [
    {
     "data": {
      "text/plain": [
       "'12.5'"
      ]
     },
     "execution_count": 12,
     "metadata": {},
     "output_type": "execute_result"
    }
   ],
   "source": [
    "'12.5'"
   ]
  },
  {
   "cell_type": "code",
   "execution_count": 14,
   "id": "fddd56d9-6a45-4ccb-bc8a-6844cf2c5a86",
   "metadata": {},
   "outputs": [
    {
     "data": {
      "text/plain": [
       "12"
      ]
     },
     "execution_count": 14,
     "metadata": {},
     "output_type": "execute_result"
    }
   ],
   "source": [
    "int(12.5)"
   ]
  },
  {
   "cell_type": "code",
   "execution_count": 16,
   "id": "2f26ec7d-17e9-4acc-a7cb-8bfa36e6db2f",
   "metadata": {},
   "outputs": [
    {
     "data": {
      "text/plain": [
       "12.5"
      ]
     },
     "execution_count": 16,
     "metadata": {},
     "output_type": "execute_result"
    }
   ],
   "source": [
    "float(12.5)"
   ]
  },
  {
   "cell_type": "code",
   "execution_count": null,
   "id": "da6324ea",
   "metadata": {},
   "outputs": [],
   "source": [
    "# Example 2\n",
    "# Given two numbers and an operation as inputs, perform addition, subtraction, multiplication or division and print the result.\n",
    "# If a valid operation is not provided, print 'Illegal operation'.\n",
    "\n",
    "first_input = float(input('Enter first input:'))\n",
    "second_input = float(input('Enter second input:'))\n",
    "# print(first_input, type(first_input))\n",
    "# print(second_input, type(second_input))\n",
    "operation = input('Enter the operation to be performed(+, -, *, /):')\n",
    "# print(operation,type(operation))\n",
    "if operation == '+':\n",
    "    print(first_input+second_input)"
   ]
  },
  {
   "cell_type": "code",
   "execution_count": 22,
   "id": "1aed5ef2-fd33-4ee0-a8a6-b03e4b5ad3a1",
   "metadata": {},
   "outputs": [
    {
     "data": {
      "text/plain": [
       "'*'"
      ]
     },
     "execution_count": 22,
     "metadata": {},
     "output_type": "execute_result"
    }
   ],
   "source": [
    "operation"
   ]
  },
  {
   "cell_type": "code",
   "execution_count": 30,
   "id": "76507b67-1136-4ba6-9519-bcdc7b905673",
   "metadata": {},
   "outputs": [],
   "source": [
    "# operation = '+' # assigning new value\n",
    "operation = '-' # assigning new value"
   ]
  },
  {
   "cell_type": "code",
   "execution_count": 20,
   "id": "330f214b-7f13-416d-8f00-609903d27d9a",
   "metadata": {},
   "outputs": [
    {
     "data": {
      "text/plain": [
       "False"
      ]
     },
     "execution_count": 20,
     "metadata": {},
     "output_type": "execute_result"
    }
   ],
   "source": [
    "operation == '+' # validating condition"
   ]
  },
  {
   "cell_type": "code",
   "execution_count": 14,
   "id": "7878f0d8",
   "metadata": {},
   "outputs": [
    {
     "name": "stdout",
     "output_type": "stream",
     "text": [
      "First input: 12.0\n",
      "Second input: 0.0\n",
      "Operation selected: +\n",
      "12.0\n"
     ]
    }
   ],
   "source": [
    "# = : assignment operator\n",
    "# == : equal to operator (for comparision)\n",
    "\n",
    "first_input = float(input('Enter first input:'))\n",
    "second_input = float(input('Enter second input:'))\n",
    "print('First input:',first_input)\n",
    "print('Second input:',second_input)\n",
    "operation = input('Enter any operation from the list (+, -, *, /):')\n",
    "print(\"Operation selected:\",operation)\n",
    "if operation == '+':\n",
    "    print(first_input+second_input)\n",
    "    # print(float(first_input)+float(second_input))\n",
    "elif operation == '-':\n",
    "    print(first_input-second_input)\n",
    "elif operation == '*':\n",
    "    print(first_input*second_input)\n",
    "elif operation == '/':\n",
    "    print(first_input/second_input)\n",
    "else:\n",
    "    print('Illegal operation')"
   ]
  },
  {
   "cell_type": "code",
   "execution_count": 13,
   "id": "7b32b172",
   "metadata": {},
   "outputs": [
    {
     "name": "stdout",
     "output_type": "stream",
     "text": [
      "First input: 12.0\n",
      "Second input: 0.0\n",
      "Operation selected: /\n"
     ]
    },
    {
     "ename": "ZeroDivisionError",
     "evalue": "float division by zero",
     "output_type": "error",
     "traceback": [
      "\u001b[1;31m---------------------------------------------------------------------------\u001b[0m",
      "\u001b[1;31mZeroDivisionError\u001b[0m                         Traceback (most recent call last)",
      "Cell \u001b[1;32mIn[13], line 18\u001b[0m\n\u001b[0;32m     16\u001b[0m     \u001b[38;5;28mprint\u001b[39m(first_input\u001b[38;5;241m*\u001b[39msecond_input)\n\u001b[0;32m     17\u001b[0m \u001b[38;5;28;01melif\u001b[39;00m operation \u001b[38;5;241m==\u001b[39m \u001b[38;5;124m'\u001b[39m\u001b[38;5;124m/\u001b[39m\u001b[38;5;124m'\u001b[39m:\n\u001b[1;32m---> 18\u001b[0m     \u001b[38;5;28mprint\u001b[39m(\u001b[43mfirst_input\u001b[49m\u001b[38;5;241;43m/\u001b[39;49m\u001b[43msecond_input\u001b[49m)\n\u001b[0;32m     19\u001b[0m \u001b[38;5;28;01melse\u001b[39;00m:\n\u001b[0;32m     20\u001b[0m     \u001b[38;5;28mprint\u001b[39m(\u001b[38;5;124m'\u001b[39m\u001b[38;5;124mIllegal operation\u001b[39m\u001b[38;5;124m'\u001b[39m)\n",
      "\u001b[1;31mZeroDivisionError\u001b[0m: float division by zero"
     ]
    }
   ],
   "source": [
    "# = : assignment operator\n",
    "# == : equal to operator (for comparision)\n",
    "\n",
    "first_input = float(input('Enter first input:'))\n",
    "second_input = float(input('Enter second input:'))\n",
    "print('First input:',first_input)\n",
    "print('Second input:',second_input)\n",
    "operation = input('Enter any operation from the list (+, -, *, /):')\n",
    "print(\"Operation selected:\",operation)\n",
    "if operation == '+':\n",
    "    print(first_input+second_input)\n",
    "    # print(float(first_input)+float(second_input))\n",
    "elif operation == '-':\n",
    "    print(first_input-second_input)\n",
    "elif operation == '*':\n",
    "    print(first_input*second_input)\n",
    "elif operation == '/':\n",
    "    print(first_input/second_input)\n",
    "else:\n",
    "    print('Illegal operation')"
   ]
  },
  {
   "cell_type": "code",
   "execution_count": 15,
   "id": "b1d0151e",
   "metadata": {},
   "outputs": [],
   "source": [
    "second_input = 0.0"
   ]
  },
  {
   "cell_type": "code",
   "execution_count": 16,
   "id": "d5dfb93a",
   "metadata": {},
   "outputs": [
    {
     "data": {
      "text/plain": [
       "True"
      ]
     },
     "execution_count": 16,
     "metadata": {},
     "output_type": "execute_result"
    }
   ],
   "source": [
    "second_input == 0.0  # validating condition"
   ]
  },
  {
   "cell_type": "code",
   "execution_count": 18,
   "id": "18dc1391",
   "metadata": {},
   "outputs": [
    {
     "name": "stdout",
     "output_type": "stream",
     "text": [
      "First input: 12.0\n",
      "Second input: 0.0\n",
      "Operation selected: /\n",
      "Infinite\n"
     ]
    }
   ],
   "source": [
    "# = : assignment operator\n",
    "# == : equal to operator (for comparision)\n",
    "\n",
    "first_input = float(input('Enter first input:'))\n",
    "second_input = float(input('Enter second input:'))\n",
    "print('First input:',first_input)\n",
    "print('Second input:',second_input)\n",
    "operation = input('Enter any operation from the list (+, -, *, /):')\n",
    "print(\"Operation selected:\",operation)\n",
    "if operation == '+':\n",
    "    print(first_input+second_input)\n",
    "    # print(float(first_input)+float(second_input))\n",
    "elif operation == '-':\n",
    "    print(first_input-second_input)\n",
    "elif operation == '*':\n",
    "    print(first_input*second_input)\n",
    "elif operation == '/':\n",
    "    if second_input == 0.0:\n",
    "        print(\"Infinite\")\n",
    "    else:\n",
    "        print(first_input/second_input) # later we will handle this error using exception handling\n",
    "else:\n",
    "    print('Illegal operation')"
   ]
  },
  {
   "cell_type": "code",
   "execution_count": 4,
   "id": "8fa7b395",
   "metadata": {},
   "outputs": [
    {
     "data": {
      "text/plain": [
       "14.0"
      ]
     },
     "execution_count": 4,
     "metadata": {},
     "output_type": "execute_result"
    }
   ],
   "source": [
    "first_input"
   ]
  },
  {
   "cell_type": "code",
   "execution_count": 5,
   "id": "8b8bf2f0",
   "metadata": {},
   "outputs": [
    {
     "name": "stdout",
     "output_type": "stream",
     "text": [
      "First input: 14.0\n",
      "Second input: 0.0\n"
     ]
    }
   ],
   "source": [
    "print('First input:',first_input)\n",
    "print('Second input:',second_input)"
   ]
  },
  {
   "cell_type": "code",
   "execution_count": null,
   "id": "dd9e9ac4",
   "metadata": {},
   "outputs": [
    {
     "name": "stdout",
     "output_type": "stream",
     "text": [
      "First input:  14.0 and Second input: 0.0\n"
     ]
    }
   ],
   "source": [
    "print('First input:',first_input,'and Second input:',second_input)"
   ]
  },
  {
   "cell_type": "code",
   "execution_count": 10,
   "id": "6a3468c8",
   "metadata": {},
   "outputs": [
    {
     "name": "stdout",
     "output_type": "stream",
     "text": [
      "First input: 14.0 and Second input: 0.0\n"
     ]
    }
   ],
   "source": [
    "print(f'First input: {first_input} and Second input: {second_input}')"
   ]
  },
  {
   "cell_type": "code",
   "execution_count": 12,
   "id": "6c524508",
   "metadata": {},
   "outputs": [
    {
     "data": {
      "text/plain": [
       "'10-07-2025'"
      ]
     },
     "execution_count": 12,
     "metadata": {},
     "output_type": "execute_result"
    }
   ],
   "source": [
    "'10-07-2025' # Date in string type"
   ]
  },
  {
   "cell_type": "code",
   "execution_count": null,
   "id": "6231a01d",
   "metadata": {},
   "outputs": [],
   "source": [
    "# Example 3\n",
    "# Given an input number, identify and print if it is perfect square or not.\n",
    "# Background: Number is perfect square if it's square root is integer. Else it is not perfect square. Examples of perfect square - 4, 9, 25, 36.\n"
   ]
  },
  {
   "cell_type": "code",
   "execution_count": 37,
   "id": "40cc00ba",
   "metadata": {},
   "outputs": [
    {
     "data": {
      "text/plain": [
       "2.0"
      ]
     },
     "execution_count": 37,
     "metadata": {},
     "output_type": "execute_result"
    }
   ],
   "source": [
    "4**(1/2)"
   ]
  },
  {
   "cell_type": "code",
   "execution_count": 40,
   "id": "6109a1d5",
   "metadata": {},
   "outputs": [
    {
     "data": {
      "text/plain": [
       "2"
      ]
     },
     "execution_count": 40,
     "metadata": {},
     "output_type": "execute_result"
    }
   ],
   "source": [
    "int(2.0)"
   ]
  },
  {
   "cell_type": "code",
   "execution_count": 39,
   "id": "4a36e4b0",
   "metadata": {},
   "outputs": [
    {
     "data": {
      "text/plain": [
       "2.23606797749979"
      ]
     },
     "execution_count": 39,
     "metadata": {},
     "output_type": "execute_result"
    }
   ],
   "source": [
    "5**(1/2)"
   ]
  },
  {
   "cell_type": "code",
   "execution_count": 41,
   "id": "99b17e4f",
   "metadata": {},
   "outputs": [
    {
     "data": {
      "text/plain": [
       "2"
      ]
     },
     "execution_count": 41,
     "metadata": {},
     "output_type": "execute_result"
    }
   ],
   "source": [
    "int(2.23606797749979)"
   ]
  },
  {
   "cell_type": "code",
   "execution_count": null,
   "id": "c21ce0fb",
   "metadata": {},
   "outputs": [],
   "source": [
    "# Example 4\n",
    "# Given student age, if it is between 4 and 8 years, print 'Admission Allowed'. Else 'Admission not allowed'"
   ]
  },
  {
   "cell_type": "code",
   "execution_count": 22,
   "id": "765a434a",
   "metadata": {},
   "outputs": [],
   "source": [
    "student_age = 5\n",
    "# validate condition\n",
    "# place the condition in if and test the program"
   ]
  },
  {
   "cell_type": "code",
   "execution_count": null,
   "id": "535301a5",
   "metadata": {},
   "outputs": [],
   "source": []
  }
 ],
 "metadata": {
  "kernelspec": {
   "display_name": "Python 3 (ipykernel)",
   "language": "python",
   "name": "python3"
  },
  "language_info": {
   "codemirror_mode": {
    "name": "ipython",
    "version": 3
   },
   "file_extension": ".py",
   "mimetype": "text/x-python",
   "name": "python",
   "nbconvert_exporter": "python",
   "pygments_lexer": "ipython3",
   "version": "3.12.4"
  }
 },
 "nbformat": 4,
 "nbformat_minor": 5
}
