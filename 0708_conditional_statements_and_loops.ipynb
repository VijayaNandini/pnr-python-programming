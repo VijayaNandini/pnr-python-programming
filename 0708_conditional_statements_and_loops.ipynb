{
 "cells": [
  {
   "cell_type": "markdown",
   "id": "344a7a10-13f6-4c08-8f6e-e91c2148372a",
   "metadata": {},
   "source": [
    "# Conditional Statements\n",
    "To execute code based on a condition.\n",
    "- if : this block executes only when it's condition is true\n",
    "- elif : this block executes only when it's condition is true\n",
    "- else : this block executes when all the previous conditions fail"
   ]
  },
  {
   "cell_type": "markdown",
   "id": "3fae3244-0450-47c5-a8af-96a27ff3a4a4",
   "metadata": {},
   "source": [
    "#### SYNTAX\n",
    "~~~\n",
    "if <CONDITION>:\n",
    "    IF_STATEMENT_1\n",
    "    IF_STATEMENT_2\n",
    "    IF_STATEMENT_3\n",
    "elif <CONDITION>:\n",
    "    STATEMENT_1\n",
    "    STATEMENT_2\n",
    "    STATEMENT_3\n",
    "elif <CONDITION>:\n",
    "    STATEMENT_1\n",
    "    STATEMENT_2\n",
    "    STATEMENT_3\n",
    "else:\n",
    "    STATEMENT_1\n",
    "    STATEMENT_2\n",
    "    STATEMENT_3\n",
    "# END OF IF-ELSE\n",
    "~~~"
   ]
  },
  {
   "cell_type": "code",
   "execution_count": 4,
   "id": "daee8b2f-c42b-4035-ad6e-be62f89c2839",
   "metadata": {},
   "outputs": [],
   "source": [
    "# if age < 18 --> print minor\n",
    "# else --> print not minor"
   ]
  },
  {
   "cell_type": "code",
   "execution_count": 6,
   "id": "ac98388d-8941-4745-905f-935bb2c54d0b",
   "metadata": {},
   "outputs": [],
   "source": [
    "age = 20"
   ]
  },
  {
   "cell_type": "code",
   "execution_count": 8,
   "id": "ba78ab1b-0b9c-4bfb-9a82-0c960f8b4211",
   "metadata": {},
   "outputs": [
    {
     "name": "stdout",
     "output_type": "stream",
     "text": [
      "20\n"
     ]
    }
   ],
   "source": [
    "print(age)"
   ]
  },
  {
   "cell_type": "code",
   "execution_count": 10,
   "id": "5fb6423d-35af-4760-ac99-9955b997dd42",
   "metadata": {},
   "outputs": [
    {
     "data": {
      "text/plain": [
       "False"
      ]
     },
     "execution_count": 10,
     "metadata": {},
     "output_type": "execute_result"
    }
   ],
   "source": [
    "age < 18"
   ]
  },
  {
   "cell_type": "code",
   "execution_count": 12,
   "id": "c4d452fc-521c-49ab-930f-b24ceab34250",
   "metadata": {},
   "outputs": [
    {
     "name": "stdout",
     "output_type": "stream",
     "text": [
      "not minor\n"
     ]
    }
   ],
   "source": [
    "if age<18:\n",
    "    print(\"minor\")\n",
    "else:\n",
    "    print(\"not minor\")"
   ]
  },
  {
   "cell_type": "code",
   "execution_count": 22,
   "id": "720a5ac6-cc3b-4318-b20a-2fbf8978b210",
   "metadata": {},
   "outputs": [
    {
     "name": "stdout",
     "output_type": "stream",
     "text": [
      "minor\n"
     ]
    }
   ],
   "source": [
    "age = 14\n",
    "# print(age<18)\n",
    "if age<18:\n",
    "    print(\"minor\")\n",
    "else:\n",
    "    print(\"not minor\")"
   ]
  },
  {
   "cell_type": "code",
   "execution_count": 24,
   "id": "26da955d-d1f1-44ac-8b34-dedc0eeda0bf",
   "metadata": {},
   "outputs": [
    {
     "name": "stdin",
     "output_type": "stream",
     "text": [
      "Enter name: Nandini\n"
     ]
    }
   ],
   "source": [
    "name = input(\"Enter name:\")"
   ]
  },
  {
   "cell_type": "code",
   "execution_count": 26,
   "id": "372da735-400c-4683-beac-8559d4017b7b",
   "metadata": {},
   "outputs": [
    {
     "data": {
      "text/plain": [
       "'Nandini'"
      ]
     },
     "execution_count": 26,
     "metadata": {},
     "output_type": "execute_result"
    }
   ],
   "source": [
    "name"
   ]
  },
  {
   "cell_type": "code",
   "execution_count": 34,
   "id": "6212503f-cb9b-4034-881b-4b766821cc1e",
   "metadata": {},
   "outputs": [
    {
     "name": "stdin",
     "output_type": "stream",
     "text": [
      "Enter age: 16\n"
     ]
    },
    {
     "name": "stdout",
     "output_type": "stream",
     "text": [
      "16\n",
      "<class 'str'>\n"
     ]
    }
   ],
   "source": [
    "age = input(\"Enter age:\") # Input function takes input at runtime but in 'str' format\n",
    "print(age)\n",
    "print(type(age))"
   ]
  },
  {
   "cell_type": "code",
   "execution_count": 36,
   "id": "6a61ffc1-bcdb-4d6a-a14f-e4b7e054efaa",
   "metadata": {},
   "outputs": [
    {
     "data": {
      "text/plain": [
       "'16'"
      ]
     },
     "execution_count": 36,
     "metadata": {},
     "output_type": "execute_result"
    }
   ],
   "source": [
    "age"
   ]
  },
  {
   "cell_type": "code",
   "execution_count": 38,
   "id": "6321899d-a7ec-4288-8c6a-7e812835ed52",
   "metadata": {},
   "outputs": [
    {
     "data": {
      "text/plain": [
       "16"
      ]
     },
     "execution_count": 38,
     "metadata": {},
     "output_type": "execute_result"
    }
   ],
   "source": [
    "int(age)"
   ]
  },
  {
   "cell_type": "code",
   "execution_count": 40,
   "id": "5d2497c6-fc1d-47a0-9c63-45e2560bf589",
   "metadata": {},
   "outputs": [
    {
     "data": {
      "text/plain": [
       "int"
      ]
     },
     "execution_count": 40,
     "metadata": {},
     "output_type": "execute_result"
    }
   ],
   "source": [
    "type(int(age))"
   ]
  },
  {
   "cell_type": "code",
   "execution_count": 50,
   "id": "0d72b67d-e0bf-485b-b856-f91b391b6cf5",
   "metadata": {},
   "outputs": [
    {
     "name": "stdin",
     "output_type": "stream",
     "text": [
      "Enter age: 30\n"
     ]
    },
    {
     "name": "stdout",
     "output_type": "stream",
     "text": [
      "<class 'int'>\n"
     ]
    }
   ],
   "source": [
    "age = int(input(\"Enter age:\")) # Assuming that user will pass only numbers. Otherwise we will get ValueError\n",
    "print(type(age))"
   ]
  },
  {
   "cell_type": "code",
   "execution_count": 56,
   "id": "901d689b-bbb3-40a7-a2cb-53de9451ae8a",
   "metadata": {},
   "outputs": [
    {
     "name": "stdout",
     "output_type": "stream",
     "text": [
      "Madhuri <class 'str'>\n"
     ]
    }
   ],
   "source": [
    "name = 'Madhuri'\n",
    "print(name,type(name))"
   ]
  },
  {
   "cell_type": "code",
   "execution_count": 58,
   "id": "aefd6620-a6a4-4f69-8270-a99a7ea2ec8a",
   "metadata": {},
   "outputs": [
    {
     "name": "stdin",
     "output_type": "stream",
     "text": [
      "Enter age: 45\n"
     ]
    },
    {
     "name": "stdout",
     "output_type": "stream",
     "text": [
      "45 <class 'str'>\n",
      "45 <class 'int'>\n"
     ]
    }
   ],
   "source": [
    "age = input(\"Enter age:\")\n",
    "print(age,type(age))\n",
    "age = int(age) # reassigning value after type conversion \n",
    "print(age,type(age))"
   ]
  },
  {
   "cell_type": "code",
   "execution_count": 64,
   "id": "3a6ce443-5846-4d28-88fb-d8b267aaebe6",
   "metadata": {},
   "outputs": [
    {
     "name": "stdin",
     "output_type": "stream",
     "text": [
      "Enter age: 56\n"
     ]
    },
    {
     "name": "stdout",
     "output_type": "stream",
     "text": [
      "Not minor\n"
     ]
    }
   ],
   "source": [
    "# if age<18, print minor\n",
    "# else print not minor\n",
    "\n",
    "age = int(input(\"Enter age:\"))\n",
    "# print(age<18)\n",
    "if age<18:\n",
    "    print(\"Minor\")\n",
    "else:\n",
    "    print(\"Not minor\")\n",
    "# End of if-else"
   ]
  },
  {
   "cell_type": "markdown",
   "id": "6ffe51c4-bb24-44f0-a1be-419fa4722b3e",
   "metadata": {},
   "source": [
    "# Example 2"
   ]
  },
  {
   "cell_type": "code",
   "execution_count": 67,
   "id": "b1fe5aea-c59a-4ca1-a1b2-987917f85d51",
   "metadata": {},
   "outputs": [],
   "source": [
    "# if total_bill of customer is greater than 10,000, he will receive 10% discount\n",
    "# if total_bill is greater than 5000, will receive 5% discount\n",
    "# if total_bill is greater than 2000, will receive 2% discount\n",
    "# if total_bill is greater than 1000, will receive 1% discount\n",
    "# else no discount"
   ]
  },
  {
   "cell_type": "code",
   "execution_count": 85,
   "id": "eed86fda-bfb5-416a-90ec-1ff8d8e052bb",
   "metadata": {},
   "outputs": [],
   "source": [
    "# 10/100  # 10% discount  # 0.1\n",
    "# 5/100  # 5% discount\n",
    "# 2/100 # 2% discount\n",
    "# 1/100 # 1% discount\n",
    "# 0  # no discount\n",
    "# Expected discounts - 0.1, 0.05, 0.02, 0.01, 0"
   ]
  },
  {
   "cell_type": "code",
   "execution_count": 91,
   "id": "b0708079-d4d9-48d4-9da2-8dd216991b46",
   "metadata": {},
   "outputs": [
    {
     "data": {
      "text/plain": [
       "90.0"
      ]
     },
     "execution_count": 91,
     "metadata": {},
     "output_type": "execute_result"
    }
   ],
   "source": [
    "100 * (1-0.1) # 10% discount"
   ]
  },
  {
   "cell_type": "code",
   "execution_count": 89,
   "id": "f1c6aa9e-c5a8-4633-b163-21942fc7dd31",
   "metadata": {},
   "outputs": [
    {
     "data": {
      "text/plain": [
       "95.0"
      ]
     },
     "execution_count": 89,
     "metadata": {},
     "output_type": "execute_result"
    }
   ],
   "source": [
    "100 * (1-0.05) # 5% discount"
   ]
  },
  {
   "cell_type": "code",
   "execution_count": 99,
   "id": "11298805-28ad-461b-ba4f-8452c2a3fab9",
   "metadata": {},
   "outputs": [
    {
     "name": "stdout",
     "output_type": "stream",
     "text": [
      "5.0\n",
      "95.0\n"
     ]
    }
   ],
   "source": [
    "print(100*0.05) # discount_amount\n",
    "print(100 - 5.0) # total_payable"
   ]
  },
  {
   "cell_type": "code",
   "execution_count": 103,
   "id": "c43d01bb-052c-4556-94bd-27a54b2fa367",
   "metadata": {},
   "outputs": [
    {
     "data": {
      "text/plain": [
       "110.00000000000001"
      ]
     },
     "execution_count": 103,
     "metadata": {},
     "output_type": "execute_result"
    }
   ],
   "source": [
    "# 100*(1+0.1)\n",
    "100*1.1  # for loan interest"
   ]
  },
  {
   "cell_type": "code",
   "execution_count": 105,
   "id": "b6c03b43-4c17-4ca7-80e6-8fefe42104dd",
   "metadata": {},
   "outputs": [
    {
     "data": {
      "text/plain": [
       "85.0"
      ]
     },
     "execution_count": 105,
     "metadata": {},
     "output_type": "execute_result"
    }
   ],
   "source": [
    "100*(1-0.15)"
   ]
  },
  {
   "cell_type": "code",
   "execution_count": 107,
   "id": "b9da1296-8d5d-4611-90a3-f5ea2f0092cb",
   "metadata": {},
   "outputs": [
    {
     "name": "stdout",
     "output_type": "stream",
     "text": [
      "10800.0\n"
     ]
    }
   ],
   "source": [
    "total_bill = 12000\n",
    "discount = 0.1\n",
    "# total_payable = 12000*(1-0.1)\n",
    "total_payable = total_bill*(1-discount)\n",
    "print(total_payable)"
   ]
  },
  {
   "cell_type": "code",
   "execution_count": 115,
   "id": "66a1621d-4fab-4d05-b81c-8b65447dd60b",
   "metadata": {},
   "outputs": [
    {
     "name": "stdout",
     "output_type": "stream",
     "text": [
      "1200.0\n",
      "10800.0\n"
     ]
    }
   ],
   "source": [
    "total_bill = 12000\n",
    "discount = 0.1\n",
    "discount_amount = total_bill*discount\n",
    "print(discount_amount)\n",
    "total_payable = total_bill*(1-discount)\n",
    "print(total_payable)"
   ]
  },
  {
   "cell_type": "code",
   "execution_count": 113,
   "id": "31677627-a8bb-44bf-9abb-aad02e31671d",
   "metadata": {},
   "outputs": [
    {
     "name": "stdout",
     "output_type": "stream",
     "text": [
      "1200.0\n",
      "10800.0\n"
     ]
    }
   ],
   "source": [
    "total_bill = 12000\n",
    "discount = 0.1 \n",
    "discount_amount = total_bill*discount\n",
    "print(discount_amount)\n",
    "total_payable = total_bill - discount_amount \n",
    "print(total_payable)"
   ]
  },
  {
   "cell_type": "code",
   "execution_count": 117,
   "id": "f1e26794-0bfe-46e5-964a-6245608ac6c9",
   "metadata": {},
   "outputs": [],
   "source": [
    "# if total_bill of customer is greater than 10,000, he will receive 10% discount\n",
    "# if total_bill is greater than 5000, will receive 5% discount\n",
    "# if total_bill is greater than 2000, will receive 2% discount\n",
    "# if total_bill is greater than 1000, will receive 1% discount\n",
    "# else no discount"
   ]
  },
  {
   "cell_type": "code",
   "execution_count": 123,
   "id": "5b415ce2-95aa-4390-86a1-4d3039889fe9",
   "metadata": {},
   "outputs": [
    {
     "name": "stdout",
     "output_type": "stream",
     "text": [
      "10.0\n",
      "1200.0\n",
      "10800.0\n"
     ]
    }
   ],
   "source": [
    "# if total_bill of customer is greater than 10,000, he will receive 10% discount\n",
    "# else no discount\n",
    "total_bill = 12000\n",
    "if total_bill > 10000:\n",
    "    discount = 0.1  # 10/100 - 10% \n",
    "else:\n",
    "    discount = 0 # no discount\n",
    "print(discount*100)\n",
    "discount_amount = total_bill*discount\n",
    "print(discount_amount)\n",
    "total_payable = total_bill*(1-discount)\n",
    "print(total_payable)"
   ]
  },
  {
   "cell_type": "code",
   "execution_count": 119,
   "id": "394cb94a-fbf5-41c2-99f3-b9b7943b4c39",
   "metadata": {},
   "outputs": [
    {
     "data": {
      "text/plain": [
       "0.1"
      ]
     },
     "execution_count": 119,
     "metadata": {},
     "output_type": "execute_result"
    }
   ],
   "source": [
    "10/100"
   ]
  },
  {
   "cell_type": "code",
   "execution_count": 129,
   "id": "bfb82901-759c-45c6-96a6-d230f2319529",
   "metadata": {},
   "outputs": [
    {
     "name": "stdout",
     "output_type": "stream",
     "text": [
      "Discount Percentage: 10.0\n",
      "Discount Amount: 1200.0\n",
      "Total Payable: 10800.0\n"
     ]
    }
   ],
   "source": [
    "# if total_bill of customer is greater than 10,000, he will receive 10% discount\n",
    "# if total_bill is greater than 5000, will receive 5% discount\n",
    "# else no discount\n",
    "total_bill = 12000\n",
    "if total_bill > 10000:\n",
    "    discount = 0.1  # 10/100 - 10% \n",
    "else:\n",
    "    discount = 0 # no discount\n",
    "print('Discount Percentage:',discount*100)\n",
    "discount_amount = total_bill*discount\n",
    "print('Discount Amount:',discount_amount)\n",
    "total_payable = total_bill*(1-discount)\n",
    "print('Total Payable:',total_payable)"
   ]
  },
  {
   "cell_type": "code",
   "execution_count": 133,
   "id": "edf83cbe-8deb-4aac-846b-ca61bff0041d",
   "metadata": {},
   "outputs": [
    {
     "name": "stdout",
     "output_type": "stream",
     "text": [
      "Discount Percentage: 10.0\n",
      "Discount Amount: 1200.0\n",
      "Total Payable: 10800.0\n"
     ]
    }
   ],
   "source": [
    "# if total_bill of customer is greater than 10,000, he will receive 10% discount\n",
    "# else no discount\n",
    "total_bill = 12000\n",
    "if total_bill > 10000:\n",
    "    discount = 0.1  # 10/100 - 10% \n",
    "elif total_bill > 5000:\n",
    "    discount = 0.05 # 5% - 5/100\n",
    "else:\n",
    "    discount = 0 # no discount\n",
    "print('Discount Percentage:',discount*100)\n",
    "discount_amount = total_bill*discount\n",
    "print('Discount Amount:',discount_amount)\n",
    "total_payable = total_bill*(1-discount)\n",
    "print('Total Payable:',total_payable)"
   ]
  },
  {
   "cell_type": "code",
   "execution_count": 131,
   "id": "7174f2f5-e231-415b-8379-6d10567447e6",
   "metadata": {},
   "outputs": [
    {
     "data": {
      "text/plain": [
       "0.05"
      ]
     },
     "execution_count": 131,
     "metadata": {},
     "output_type": "execute_result"
    }
   ],
   "source": [
    "5/100"
   ]
  },
  {
   "cell_type": "code",
   "execution_count": 135,
   "id": "6f101095-4801-4a3b-9383-068214de555f",
   "metadata": {},
   "outputs": [
    {
     "name": "stdout",
     "output_type": "stream",
     "text": [
      "Discount Percentage: 5.0\n",
      "Discount Amount: 400.0\n",
      "Total Payable: 7600.0\n"
     ]
    }
   ],
   "source": [
    "# if total_bill of customer is greater than 10,000, he will receive 10% discount\n",
    "# else no discount\n",
    "total_bill = 8000\n",
    "if total_bill > 10000:\n",
    "    discount = 0.1  # 10/100 - 10% \n",
    "elif total_bill > 5000:\n",
    "    discount = 0.05 # 5% - 5/100\n",
    "else:\n",
    "    discount = 0 # no discount\n",
    "print('Discount Percentage:',discount*100)\n",
    "discount_amount = total_bill*discount\n",
    "print('Discount Amount:',discount_amount)\n",
    "total_payable = total_bill*(1-discount)\n",
    "print('Total Payable:',total_payable)"
   ]
  },
  {
   "cell_type": "code",
   "execution_count": 137,
   "id": "656b189a-2ad2-4de1-b45d-e2ea1cbfb1e3",
   "metadata": {},
   "outputs": [
    {
     "name": "stdout",
     "output_type": "stream",
     "text": [
      "Discount Percentage: 0\n",
      "Discount Amount: 0\n",
      "Total Payable: 2000\n"
     ]
    }
   ],
   "source": [
    "# if total_bill of customer is greater than 10,000, he will receive 10% discount\n",
    "# else no discount\n",
    "total_bill = 2000\n",
    "if total_bill > 10000:\n",
    "    discount = 0.1  # 10/100 - 10% \n",
    "elif total_bill > 5000:\n",
    "    discount = 0.05 # 5% - 5/100\n",
    "else:\n",
    "    discount = 0 # no discount\n",
    "print('Discount Percentage:',discount*100)\n",
    "discount_amount = total_bill*discount\n",
    "print('Discount Amount:',discount_amount)\n",
    "total_payable = total_bill*(1-discount)\n",
    "print('Total Payable:',total_payable)"
   ]
  },
  {
   "cell_type": "code",
   "execution_count": 149,
   "id": "30d7179b-bc0a-4d5c-af22-c5a09eddf4ca",
   "metadata": {},
   "outputs": [
    {
     "name": "stdin",
     "output_type": "stream",
     "text": [
      "Enter total bill  1843\n"
     ]
    },
    {
     "name": "stdout",
     "output_type": "stream",
     "text": [
      "Discount Percentage: 1.0\n",
      "Discount Amount: 18.43\n",
      "Total Payable: 1824.57\n"
     ]
    }
   ],
   "source": [
    "# if total_bill of customer is greater than 10,000, he will receive 10% discount\n",
    "# if total_bill is greater than 5000, will receive 5% discount\n",
    "# if total_bill is greater than 2000, will receive 2% discount\n",
    "# if total_bill is greater than 1000, will receive 1% discount\n",
    "# else no discount\n",
    "total_bill = int(input(\"Enter total bill \"))\n",
    "if total_bill > 10000:\n",
    "    discount = 0.1  # 10/100 - 10% \n",
    "elif total_bill > 5000:\n",
    "    discount = 0.05 # 5% - 5/100\n",
    "elif total_bill > 2000:\n",
    "    discount = 0.02 # 2% - 2/100\n",
    "elif total_bill > 1000:\n",
    "    discount = 0.01 # 1% - 1/100\n",
    "else:\n",
    "    discount = 0 # no discount\n",
    "print('Discount Percentage:',discount*100)\n",
    "discount_amount = total_bill*discount\n",
    "print('Discount Amount:',discount_amount)\n",
    "total_payable = total_bill*(1-discount)\n",
    "print('Total Payable:',total_payable)"
   ]
  },
  {
   "cell_type": "code",
   "execution_count": 141,
   "id": "a5839afc-c029-4121-ac8b-b33385911642",
   "metadata": {},
   "outputs": [
    {
     "ename": "TypeError",
     "evalue": "'>' not supported between instances of 'str' and 'int'",
     "output_type": "error",
     "traceback": [
      "\u001b[1;31m---------------------------------------------------------------------------\u001b[0m",
      "\u001b[1;31mTypeError\u001b[0m                                 Traceback (most recent call last)",
      "Cell \u001b[1;32mIn[141], line 1\u001b[0m\n\u001b[1;32m----> 1\u001b[0m \u001b[38;5;124;43m'\u001b[39;49m\u001b[38;5;124;43m3567\u001b[39;49m\u001b[38;5;124;43m'\u001b[39;49m\u001b[38;5;241;43m>\u001b[39;49m\u001b[38;5;241;43m10000\u001b[39;49m\n",
      "\u001b[1;31mTypeError\u001b[0m: '>' not supported between instances of 'str' and 'int'"
     ]
    }
   ],
   "source": [
    "'3567'>10000"
   ]
  },
  {
   "cell_type": "code",
   "execution_count": 147,
   "id": "b1cfdba4-58bc-4533-8c39-30516b33db35",
   "metadata": {},
   "outputs": [
    {
     "data": {
      "text/plain": [
       "False"
      ]
     },
     "execution_count": 147,
     "metadata": {},
     "output_type": "execute_result"
    }
   ],
   "source": [
    "int('3567')>10000"
   ]
  },
  {
   "cell_type": "markdown",
   "id": "2d11685a-5bd2-4da0-85c0-784e76c2d558",
   "metadata": {},
   "source": [
    "# Assignment\n",
    "- Given input number, if it is greater than 50, apply cube and print result\n",
    "- if number is greater than 25, apply square and print result\n",
    "- if number is greater than 15, print number without any modification\n",
    "- if number is less than 10, apply square root and print result\n",
    "- if number is less than 5, apply cube root and print result\n"
   ]
  },
  {
   "cell_type": "code",
   "execution_count": 157,
   "id": "7c55bcbf-a9e7-4d8d-a4c0-d156de0ee83e",
   "metadata": {},
   "outputs": [],
   "source": [
    "# ### Example\n",
    "# - 80 (>50)--> 80*80*80\n",
    "# - 30 (>25) --> 30*30\n",
    "# - 18 (>15) --> 18\n",
    "# - 7 (<10) --> 7 power 1/2\n",
    "# - 2 (<5) --> 2 power 1/3"
   ]
  },
  {
   "cell_type": "code",
   "execution_count": 151,
   "id": "4248e2d5-c27d-40e5-a4de-6de49b8156d1",
   "metadata": {},
   "outputs": [
    {
     "data": {
      "text/plain": [
       "2.0"
      ]
     },
     "execution_count": 151,
     "metadata": {},
     "output_type": "execute_result"
    }
   ],
   "source": [
    "4**(1/2)"
   ]
  },
  {
   "cell_type": "code",
   "execution_count": null,
   "id": "0f804fbd-857c-4ea3-be82-9c395eb67b41",
   "metadata": {},
   "outputs": [],
   "source": []
  }
 ],
 "metadata": {
  "kernelspec": {
   "display_name": "Python 3 (ipykernel)",
   "language": "python",
   "name": "python3"
  },
  "language_info": {
   "codemirror_mode": {
    "name": "ipython",
    "version": 3
   },
   "file_extension": ".py",
   "mimetype": "text/x-python",
   "name": "python",
   "nbconvert_exporter": "python",
   "pygments_lexer": "ipython3",
   "version": "3.12.4"
  }
 },
 "nbformat": 4,
 "nbformat_minor": 5
}
