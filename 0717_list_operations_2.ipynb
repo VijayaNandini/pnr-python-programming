{
 "cells": [
  {
   "cell_type": "markdown",
   "id": "fa72a56c",
   "metadata": {},
   "source": [
    "#### Generating large list using range function"
   ]
  },
  {
   "cell_type": "code",
   "execution_count": 1,
   "id": "846124eb",
   "metadata": {},
   "outputs": [
    {
     "data": {
      "text/plain": [
       "[0, 1, 2, 3, 4, 5, 6, 7, 8, 9]"
      ]
     },
     "execution_count": 1,
     "metadata": {},
     "output_type": "execute_result"
    }
   ],
   "source": [
    "list(range(10))  # This range function will generate values from 0 to 9"
   ]
  },
  {
   "cell_type": "code",
   "execution_count": null,
   "id": "89f9cadb",
   "metadata": {},
   "outputs": [
    {
     "data": {
      "text/plain": [
       "[5, 6, 7, 8, 9]"
      ]
     },
     "execution_count": 3,
     "metadata": {},
     "output_type": "execute_result"
    }
   ],
   "source": [
    "list(range(5,10))  # Range with starting and ending limits"
   ]
  },
  {
   "cell_type": "code",
   "execution_count": null,
   "id": "73658d5c",
   "metadata": {},
   "outputs": [
    {
     "name": "stdout",
     "output_type": "stream",
     "text": [
      "[100, 101, 102, 103, 104, 105, 106, 107, 108, 109, 110, 111, 112, 113, 114, 115, 116, 117, 118, 119, 120, 121, 122, 123, 124, 125, 126, 127, 128, 129, 130, 131, 132, 133, 134, 135, 136, 137, 138, 139, 140, 141, 142, 143, 144, 145, 146, 147, 148, 149, 150, 151, 152, 153, 154, 155, 156, 157, 158, 159, 160, 161, 162, 163, 164, 165, 166, 167, 168, 169, 170, 171, 172, 173, 174, 175, 176, 177, 178, 179, 180, 181, 182, 183, 184, 185, 186, 187, 188, 189, 190, 191, 192, 193, 194, 195, 196, 197, 198, 199]\n"
     ]
    }
   ],
   "source": [
    "print(list(range(100,200)))"
   ]
  },
  {
   "cell_type": "code",
   "execution_count": null,
   "id": "2e68dbdb",
   "metadata": {},
   "outputs": [
    {
     "name": "stdout",
     "output_type": "stream",
     "text": [
      "[101, 102, 103, 104, 105, 106, 107, 108, 109, 110, 111, 112, 113, 114, 115, 116, 117, 118, 119, 120, 121, 122, 123, 124, 125, 126, 127, 128, 129, 130, 131, 132, 133, 134, 135, 136, 137, 138, 139, 140, 141, 142, 143, 144, 145, 146, 147, 148, 149, 150, 151, 152, 153, 154, 155, 156, 157, 158, 159, 160, 161, 162, 163, 164, 165, 166, 167, 168, 169, 170, 171, 172, 173, 174, 175, 176, 177, 178, 179, 180, 181, 182, 183, 184, 185, 186, 187, 188, 189, 190, 191, 192, 193, 194, 195, 196, 197, 198, 199, 200]\n"
     ]
    }
   ],
   "source": [
    "print(list(range(101,201)))"
   ]
  },
  {
   "cell_type": "code",
   "execution_count": null,
   "id": "f9ae5c87",
   "metadata": {},
   "outputs": [
    {
     "name": "stdout",
     "output_type": "stream",
     "text": [
      "[101, 106, 111, 116, 121, 126, 131, 136, 141, 146, 151, 156, 161, 166, 171, 176, 181, 186, 191, 196]\n"
     ]
    }
   ],
   "source": [
    "print(list(range(101,201,5)))  # range function with --> starting:ending:step_value"
   ]
  },
  {
   "cell_type": "markdown",
   "id": "07cb8e0d",
   "metadata": {},
   "source": [
    "# List Slicing"
   ]
  },
  {
   "cell_type": "code",
   "execution_count": 8,
   "id": "f69cdba3",
   "metadata": {},
   "outputs": [
    {
     "data": {
      "text/plain": [
       "[0, 1, 2, 3, 4, 5, 6, 7, 8, 9]"
      ]
     },
     "execution_count": 8,
     "metadata": {},
     "output_type": "execute_result"
    }
   ],
   "source": [
    "# input_list = [0,1,2,3,4,5,6,7,8,9] \n",
    "# (or)\n",
    "input_list = list(range(10))\n",
    "input_list"
   ]
  },
  {
   "cell_type": "code",
   "execution_count": 9,
   "id": "3145ae27",
   "metadata": {},
   "outputs": [
    {
     "data": {
      "text/plain": [
       "[2, 3, 4]"
      ]
     },
     "execution_count": 9,
     "metadata": {},
     "output_type": "execute_result"
    }
   ],
   "source": [
    "input_list[2:5]  # List slicing"
   ]
  },
  {
   "cell_type": "code",
   "execution_count": 10,
   "id": "52936fd1",
   "metadata": {},
   "outputs": [
    {
     "data": {
      "text/plain": [
       "[0, 1, 2, 3, 4, 5, 6, 7, 8, 9]"
      ]
     },
     "execution_count": 10,
     "metadata": {},
     "output_type": "execute_result"
    }
   ],
   "source": [
    "input_list"
   ]
  },
  {
   "cell_type": "code",
   "execution_count": 12,
   "id": "185c8441",
   "metadata": {},
   "outputs": [
    {
     "data": {
      "text/plain": [
       "[5, 6, 7, 8]"
      ]
     },
     "execution_count": 12,
     "metadata": {},
     "output_type": "execute_result"
    }
   ],
   "source": [
    "input_list[-5:-1]"
   ]
  },
  {
   "cell_type": "code",
   "execution_count": 13,
   "id": "7bd83e76",
   "metadata": {},
   "outputs": [
    {
     "data": {
      "text/plain": [
       "[1, 2, 3, 4, 5, 6, 7]"
      ]
     },
     "execution_count": 13,
     "metadata": {},
     "output_type": "execute_result"
    }
   ],
   "source": [
    "input_list[-9:-2]"
   ]
  },
  {
   "cell_type": "code",
   "execution_count": 14,
   "id": "63f0f428",
   "metadata": {},
   "outputs": [
    {
     "data": {
      "text/plain": [
       "[1, 3, 5, 7]"
      ]
     },
     "execution_count": 14,
     "metadata": {},
     "output_type": "execute_result"
    }
   ],
   "source": [
    "input_list[-9:-2:2]"
   ]
  },
  {
   "cell_type": "code",
   "execution_count": 15,
   "id": "950d2b0e",
   "metadata": {},
   "outputs": [
    {
     "data": {
      "text/plain": [
       "[0, 1, 2, 3, 4, 5, 6, 7, 8, 9]"
      ]
     },
     "execution_count": 15,
     "metadata": {},
     "output_type": "execute_result"
    }
   ],
   "source": [
    "input_list"
   ]
  },
  {
   "cell_type": "code",
   "execution_count": 16,
   "id": "b2ad6318",
   "metadata": {},
   "outputs": [
    {
     "data": {
      "text/plain": [
       "[0, 1, 2, 3, 4]"
      ]
     },
     "execution_count": 16,
     "metadata": {},
     "output_type": "execute_result"
    }
   ],
   "source": [
    "input_list[0:5]"
   ]
  },
  {
   "cell_type": "markdown",
   "id": "7dc5d597-34a6-4389-914c-1ada0508b62b",
   "metadata": {},
   "source": [
    "# input_list[:5]  # upto 5 -> IMP: 5 will not be included"
   ]
  },
  {
   "cell_type": "code",
   "execution_count": 19,
   "id": "f37249a9",
   "metadata": {},
   "outputs": [
    {
     "data": {
      "text/plain": [
       "[0, 1, 2, 3, 4, 5, 6, 7, 8, 9]"
      ]
     },
     "execution_count": 19,
     "metadata": {},
     "output_type": "execute_result"
    }
   ],
   "source": [
    "input_list"
   ]
  },
  {
   "cell_type": "code",
   "execution_count": 20,
   "id": "ecd358b0",
   "metadata": {},
   "outputs": [
    {
     "data": {
      "text/plain": [
       "[4, 5, 6, 7, 8, 9]"
      ]
     },
     "execution_count": 20,
     "metadata": {},
     "output_type": "execute_result"
    }
   ],
   "source": [
    "input_list[4:10]"
   ]
  },
  {
   "cell_type": "code",
   "execution_count": 21,
   "id": "9817cbbc",
   "metadata": {},
   "outputs": [
    {
     "data": {
      "text/plain": [
       "[4, 5, 6, 7, 8, 9]"
      ]
     },
     "execution_count": 21,
     "metadata": {},
     "output_type": "execute_result"
    }
   ],
   "source": [
    "input_list[4:]"
   ]
  },
  {
   "cell_type": "code",
   "execution_count": 23,
   "id": "a5cb9d07",
   "metadata": {},
   "outputs": [
    {
     "name": "stdout",
     "output_type": "stream",
     "text": [
      "[11, 14, 17, 20, 23, 26, 29, 32, 35, 38, 41, 44, 47]\n"
     ]
    }
   ],
   "source": [
    "list1 = list(range(11,50,3))\n",
    "print(list1)"
   ]
  },
  {
   "cell_type": "markdown",
   "id": "7bada282-5dfe-456f-abb0-ecbd0710c2f4",
   "metadata": {},
   "source": [
    "# First 5 items of a list\n",
    "list1[:5]  # index locations --> 0 to 4"
   ]
  },
  {
   "cell_type": "code",
   "execution_count": 30,
   "id": "1685a5f2",
   "metadata": {},
   "outputs": [
    {
     "data": {
      "text/plain": [
       "[11, 14, 17, 20, 23]"
      ]
     },
     "execution_count": 30,
     "metadata": {},
     "output_type": "execute_result"
    }
   ],
   "source": [
    "list1[:5]"
   ]
  },
  {
   "cell_type": "code",
   "execution_count": 33,
   "id": "d7e77670",
   "metadata": {},
   "outputs": [
    {
     "data": {
      "text/plain": [
       "[11, 14, 17, 20, 23, 26, 29, 32, 35, 38, 41, 44, 47]"
      ]
     },
     "execution_count": 33,
     "metadata": {},
     "output_type": "execute_result"
    }
   ],
   "source": [
    "list1"
   ]
  },
  {
   "cell_type": "code",
   "execution_count": 34,
   "id": "98f36e6f",
   "metadata": {},
   "outputs": [
    {
     "data": {
      "text/plain": [
       "[41, 44, 47]"
      ]
     },
     "execution_count": 34,
     "metadata": {},
     "output_type": "execute_result"
    }
   ],
   "source": [
    "# Last 3 items of a list\n",
    "list1[-3:]   # Here negative indexing is prefered"
   ]
  },
  {
   "cell_type": "code",
   "execution_count": 36,
   "id": "7135ca08",
   "metadata": {},
   "outputs": [
    {
     "data": {
      "text/plain": [
       "[41, 44, 47]"
      ]
     },
     "execution_count": 36,
     "metadata": {},
     "output_type": "execute_result"
    }
   ],
   "source": [
    "list1[10:]  # We cannot count index locations if list is larger"
   ]
  },
  {
   "cell_type": "code",
   "execution_count": 37,
   "id": "704c8324",
   "metadata": {},
   "outputs": [
    {
     "data": {
      "text/plain": [
       "[11, 14, 17, 20, 23, 26, 29, 32, 35, 38, 41, 44, 47]"
      ]
     },
     "execution_count": 37,
     "metadata": {},
     "output_type": "execute_result"
    }
   ],
   "source": [
    "list1"
   ]
  },
  {
   "cell_type": "code",
   "execution_count": 38,
   "id": "7fcec0fb",
   "metadata": {},
   "outputs": [
    {
     "data": {
      "text/plain": [
       "13"
      ]
     },
     "execution_count": 38,
     "metadata": {},
     "output_type": "execute_result"
    }
   ],
   "source": [
    "len(list1)"
   ]
  },
  {
   "cell_type": "code",
   "execution_count": 39,
   "id": "8e019fe0",
   "metadata": {},
   "outputs": [
    {
     "data": {
      "text/plain": [
       "10"
      ]
     },
     "execution_count": 39,
     "metadata": {},
     "output_type": "execute_result"
    }
   ],
   "source": [
    "len(list1)-3"
   ]
  },
  {
   "cell_type": "code",
   "execution_count": 40,
   "id": "3cd10c3a",
   "metadata": {},
   "outputs": [
    {
     "data": {
      "text/plain": [
       "[11, 14, 17, 20, 23, 26, 29, 32, 35, 38, 41, 44, 47]"
      ]
     },
     "execution_count": 40,
     "metadata": {},
     "output_type": "execute_result"
    }
   ],
   "source": [
    "list1"
   ]
  },
  {
   "cell_type": "code",
   "execution_count": null,
   "id": "c5877b31",
   "metadata": {},
   "outputs": [
    {
     "data": {
      "text/plain": [
       "[41, 44, 47]"
      ]
     },
     "execution_count": 41,
     "metadata": {},
     "output_type": "execute_result"
    }
   ],
   "source": [
    "list1[len(list1)-3:]   #"
   ]
  },
  {
   "cell_type": "code",
   "execution_count": 42,
   "id": "51c6b11d",
   "metadata": {},
   "outputs": [
    {
     "data": {
      "text/plain": [
       "[11, 14, 17, 20, 23, 26, 29, 32, 35, 38, 41, 44, 47]"
      ]
     },
     "execution_count": 42,
     "metadata": {},
     "output_type": "execute_result"
    }
   ],
   "source": [
    "list1"
   ]
  },
  {
   "cell_type": "code",
   "execution_count": 43,
   "id": "d8841d73",
   "metadata": {},
   "outputs": [
    {
     "name": "stdout",
     "output_type": "stream",
     "text": [
      "list1.__add__\n",
      "list1.__class__\n",
      "list1.__class_getitem__\n",
      "list1.__contains__\n",
      "list1.__delattr__\n",
      "list1.__delitem__\n",
      "list1.__dir__\n",
      "list1.__doc__\n",
      "list1.__eq__\n",
      "list1.__format__\n",
      "list1.__ge__\n",
      "list1.__getattribute__\n",
      "list1.__getitem__\n",
      "list1.__getstate__\n",
      "list1.__gt__\n",
      "list1.__hash__\n",
      "list1.__iadd__\n",
      "list1.__imul__\n",
      "list1.__init__\n",
      "list1.__init_subclass__\n",
      "list1.__iter__\n",
      "list1.__le__\n",
      "list1.__len__\n",
      "list1.__lt__\n",
      "list1.__mul__\n",
      "list1.__ne__\n",
      "list1.__new__\n",
      "list1.__reduce__\n",
      "list1.__reduce_ex__\n",
      "list1.__repr__\n",
      "list1.__reversed__\n",
      "list1.__rmul__\n",
      "list1.__setattr__\n",
      "list1.__setitem__\n",
      "list1.__sizeof__\n",
      "list1.__str__\n",
      "list1.__subclasshook__\n",
      "list1.append\n",
      "list1.clear\n",
      "list1.copy\n",
      "list1.count\n",
      "list1.extend\n",
      "list1.index\n",
      "list1.insert\n",
      "list1.pop\n",
      "list1.remove\n",
      "list1.reverse\n",
      "list1.sort"
     ]
    }
   ],
   "source": [
    "list1.*? --> # help"
   ]
  },
  {
   "cell_type": "code",
   "execution_count": null,
   "id": "37f602e3",
   "metadata": {},
   "outputs": [],
   "source": [
    "# List operations ->\n",
    "\n",
    "# list1.append --\n",
    "# list1.clear\n",
    "# list1.copy\n",
    "# list1.count\n",
    "# list1.extend\n",
    "# list1.index\n",
    "# list1.insert\n",
    "# list1.pop\n",
    "# list1.remove\n",
    "# list1.reverse\n",
    "# list1.sort"
   ]
  },
  {
   "cell_type": "code",
   "execution_count": null,
   "id": "d84219c7",
   "metadata": {},
   "outputs": [
    {
     "data": {
      "text/plain": [
       "[11, 14, 17, 20, 23, 26, 29, 32, 35, 38, 41, 44, 47]"
      ]
     },
     "execution_count": 51,
     "metadata": {},
     "output_type": "execute_result"
    }
   ],
   "source": [
    "list1"
   ]
  },
  {
   "cell_type": "code",
   "execution_count": 56,
   "id": "8a85aaa7",
   "metadata": {},
   "outputs": [
    {
     "name": "stdout",
     "output_type": "stream",
     "text": [
      "\u001b[1;31mSignature:\u001b[0m \u001b[0mlist1\u001b[0m\u001b[1;33m.\u001b[0m\u001b[0mappend\u001b[0m\u001b[1;33m(\u001b[0m\u001b[0mobject\u001b[0m\u001b[1;33m,\u001b[0m \u001b[1;33m/\u001b[0m\u001b[1;33m)\u001b[0m\u001b[1;33m\u001b[0m\u001b[1;33m\u001b[0m\u001b[0m\n",
      "\u001b[1;31mDocstring:\u001b[0m Append object to the end of the list.\n",
      "\u001b[1;31mType:\u001b[0m      builtin_function_or_method"
     ]
    }
   ],
   "source": [
    "list1.append?"
   ]
  },
  {
   "cell_type": "code",
   "execution_count": 52,
   "id": "068b994d",
   "metadata": {},
   "outputs": [],
   "source": [
    "list1.append(200)"
   ]
  },
  {
   "cell_type": "code",
   "execution_count": 53,
   "id": "d00ee0e5",
   "metadata": {},
   "outputs": [
    {
     "data": {
      "text/plain": [
       "[11, 14, 17, 20, 23, 26, 29, 32, 35, 38, 41, 44, 47, 200]"
      ]
     },
     "execution_count": 53,
     "metadata": {},
     "output_type": "execute_result"
    }
   ],
   "source": [
    "list1"
   ]
  },
  {
   "cell_type": "code",
   "execution_count": null,
   "id": "47c67d8f",
   "metadata": {},
   "outputs": [],
   "source": []
  },
  {
   "cell_type": "code",
   "execution_count": null,
   "id": "b9e689e9",
   "metadata": {},
   "outputs": [],
   "source": []
  }
 ],
 "metadata": {
  "kernelspec": {
   "display_name": "Python 3 (ipykernel)",
   "language": "python",
   "name": "python3"
  },
  "language_info": {
   "codemirror_mode": {
    "name": "ipython",
    "version": 3
   },
   "file_extension": ".py",
   "mimetype": "text/x-python",
   "name": "python",
   "nbconvert_exporter": "python",
   "pygments_lexer": "ipython3",
   "version": "3.12.4"
  }
 },
 "nbformat": 4,
 "nbformat_minor": 5
}
