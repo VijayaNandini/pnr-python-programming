{
 "cells": [
  {
   "cell_type": "markdown",
   "id": "e4cda688-38ab-4c68-ba6b-91b6151cde6f",
   "metadata": {},
   "source": [
    "# Python Operators"
   ]
  },
  {
   "cell_type": "markdown",
   "id": "52b38276-3800-4d90-8be9-5c2422f63bec",
   "metadata": {},
   "source": [
    "## Logical operators\n",
    "- **and** - **true** when **all** are true\n",
    "- **or** - **true** when **any one** is true\n",
    "- **not** - opposite of input"
   ]
  },
  {
   "cell_type": "code",
   "execution_count": 3,
   "id": "65e8ac5d-d00d-41b1-a392-c572306ccdb2",
   "metadata": {},
   "outputs": [
    {
     "data": {
      "text/plain": [
       "True"
      ]
     },
     "execution_count": 3,
     "metadata": {},
     "output_type": "execute_result"
    }
   ],
   "source": [
    "True and True"
   ]
  },
  {
   "cell_type": "code",
   "execution_count": 5,
   "id": "7bc35799-7d62-4232-9530-c003e089d2ee",
   "metadata": {},
   "outputs": [
    {
     "data": {
      "text/plain": [
       "False"
      ]
     },
     "execution_count": 5,
     "metadata": {},
     "output_type": "execute_result"
    }
   ],
   "source": [
    "True and False"
   ]
  },
  {
   "cell_type": "code",
   "execution_count": 7,
   "id": "c37a4493-54f7-4f6e-92b2-2300aafe43ac",
   "metadata": {},
   "outputs": [
    {
     "data": {
      "text/plain": [
       "False"
      ]
     },
     "execution_count": 7,
     "metadata": {},
     "output_type": "execute_result"
    }
   ],
   "source": [
    "False and True"
   ]
  },
  {
   "cell_type": "code",
   "execution_count": 9,
   "id": "e3ec1dca-27d9-4d02-a783-d0b3c8ed005c",
   "metadata": {},
   "outputs": [
    {
     "data": {
      "text/plain": [
       "False"
      ]
     },
     "execution_count": 9,
     "metadata": {},
     "output_type": "execute_result"
    }
   ],
   "source": [
    "False and False"
   ]
  },
  {
   "cell_type": "code",
   "execution_count": 13,
   "id": "94201dd2-dc31-4bc2-ab14-01bb55be516b",
   "metadata": {},
   "outputs": [
    {
     "data": {
      "text/plain": [
       "2.0"
      ]
     },
     "execution_count": 13,
     "metadata": {},
     "output_type": "execute_result"
    }
   ],
   "source": [
    "10 and 2.0"
   ]
  },
  {
   "cell_type": "code",
   "execution_count": 15,
   "id": "902da7c2-7cc3-4b68-b5f0-e76914e5ff2c",
   "metadata": {},
   "outputs": [
    {
     "data": {
      "text/plain": [
       "True"
      ]
     },
     "execution_count": 15,
     "metadata": {},
     "output_type": "execute_result"
    }
   ],
   "source": [
    "bool(10)"
   ]
  },
  {
   "cell_type": "code",
   "execution_count": 29,
   "id": "db2f9579-7f35-4c87-a29d-35a17f306a01",
   "metadata": {},
   "outputs": [],
   "source": [
    "# Any non-zero | not empty string | True --> True\n",
    "# Any zero (0 or 0.0) | empty string | False | None --> False"
   ]
  },
  {
   "cell_type": "code",
   "execution_count": 19,
   "id": "d00533fa-1df5-4dbf-be9a-64e97895acfd",
   "metadata": {},
   "outputs": [
    {
     "data": {
      "text/plain": [
       "False"
      ]
     },
     "execution_count": 19,
     "metadata": {},
     "output_type": "execute_result"
    }
   ],
   "source": [
    "bool('')"
   ]
  },
  {
   "cell_type": "code",
   "execution_count": 21,
   "id": "df6527bd-770f-405f-84c1-dafa68597eef",
   "metadata": {},
   "outputs": [
    {
     "data": {
      "text/plain": [
       "False"
      ]
     },
     "execution_count": 21,
     "metadata": {},
     "output_type": "execute_result"
    }
   ],
   "source": [
    "bool(0)"
   ]
  },
  {
   "cell_type": "code",
   "execution_count": 23,
   "id": "33eaf133-e771-4c79-94dc-5a61f4c5a561",
   "metadata": {},
   "outputs": [
    {
     "data": {
      "text/plain": [
       "False"
      ]
     },
     "execution_count": 23,
     "metadata": {},
     "output_type": "execute_result"
    }
   ],
   "source": [
    "bool(0.00)"
   ]
  },
  {
   "cell_type": "code",
   "execution_count": 25,
   "id": "af7320ee-63d7-4b0c-bb7d-63409478c767",
   "metadata": {},
   "outputs": [
    {
     "data": {
      "text/plain": [
       "False"
      ]
     },
     "execution_count": 25,
     "metadata": {},
     "output_type": "execute_result"
    }
   ],
   "source": [
    "bool(False)"
   ]
  },
  {
   "cell_type": "code",
   "execution_count": 27,
   "id": "4fc3f9bc-5334-49ec-84ee-625f11f7931e",
   "metadata": {},
   "outputs": [
    {
     "data": {
      "text/plain": [
       "False"
      ]
     },
     "execution_count": 27,
     "metadata": {},
     "output_type": "execute_result"
    }
   ],
   "source": [
    "bool(None)"
   ]
  },
  {
   "cell_type": "code",
   "execution_count": 39,
   "id": "5ba02162-2a4d-4a97-aac4-c8fa09409ecf",
   "metadata": {},
   "outputs": [
    {
     "name": "stdout",
     "output_type": "stream",
     "text": [
      "True\n",
      "False\n",
      "False\n",
      "False\n"
     ]
    }
   ],
   "source": [
    "# And Operator - all inputs must be true for output to be true\n",
    "print(True and True)\n",
    "print(True and False)\n",
    "print(False and True)\n",
    "print(False and False)"
   ]
  },
  {
   "cell_type": "code",
   "execution_count": 41,
   "id": "7479141a-d669-498a-a5c8-2dc7826bb006",
   "metadata": {},
   "outputs": [
    {
     "data": {
      "text/plain": [
       "True"
      ]
     },
     "execution_count": 41,
     "metadata": {},
     "output_type": "execute_result"
    }
   ],
   "source": [
    "True and True and True"
   ]
  },
  {
   "cell_type": "code",
   "execution_count": 43,
   "id": "b19d632f-78ac-436c-9f64-9f6532e0e5fc",
   "metadata": {},
   "outputs": [
    {
     "data": {
      "text/plain": [
       "False"
      ]
     },
     "execution_count": 43,
     "metadata": {},
     "output_type": "execute_result"
    }
   ],
   "source": [
    "True and False and True"
   ]
  },
  {
   "cell_type": "code",
   "execution_count": 45,
   "id": "79ca5408-1b7c-45d5-8623-c3de6a4e9964",
   "metadata": {},
   "outputs": [],
   "source": [
    "# OR operator - any one input must be true for output to be true"
   ]
  },
  {
   "cell_type": "code",
   "execution_count": 47,
   "id": "c5bc77eb-0821-4b7b-a4bc-eadaf0358615",
   "metadata": {},
   "outputs": [
    {
     "data": {
      "text/plain": [
       "True"
      ]
     },
     "execution_count": 47,
     "metadata": {},
     "output_type": "execute_result"
    }
   ],
   "source": [
    "True or True"
   ]
  },
  {
   "cell_type": "code",
   "execution_count": 49,
   "id": "77f021c3-8254-40f9-ad97-3e4e99dcfdf1",
   "metadata": {},
   "outputs": [
    {
     "data": {
      "text/plain": [
       "True"
      ]
     },
     "execution_count": 49,
     "metadata": {},
     "output_type": "execute_result"
    }
   ],
   "source": [
    "True or False"
   ]
  },
  {
   "cell_type": "code",
   "execution_count": 51,
   "id": "ec71ec5f-cdc3-46b2-9301-8e1d2b5bff70",
   "metadata": {},
   "outputs": [
    {
     "data": {
      "text/plain": [
       "True"
      ]
     },
     "execution_count": 51,
     "metadata": {},
     "output_type": "execute_result"
    }
   ],
   "source": [
    "False or True"
   ]
  },
  {
   "cell_type": "code",
   "execution_count": 53,
   "id": "54884b61-12c9-4e11-b1a7-154b81d0ec80",
   "metadata": {},
   "outputs": [
    {
     "data": {
      "text/plain": [
       "False"
      ]
     },
     "execution_count": 53,
     "metadata": {},
     "output_type": "execute_result"
    }
   ],
   "source": [
    "False or False"
   ]
  },
  {
   "cell_type": "code",
   "execution_count": 55,
   "id": "a1af1a57-aec9-4fba-9b96-b030734f229e",
   "metadata": {},
   "outputs": [],
   "source": [
    "# NOT Operator - inversion"
   ]
  },
  {
   "cell_type": "code",
   "execution_count": 57,
   "id": "a7fcfada-bd6d-4661-a65b-23adf78dfa5c",
   "metadata": {},
   "outputs": [
    {
     "data": {
      "text/plain": [
       "False"
      ]
     },
     "execution_count": 57,
     "metadata": {},
     "output_type": "execute_result"
    }
   ],
   "source": [
    "not True"
   ]
  },
  {
   "cell_type": "code",
   "execution_count": 59,
   "id": "195932da-72df-468d-bec9-37b3770f77c5",
   "metadata": {},
   "outputs": [
    {
     "data": {
      "text/plain": [
       "True"
      ]
     },
     "execution_count": 59,
     "metadata": {},
     "output_type": "execute_result"
    }
   ],
   "source": [
    "not False"
   ]
  },
  {
   "cell_type": "markdown",
   "id": "d9446919-849e-4f78-b547-8bdc9e1352f8",
   "metadata": {},
   "source": [
    "# Bitwise Operators\n",
    "- **&** - and\n",
    "- **|** - or\n",
    "- **~** - not\n",
    "- **^** - ex-or\n",
    "- **>>** - right shift\n",
    "- **<<** - left shift"
   ]
  },
  {
   "cell_type": "code",
   "execution_count": 89,
   "id": "36e2bba6-f4d5-4dff-a5f4-ab21ea65cc5d",
   "metadata": {},
   "outputs": [
    {
     "data": {
      "text/plain": [
       "0"
      ]
     },
     "execution_count": 89,
     "metadata": {},
     "output_type": "execute_result"
    }
   ],
   "source": [
    "1 & 2"
   ]
  },
  {
   "cell_type": "code",
   "execution_count": 91,
   "id": "0400f7e7-11dc-475d-8f82-56f834820f41",
   "metadata": {},
   "outputs": [
    {
     "data": {
      "text/plain": [
       "4"
      ]
     },
     "execution_count": 91,
     "metadata": {},
     "output_type": "execute_result"
    }
   ],
   "source": [
    "4 & 5"
   ]
  },
  {
   "cell_type": "code",
   "execution_count": 93,
   "id": "47d31076-eee5-4735-a961-5e03481c1a1f",
   "metadata": {},
   "outputs": [
    {
     "data": {
      "text/plain": [
       "False"
      ]
     },
     "execution_count": 93,
     "metadata": {},
     "output_type": "execute_result"
    }
   ],
   "source": [
    "True & False"
   ]
  },
  {
   "cell_type": "code",
   "execution_count": 95,
   "id": "b95a1427-307a-4964-afcd-0f6f92fcb7c5",
   "metadata": {},
   "outputs": [
    {
     "data": {
      "text/plain": [
       "True"
      ]
     },
     "execution_count": 95,
     "metadata": {},
     "output_type": "execute_result"
    }
   ],
   "source": [
    "True & True"
   ]
  },
  {
   "cell_type": "code",
   "execution_count": 97,
   "id": "005d44be-8982-417a-8261-08c29076bd73",
   "metadata": {},
   "outputs": [
    {
     "data": {
      "text/plain": [
       "3"
      ]
     },
     "execution_count": 97,
     "metadata": {},
     "output_type": "execute_result"
    }
   ],
   "source": [
    "1 | 2"
   ]
  },
  {
   "cell_type": "code",
   "execution_count": 99,
   "id": "bc63ef7e-4fe8-411e-bb29-c7819b589f01",
   "metadata": {},
   "outputs": [
    {
     "data": {
      "text/plain": [
       "5"
      ]
     },
     "execution_count": 99,
     "metadata": {},
     "output_type": "execute_result"
    }
   ],
   "source": [
    "4 | 5"
   ]
  },
  {
   "cell_type": "code",
   "execution_count": 107,
   "id": "34bafcce-b364-47c2-8cc2-783886c00f32",
   "metadata": {},
   "outputs": [
    {
     "data": {
      "text/plain": [
       "-5"
      ]
     },
     "execution_count": 107,
     "metadata": {},
     "output_type": "execute_result"
    }
   ],
   "source": [
    "~4"
   ]
  },
  {
   "cell_type": "code",
   "execution_count": 109,
   "id": "78e2ab9f-92cc-499c-a352-6857decb0c66",
   "metadata": {},
   "outputs": [
    {
     "data": {
      "text/plain": [
       "3"
      ]
     },
     "execution_count": 109,
     "metadata": {},
     "output_type": "execute_result"
    }
   ],
   "source": [
    "1 ^ 2"
   ]
  },
  {
   "cell_type": "code",
   "execution_count": 111,
   "id": "ea653661-f2f5-4652-9756-12f1324243ab",
   "metadata": {},
   "outputs": [
    {
     "data": {
      "text/plain": [
       "1"
      ]
     },
     "execution_count": 111,
     "metadata": {},
     "output_type": "execute_result"
    }
   ],
   "source": [
    "4 ^ 5"
   ]
  },
  {
   "cell_type": "code",
   "execution_count": 113,
   "id": "f3645d7d-9fbf-43cd-a0fe-72479948cb91",
   "metadata": {},
   "outputs": [
    {
     "data": {
      "text/plain": [
       "3"
      ]
     },
     "execution_count": 113,
     "metadata": {},
     "output_type": "execute_result"
    }
   ],
   "source": [
    "12 >> 2"
   ]
  },
  {
   "cell_type": "code",
   "execution_count": 115,
   "id": "4b104295-b1e7-49a6-a4a0-27ff4ef96d1d",
   "metadata": {},
   "outputs": [
    {
     "data": {
      "text/plain": [
       "48"
      ]
     },
     "execution_count": 115,
     "metadata": {},
     "output_type": "execute_result"
    }
   ],
   "source": [
    "12 << 2"
   ]
  },
  {
   "cell_type": "markdown",
   "id": "6d10ab8a-e427-48d9-82a4-58b9eddd962b",
   "metadata": {},
   "source": [
    "## Assignment Operators\n",
    "- **+=** : add and then assign result\n",
    "- **-=** : subtract and then assign result\n",
    "- **\\*=** : multiply and then assign result\n",
    "- **/=** : divide and then assign result\n",
    "- **//=** : get quotient and then assign result\n",
    "- **%=** : get remainder and then assign result\n",
    "- **\\**=** : get power of and then assign result\n",
    "- **&=** : bitwise AND and then assign result\n",
    "- **|=** : bitwise OR and then assign result\n",
    "- **~=** : bitwise NOT and then assign result\n",
    "- **^=** : bitwise EXOR and then assign result\n",
    "- **>>=** : bitwise RIGHT SHIFT and then assign result\n",
    "- **<<=** : bitwise LEFT SHIFT and then assign result"
   ]
  },
  {
   "cell_type": "code",
   "execution_count": 81,
   "id": "d915697a-273b-4041-bc47-67fc74ee802b",
   "metadata": {},
   "outputs": [],
   "source": [
    "a = 10"
   ]
  },
  {
   "cell_type": "code",
   "execution_count": 83,
   "id": "fab3159c-5aa6-409a-b161-2b3b232db03a",
   "metadata": {},
   "outputs": [
    {
     "name": "stdout",
     "output_type": "stream",
     "text": [
      "11\n"
     ]
    }
   ],
   "source": [
    "a = a + 1\n",
    "print(a)"
   ]
  },
  {
   "cell_type": "code",
   "execution_count": 77,
   "id": "4ed782ae-603e-4864-8f81-83af89d29fbf",
   "metadata": {},
   "outputs": [],
   "source": [
    "b = 3"
   ]
  },
  {
   "cell_type": "code",
   "execution_count": 79,
   "id": "ffbb978f-4841-490f-9883-9d0afaaa9b8f",
   "metadata": {},
   "outputs": [
    {
     "name": "stdout",
     "output_type": "stream",
     "text": [
      "5\n"
     ]
    }
   ],
   "source": [
    "b += 2\n",
    "print(b)"
   ]
  },
  {
   "cell_type": "code",
   "execution_count": 118,
   "id": "598237de-d890-42d9-b64d-ab392de0d819",
   "metadata": {},
   "outputs": [
    {
     "name": "stdout",
     "output_type": "stream",
     "text": [
      "42\n"
     ]
    }
   ],
   "source": [
    "c = 14\n",
    "c *= 3  # c = c*3\n",
    "print(c)"
   ]
  },
  {
   "cell_type": "code",
   "execution_count": 120,
   "id": "2106dd8b-a802-4160-becf-74c91541e586",
   "metadata": {},
   "outputs": [
    {
     "name": "stdout",
     "output_type": "stream",
     "text": [
      "2.8\n"
     ]
    }
   ],
   "source": [
    "d = 14\n",
    "d /= 5  # d = d/5\n",
    "print(d)"
   ]
  },
  {
   "cell_type": "code",
   "execution_count": 122,
   "id": "ce324f4b-00f4-47e2-9776-0665f4ca2f06",
   "metadata": {},
   "outputs": [
    {
     "name": "stdout",
     "output_type": "stream",
     "text": [
      "2\n"
     ]
    }
   ],
   "source": [
    "e = 14\n",
    "e //=5  # e = e//5\n",
    "print(e)"
   ]
  },
  {
   "cell_type": "code",
   "execution_count": 124,
   "id": "9a914a56-e5e2-40df-a9ea-a77369e26df9",
   "metadata": {},
   "outputs": [
    {
     "name": "stdout",
     "output_type": "stream",
     "text": [
      "4\n"
     ]
    }
   ],
   "source": [
    "f = 14\n",
    "f %= 5  # f = f%5\n",
    "print(f)"
   ]
  },
  {
   "cell_type": "code",
   "execution_count": 126,
   "id": "0071d93e-79a6-48c4-9be6-099473a89ae6",
   "metadata": {},
   "outputs": [
    {
     "name": "stdout",
     "output_type": "stream",
     "text": [
      "0\n"
     ]
    }
   ],
   "source": [
    "g = 1\n",
    "g &=2  # g = g&2\n",
    "print(g)"
   ]
  },
  {
   "cell_type": "markdown",
   "id": "78873ffb-8d57-4000-8ff2-2163e43a93a4",
   "metadata": {},
   "source": [
    "# Conditional Statements\n",
    "- if\n",
    "- elif\n",
    "- else"
   ]
  },
  {
   "cell_type": "code",
   "execution_count": 129,
   "id": "919e81e3-b5d5-4de0-ae51-14217a1f9cc2",
   "metadata": {},
   "outputs": [],
   "source": [
    "# if <CONDITION>:\n",
    "#     Line 1 code\n",
    "#     Line 2 code\n",
    "#     ..."
   ]
  },
  {
   "cell_type": "code",
   "execution_count": 131,
   "id": "490415d0-ed41-4c87-b38e-0dd5bd57b054",
   "metadata": {},
   "outputs": [
    {
     "data": {
      "text/plain": [
       "True"
      ]
     },
     "execution_count": 131,
     "metadata": {},
     "output_type": "execute_result"
    }
   ],
   "source": [
    "10 > 2"
   ]
  },
  {
   "cell_type": "code",
   "execution_count": 133,
   "id": "fe349bad-fc29-48e4-b322-ce614da236b9",
   "metadata": {},
   "outputs": [
    {
     "name": "stdout",
     "output_type": "stream",
     "text": [
      "I'm inside if\n"
     ]
    }
   ],
   "source": [
    "if 10 > 2:\n",
    "    print(\"I'm inside if\")"
   ]
  },
  {
   "cell_type": "code",
   "execution_count": 135,
   "id": "2a01062a-d065-4540-aea3-eaf27208be04",
   "metadata": {},
   "outputs": [],
   "source": [
    "if 10>100:\n",
    "    print(\"10 is greater than 100\")\n",
    "    print(\"I'm inside if\")\n",
    "    print(\"I will never get called\")"
   ]
  },
  {
   "cell_type": "code",
   "execution_count": 137,
   "id": "4d14d1f6-a8d4-41fb-864c-302119d69d16",
   "metadata": {},
   "outputs": [
    {
     "name": "stdout",
     "output_type": "stream",
     "text": [
      "I'm outise if\n",
      "I will always be called\n"
     ]
    }
   ],
   "source": [
    "if 10>100:\n",
    "    print(\"10 is greater than 100\")\n",
    "    print(\"I'm inside if\")\n",
    "print(\"I'm outise if\")\n",
    "print(\"I will always be called\")"
   ]
  },
  {
   "cell_type": "code",
   "execution_count": 147,
   "id": "6c8ac3cf-3462-4d6a-8031-ee100c60fa28",
   "metadata": {},
   "outputs": [
    {
     "name": "stdout",
     "output_type": "stream",
     "text": [
      "I'm outise if\n",
      "I will always be called\n"
     ]
    }
   ],
   "source": [
    "if 10>100: # Only when this condition is true - statements inside if will get executed\n",
    "    print(\"10 is greater than 100\")\n",
    "    print(\"I'm inside if\")\n",
    "# End of if\n",
    "print(\"I'm outise if\")\n",
    "print(\"I will always be called\")"
   ]
  },
  {
   "cell_type": "code",
   "execution_count": 149,
   "id": "8e5bff7f-1b00-4946-9a64-5ed3b14fc8e8",
   "metadata": {},
   "outputs": [],
   "source": [
    "# : - colon\n",
    "# ; - semicolon"
   ]
  },
  {
   "cell_type": "code",
   "execution_count": null,
   "id": "0d3f23d3-38d4-4fc2-a4bd-5bdd582bff3e",
   "metadata": {},
   "outputs": [],
   "source": []
  }
 ],
 "metadata": {
  "kernelspec": {
   "display_name": "Python 3 (ipykernel)",
   "language": "python",
   "name": "python3"
  },
  "language_info": {
   "codemirror_mode": {
    "name": "ipython",
    "version": 3
   },
   "file_extension": ".py",
   "mimetype": "text/x-python",
   "name": "python",
   "nbconvert_exporter": "python",
   "pygments_lexer": "ipython3",
   "version": "3.12.4"
  }
 },
 "nbformat": 4,
 "nbformat_minor": 5
}
