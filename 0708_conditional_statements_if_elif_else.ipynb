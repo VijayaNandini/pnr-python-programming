{
 "cells": [
  {
   "cell_type": "markdown",
   "id": "344a7a10-13f6-4c08-8f6e-e91c2148372a",
   "metadata": {},
   "source": [
    "# Conditional Statements\n",
    "To execute code based on a condition.\n",
    "- if : this block executes only when it's condition is true\n",
    "- elif : this block executes only when it's condition is true\n",
    "- else : this block executes when all the previous conditions fail"
   ]
  },
  {
   "cell_type": "markdown",
   "id": "3fae3244-0450-47c5-a8af-96a27ff3a4a4",
   "metadata": {},
   "source": [
    "#### SYNTAX\n",
    "~~~\n",
    "if <CONDITION>:\n",
    "    IF_STATEMENT_1\n",
    "    IF_STATEMENT_2\n",
    "    IF_STATEMENT_3\n",
    "elif <CONDITION>:\n",
    "    STATEMENT_1\n",
    "    STATEMENT_2\n",
    "    STATEMENT_3\n",
    "elif <CONDITION>:\n",
    "    STATEMENT_1\n",
    "    STATEMENT_2\n",
    "    STATEMENT_3\n",
    "else:\n",
    "    STATEMENT_1\n",
    "    STATEMENT_2\n",
    "    STATEMENT_3\n",
    "# END OF IF-ELSE\n",
    "~~~"
   ]
  },
  {
   "cell_type": "code",
   "execution_count": 4,
   "id": "daee8b2f-c42b-4035-ad6e-be62f89c2839",
   "metadata": {},
   "outputs": [],
   "source": [
    "# if age < 18 --> print minor\n",
    "# else --> print not minor"
   ]
  },
  {
   "cell_type": "code",
   "execution_count": 6,
   "id": "ac98388d-8941-4745-905f-935bb2c54d0b",
   "metadata": {},
   "outputs": [],
   "source": [
    "age = 20"
   ]
  },
  {
   "cell_type": "code",
   "execution_count": 8,
   "id": "ba78ab1b-0b9c-4bfb-9a82-0c960f8b4211",
   "metadata": {},
   "outputs": [
    {
     "name": "stdout",
     "output_type": "stream",
     "text": [
      "20\n"
     ]
    }
   ],
   "source": [
    "print(age)"
   ]
  },
  {
   "cell_type": "code",
   "execution_count": 10,
   "id": "5fb6423d-35af-4760-ac99-9955b997dd42",
   "metadata": {},
   "outputs": [
    {
     "data": {
      "text/plain": [
       "False"
      ]
     },
     "execution_count": 10,
     "metadata": {},
     "output_type": "execute_result"
    }
   ],
   "source": [
    "age < 18"
   ]
  },
  {
   "cell_type": "code",
   "execution_count": 12,
   "id": "c4d452fc-521c-49ab-930f-b24ceab34250",
   "metadata": {},
   "outputs": [
    {
     "name": "stdout",
     "output_type": "stream",
     "text": [
      "not minor\n"
     ]
    }
   ],
   "source": [
    "if age<18:\n",
    "    print(\"minor\")\n",
    "else:\n",
    "    print(\"not minor\")"
   ]
  },
  {
   "cell_type": "code",
   "execution_count": 22,
   "id": "720a5ac6-cc3b-4318-b20a-2fbf8978b210",
   "metadata": {},
   "outputs": [
    {
     "name": "stdout",
     "output_type": "stream",
     "text": [
      "minor\n"
     ]
    }
   ],
   "source": [
    "age = 14\n",
    "# print(age<18)\n",
    "if age<18:\n",
    "    print(\"minor\")\n",
    "else:\n",
    "    print(\"not minor\")"
   ]
  },
  {
   "cell_type": "code",
   "execution_count": 24,
   "id": "26da955d-d1f1-44ac-8b34-dedc0eeda0bf",
   "metadata": {},
   "outputs": [
    {
     "name": "stdin",
     "output_type": "stream",
     "text": [
      "Enter name: Nandini\n"
     ]
    }
   ],
   "source": [
    "name = input(\"Enter name:\")"
   ]
  },
  {
   "cell_type": "code",
   "execution_count": 26,
   "id": "372da735-400c-4683-beac-8559d4017b7b",
   "metadata": {},
   "outputs": [
    {
     "data": {
      "text/plain": [
       "'Nandini'"
      ]
     },
     "execution_count": 26,
     "metadata": {},
     "output_type": "execute_result"
    }
   ],
   "source": [
    "name"
   ]
  },
  {
   "cell_type": "code",
   "execution_count": 34,
   "id": "6212503f-cb9b-4034-881b-4b766821cc1e",
   "metadata": {},
   "outputs": [
    {
     "name": "stdin",
     "output_type": "stream",
     "text": [
      "Enter age: 16\n"
     ]
    },
    {
     "name": "stdout",
     "output_type": "stream",
     "text": [
      "16\n",
      "<class 'str'>\n"
     ]
    }
   ],
   "source": [
    "age = input(\"Enter age:\") # Input function takes input at runtime but in 'str' format\n",
    "print(age)\n",
    "print(type(age))"
   ]
  },
  {
   "cell_type": "code",
   "execution_count": 36,
   "id": "6a61ffc1-bcdb-4d6a-a14f-e4b7e054efaa",
   "metadata": {},
   "outputs": [
    {
     "data": {
      "text/plain": [
       "'16'"
      ]
     },
     "execution_count": 36,
     "metadata": {},
     "output_type": "execute_result"
    }
   ],
   "source": [
    "age"
   ]
  },
  {
   "cell_type": "code",
   "execution_count": 38,
   "id": "6321899d-a7ec-4288-8c6a-7e812835ed52",
   "metadata": {},
   "outputs": [
    {
     "data": {
      "text/plain": [
       "16"
      ]
     },
     "execution_count": 38,
     "metadata": {},
     "output_type": "execute_result"
    }
   ],
   "source": [
    "int(age)"
   ]
  },
  {
   "cell_type": "code",
   "execution_count": 40,
   "id": "5d2497c6-fc1d-47a0-9c63-45e2560bf589",
   "metadata": {},
   "outputs": [
    {
     "data": {
      "text/plain": [
       "int"
      ]
     },
     "execution_count": 40,
     "metadata": {},
     "output_type": "execute_result"
    }
   ],
   "source": [
    "type(int(age))"
   ]
  },
  {
   "cell_type": "code",
   "execution_count": 50,
   "id": "0d72b67d-e0bf-485b-b856-f91b391b6cf5",
   "metadata": {},
   "outputs": [
    {
     "name": "stdin",
     "output_type": "stream",
     "text": [
      "Enter age: 30\n"
     ]
    },
    {
     "name": "stdout",
     "output_type": "stream",
     "text": [
      "<class 'int'>\n"
     ]
    }
   ],
   "source": [
    "age = int(input(\"Enter age:\")) # Assuming that user will pass only numbers. Otherwise we will get ValueError\n",
    "print(type(age))"
   ]
  },
  {
   "cell_type": "code",
   "execution_count": 56,
   "id": "901d689b-bbb3-40a7-a2cb-53de9451ae8a",
   "metadata": {},
   "outputs": [
    {
     "name": "stdout",
     "output_type": "stream",
     "text": [
      "Madhuri <class 'str'>\n"
     ]
    }
   ],
   "source": [
    "name = 'Madhuri'\n",
    "print(name,type(name))"
   ]
  },
  {
   "cell_type": "code",
   "execution_count": 58,
   "id": "aefd6620-a6a4-4f69-8270-a99a7ea2ec8a",
   "metadata": {},
   "outputs": [
    {
     "name": "stdin",
     "output_type": "stream",
     "text": [
      "Enter age: 45\n"
     ]
    },
    {
     "name": "stdout",
     "output_type": "stream",
     "text": [
      "45 <class 'str'>\n",
      "45 <class 'int'>\n"
     ]
    }
   ],
   "source": [
    "age = input(\"Enter age:\")\n",
    "print(age,type(age))\n",
    "age = int(age) # reassigning value after type conversion \n",
    "print(age,type(age))"
   ]
  },
  {
   "cell_type": "code",
   "execution_count": 64,
   "id": "3a6ce443-5846-4d28-88fb-d8b267aaebe6",
   "metadata": {},
   "outputs": [
    {
     "name": "stdin",
     "output_type": "stream",
     "text": [
      "Enter age: 56\n"
     ]
    },
    {
     "name": "stdout",
     "output_type": "stream",
     "text": [
      "Not minor\n"
     ]
    }
   ],
   "source": [
    "# if age<18, print minor\n",
    "# else print not minor\n",
    "\n",
    "age = int(input(\"Enter age:\"))\n",
    "# print(age<18)\n",
    "if age<18:\n",
    "    print(\"Minor\")\n",
    "else:\n",
    "    print(\"Not minor\")\n",
    "# End of if-else"
   ]
  },
  {
   "cell_type": "markdown",
   "id": "6ffe51c4-bb24-44f0-a1be-419fa4722b3e",
   "metadata": {},
   "source": [
    "# Example 2"
   ]
  },
  {
   "cell_type": "code",
   "execution_count": 67,
   "id": "b1fe5aea-c59a-4ca1-a1b2-987917f85d51",
   "metadata": {},
   "outputs": [],
   "source": [
    "# if total_bill of customer is greater than 10,000, he will receive 10% discount\n",
    "# if total_bill is greater than 5000, will receive 5% discount\n",
    "# if total_bill is greater than 2000, will receive 2% discount\n",
    "# if total_bill is greater than 1000, will receive 1% discount\n",
    "# else no discount"
   ]
  },
  {
   "cell_type": "code",
   "execution_count": 85,
   "id": "eed86fda-bfb5-416a-90ec-1ff8d8e052bb",
   "metadata": {},
   "outputs": [],
   "source": [
    "# 10/100  # 10% discount  # 0.1\n",
    "# 5/100  # 5% discount\n",
    "# 2/100 # 2% discount\n",
    "# 1/100 # 1% discount\n",
    "# 0  # no discount\n",
    "# Expected discounts - 0.1, 0.05, 0.02, 0.01, 0"
   ]
  },
  {
   "cell_type": "code",
   "execution_count": 91,
   "id": "b0708079-d4d9-48d4-9da2-8dd216991b46",
   "metadata": {},
   "outputs": [
    {
     "data": {
      "text/plain": [
       "90.0"
      ]
     },
     "execution_count": 91,
     "metadata": {},
     "output_type": "execute_result"
    }
   ],
   "source": [
    "100 * (1-0.1) # 10% discount"
   ]
  },
  {
   "cell_type": "code",
   "execution_count": 89,
   "id": "f1c6aa9e-c5a8-4633-b163-21942fc7dd31",
   "metadata": {},
   "outputs": [
    {
     "data": {
      "text/plain": [
       "95.0"
      ]
     },
     "execution_count": 89,
     "metadata": {},
     "output_type": "execute_result"
    }
   ],
   "source": [
    "100 * (1-0.05) # 5% discount"
   ]
  },
  {
   "cell_type": "code",
   "execution_count": 99,
   "id": "11298805-28ad-461b-ba4f-8452c2a3fab9",
   "metadata": {},
   "outputs": [
    {
     "name": "stdout",
     "output_type": "stream",
     "text": [
      "5.0\n",
      "95.0\n"
     ]
    }
   ],
   "source": [
    "print(100*0.05) # discount_amount\n",
    "print(100 - 5.0) # total_payable"
   ]
  },
  {
   "cell_type": "code",
   "execution_count": 103,
   "id": "c43d01bb-052c-4556-94bd-27a54b2fa367",
   "metadata": {},
   "outputs": [
    {
     "data": {
      "text/plain": [
       "110.00000000000001"
      ]
     },
     "execution_count": 103,
     "metadata": {},
     "output_type": "execute_result"
    }
   ],
   "source": [
    "# 100*(1+0.1)\n",
    "100*1.1  # for loan interest"
   ]
  },
  {
   "cell_type": "code",
   "execution_count": 105,
   "id": "b6c03b43-4c17-4ca7-80e6-8fefe42104dd",
   "metadata": {},
   "outputs": [
    {
     "data": {
      "text/plain": [
       "85.0"
      ]
     },
     "execution_count": 105,
     "metadata": {},
     "output_type": "execute_result"
    }
   ],
   "source": [
    "100*(1-0.15)"
   ]
  },
  {
   "cell_type": "code",
   "execution_count": 107,
   "id": "b9da1296-8d5d-4611-90a3-f5ea2f0092cb",
   "metadata": {},
   "outputs": [
    {
     "name": "stdout",
     "output_type": "stream",
     "text": [
      "10800.0\n"
     ]
    }
   ],
   "source": [
    "total_bill = 12000\n",
    "discount = 0.1\n",
    "# total_payable = 12000*(1-0.1)\n",
    "total_payable = total_bill*(1-discount)\n",
    "print(total_payable)"
   ]
  },
  {
   "cell_type": "code",
   "execution_count": 115,
   "id": "66a1621d-4fab-4d05-b81c-8b65447dd60b",
   "metadata": {},
   "outputs": [
    {
     "name": "stdout",
     "output_type": "stream",
     "text": [
      "1200.0\n",
      "10800.0\n"
     ]
    }
   ],
   "source": [
    "total_bill = 12000\n",
    "discount = 0.1\n",
    "discount_amount = total_bill*discount\n",
    "print(discount_amount)\n",
    "total_payable = total_bill*(1-discount)\n",
    "print(total_payable)"
   ]
  },
  {
   "cell_type": "code",
   "execution_count": 113,
   "id": "31677627-a8bb-44bf-9abb-aad02e31671d",
   "metadata": {},
   "outputs": [
    {
     "name": "stdout",
     "output_type": "stream",
     "text": [
      "1200.0\n",
      "10800.0\n"
     ]
    }
   ],
   "source": [
    "total_bill = 12000\n",
    "discount = 0.1 \n",
    "discount_amount = total_bill*discount\n",
    "print(discount_amount)\n",
    "total_payable = total_bill - discount_amount \n",
    "print(total_payable)"
   ]
  },
  {
   "cell_type": "code",
   "execution_count": 117,
   "id": "f1e26794-0bfe-46e5-964a-6245608ac6c9",
   "metadata": {},
   "outputs": [],
   "source": [
    "# if total_bill of customer is greater than 10,000, he will receive 10% discount\n",
    "# if total_bill is greater than 5000, will receive 5% discount\n",
    "# if total_bill is greater than 2000, will receive 2% discount\n",
    "# if total_bill is greater than 1000, will receive 1% discount\n",
    "# else no discount"
   ]
  },
  {
   "cell_type": "code",
   "execution_count": 123,
   "id": "5b415ce2-95aa-4390-86a1-4d3039889fe9",
   "metadata": {},
   "outputs": [
    {
     "name": "stdout",
     "output_type": "stream",
     "text": [
      "10.0\n",
      "1200.0\n",
      "10800.0\n"
     ]
    }
   ],
   "source": [
    "# if total_bill of customer is greater than 10,000, he will receive 10% discount\n",
    "# else no discount\n",
    "total_bill = 12000\n",
    "if total_bill > 10000:\n",
    "    discount = 0.1  # 10/100 - 10% \n",
    "else:\n",
    "    discount = 0 # no discount\n",
    "print(discount*100)\n",
    "discount_amount = total_bill*discount\n",
    "print(discount_amount)\n",
    "total_payable = total_bill*(1-discount)\n",
    "print(total_payable)"
   ]
  },
  {
   "cell_type": "code",
   "execution_count": 119,
   "id": "394cb94a-fbf5-41c2-99f3-b9b7943b4c39",
   "metadata": {},
   "outputs": [
    {
     "data": {
      "text/plain": [
       "0.1"
      ]
     },
     "execution_count": 119,
     "metadata": {},
     "output_type": "execute_result"
    }
   ],
   "source": [
    "10/100"
   ]
  },
  {
   "cell_type": "code",
   "execution_count": 129,
   "id": "bfb82901-759c-45c6-96a6-d230f2319529",
   "metadata": {},
   "outputs": [
    {
     "name": "stdout",
     "output_type": "stream",
     "text": [
      "Discount Percentage: 10.0\n",
      "Discount Amount: 1200.0\n",
      "Total Payable: 10800.0\n"
     ]
    }
   ],
   "source": [
    "# if total_bill of customer is greater than 10,000, he will receive 10% discount\n",
    "# if total_bill is greater than 5000, will receive 5% discount\n",
    "# else no discount\n",
    "total_bill = 12000\n",
    "if total_bill > 10000:\n",
    "    discount = 0.1  # 10/100 - 10% \n",
    "else:\n",
    "    discount = 0 # no discount\n",
    "print('Discount Percentage:',discount*100)\n",
    "discount_amount = total_bill*discount\n",
    "print('Discount Amount:',discount_amount)\n",
    "total_payable = total_bill*(1-discount)\n",
    "print('Total Payable:',total_payable)"
   ]
  },
  {
   "cell_type": "code",
   "execution_count": 133,
   "id": "edf83cbe-8deb-4aac-846b-ca61bff0041d",
   "metadata": {},
   "outputs": [
    {
     "name": "stdout",
     "output_type": "stream",
     "text": [
      "Discount Percentage: 10.0\n",
      "Discount Amount: 1200.0\n",
      "Total Payable: 10800.0\n"
     ]
    }
   ],
   "source": [
    "# if total_bill of customer is greater than 10,000, he will receive 10% discount\n",
    "# else no discount\n",
    "total_bill = 12000\n",
    "if total_bill > 10000:\n",
    "    discount = 0.1  # 10/100 - 10% \n",
    "elif total_bill > 5000:\n",
    "    discount = 0.05 # 5% - 5/100\n",
    "else:\n",
    "    discount = 0 # no discount\n",
    "print('Discount Percentage:',discount*100)\n",
    "discount_amount = total_bill*discount\n",
    "print('Discount Amount:',discount_amount)\n",
    "total_payable = total_bill*(1-discount)\n",
    "print('Total Payable:',total_payable)"
   ]
  },
  {
   "cell_type": "code",
   "execution_count": 131,
   "id": "7174f2f5-e231-415b-8379-6d10567447e6",
   "metadata": {},
   "outputs": [
    {
     "data": {
      "text/plain": [
       "0.05"
      ]
     },
     "execution_count": 131,
     "metadata": {},
     "output_type": "execute_result"
    }
   ],
   "source": [
    "5/100"
   ]
  },
  {
   "cell_type": "code",
   "execution_count": 135,
   "id": "6f101095-4801-4a3b-9383-068214de555f",
   "metadata": {},
   "outputs": [
    {
     "name": "stdout",
     "output_type": "stream",
     "text": [
      "Discount Percentage: 5.0\n",
      "Discount Amount: 400.0\n",
      "Total Payable: 7600.0\n"
     ]
    }
   ],
   "source": [
    "# if total_bill of customer is greater than 10,000, he will receive 10% discount\n",
    "# else no discount\n",
    "total_bill = 8000\n",
    "if total_bill > 10000:\n",
    "    discount = 0.1  # 10/100 - 10% \n",
    "elif total_bill > 5000:\n",
    "    discount = 0.05 # 5% - 5/100\n",
    "else:\n",
    "    discount = 0 # no discount\n",
    "print('Discount Percentage:',discount*100)\n",
    "discount_amount = total_bill*discount\n",
    "print('Discount Amount:',discount_amount)\n",
    "total_payable = total_bill*(1-discount)\n",
    "print('Total Payable:',total_payable)"
   ]
  },
  {
   "cell_type": "code",
   "execution_count": 137,
   "id": "656b189a-2ad2-4de1-b45d-e2ea1cbfb1e3",
   "metadata": {},
   "outputs": [
    {
     "name": "stdout",
     "output_type": "stream",
     "text": [
      "Discount Percentage: 0\n",
      "Discount Amount: 0\n",
      "Total Payable: 2000\n"
     ]
    }
   ],
   "source": [
    "# if total_bill of customer is greater than 10,000, he will receive 10% discount\n",
    "# else no discount\n",
    "total_bill = 2000\n",
    "if total_bill > 10000:\n",
    "    discount = 0.1  # 10/100 - 10% \n",
    "elif total_bill > 5000:\n",
    "    discount = 0.05 # 5% - 5/100\n",
    "else:\n",
    "    discount = 0 # no discount\n",
    "print('Discount Percentage:',discount*100)\n",
    "discount_amount = total_bill*discount\n",
    "print('Discount Amount:',discount_amount)\n",
    "total_payable = total_bill*(1-discount)\n",
    "print('Total Payable:',total_payable)"
   ]
  },
  {
   "cell_type": "code",
   "execution_count": 149,
   "id": "30d7179b-bc0a-4d5c-af22-c5a09eddf4ca",
   "metadata": {},
   "outputs": [
    {
     "name": "stdin",
     "output_type": "stream",
     "text": [
      "Enter total bill  1843\n"
     ]
    },
    {
     "name": "stdout",
     "output_type": "stream",
     "text": [
      "Discount Percentage: 1.0\n",
      "Discount Amount: 18.43\n",
      "Total Payable: 1824.57\n"
     ]
    }
   ],
   "source": [
    "# if total_bill of customer is greater than 10,000, he will receive 10% discount\n",
    "# if total_bill is greater than 5000, will receive 5% discount\n",
    "# if total_bill is greater than 2000, will receive 2% discount\n",
    "# if total_bill is greater than 1000, will receive 1% discount\n",
    "# else no discount\n",
    "total_bill = int(input(\"Enter total bill \"))\n",
    "if total_bill > 10000:\n",
    "    discount = 0.1  # 10/100 - 10% \n",
    "elif total_bill > 5000:\n",
    "    discount = 0.05 # 5% - 5/100\n",
    "elif total_bill > 2000:\n",
    "    discount = 0.02 # 2% - 2/100\n",
    "elif total_bill > 1000:\n",
    "    discount = 0.01 # 1% - 1/100\n",
    "else:\n",
    "    discount = 0 # no discount\n",
    "print('Discount Percentage:',discount*100)\n",
    "discount_amount = total_bill*discount\n",
    "print('Discount Amount:',discount_amount)\n",
    "total_payable = total_bill*(1-discount)\n",
    "print('Total Payable:',total_payable)"
   ]
  },
  {
   "cell_type": "code",
   "execution_count": 141,
   "id": "a5839afc-c029-4121-ac8b-b33385911642",
   "metadata": {},
   "outputs": [
    {
     "ename": "TypeError",
     "evalue": "'>' not supported between instances of 'str' and 'int'",
     "output_type": "error",
     "traceback": [
      "\u001b[1;31m---------------------------------------------------------------------------\u001b[0m",
      "\u001b[1;31mTypeError\u001b[0m                                 Traceback (most recent call last)",
      "Cell \u001b[1;32mIn[141], line 1\u001b[0m\n\u001b[1;32m----> 1\u001b[0m \u001b[38;5;124;43m'\u001b[39;49m\u001b[38;5;124;43m3567\u001b[39;49m\u001b[38;5;124;43m'\u001b[39;49m\u001b[38;5;241;43m>\u001b[39;49m\u001b[38;5;241;43m10000\u001b[39;49m\n",
      "\u001b[1;31mTypeError\u001b[0m: '>' not supported between instances of 'str' and 'int'"
     ]
    }
   ],
   "source": [
    "'3567'>10000"
   ]
  },
  {
   "cell_type": "code",
   "execution_count": 147,
   "id": "b1cfdba4-58bc-4533-8c39-30516b33db35",
   "metadata": {},
   "outputs": [
    {
     "data": {
      "text/plain": [
       "False"
      ]
     },
     "execution_count": 147,
     "metadata": {},
     "output_type": "execute_result"
    }
   ],
   "source": [
    "int('3567')>10000"
   ]
  },
  {
   "cell_type": "markdown",
   "id": "2d11685a-5bd2-4da0-85c0-784e76c2d558",
   "metadata": {},
   "source": [
    "# Assignment\n",
    "- Given input number, if it is greater than 50, apply cube and print result\n",
    "- if number is greater than 25, apply square and print result\n",
    "- if number is greater than 15, print number without any modification\n",
    "- if number is less than 10, apply square root and print result\n",
    "- if number is less than 5, apply cube root and print result\n"
   ]
  },
  {
   "cell_type": "code",
   "execution_count": 157,
   "id": "7c55bcbf-a9e7-4d8d-a4c0-d156de0ee83e",
   "metadata": {},
   "outputs": [],
   "source": [
    "# ### Example\n",
    "# - 80 (>50)--> 80*80*80\n",
    "# - 30 (>25) --> 30*30\n",
    "# - 18 (>15) --> 18\n",
    "# - 7 (<10) --> 7 power 1/2\n",
    "# - 2 (<5) --> 2 power 1/3"
   ]
  },
  {
   "cell_type": "code",
   "execution_count": 151,
   "id": "4248e2d5-c27d-40e5-a4de-6de49b8156d1",
   "metadata": {},
   "outputs": [
    {
     "data": {
      "text/plain": [
       "2.0"
      ]
     },
     "execution_count": 151,
     "metadata": {},
     "output_type": "execute_result"
    }
   ],
   "source": [
    "4**(1/2)"
   ]
  },
  {
   "cell_type": "markdown",
   "id": "244dd7c0-6d80-4655-8d85-80e2da59dd36",
   "metadata": {},
   "source": [
    "# Recap - Conditional Statements - 07/09/2025"
   ]
  },
  {
   "cell_type": "code",
   "execution_count": 9,
   "id": "d50aea25-f603-4d87-bc7a-ae5f4f3c5d21",
   "metadata": {},
   "outputs": [],
   "source": [
    "# If current_time >6.30 and it is weekday, you need to wake up\n",
    "# if it is weekend, you can sleep\n",
    "\n",
    "# Note: Current_time should be date or datetime datatype. For now we are taking it in float.\n",
    "# current_time is in 24hrs. Ex: 6 -> 6AM, 6.30 -> 6:30, 17 -> 5PM"
   ]
  },
  {
   "cell_type": "code",
   "execution_count": 13,
   "id": "82d9ecc5-a739-49c9-a09c-1785bb414543",
   "metadata": {},
   "outputs": [
    {
     "name": "stdout",
     "output_type": "stream",
     "text": [
      "Wake up\n"
     ]
    }
   ],
   "source": [
    "current_time = 6.40  \n",
    "current_day = 'WEDNESDAY' \n",
    "if current_time>6.30:\n",
    "    if current_day!='SATURDAY' and current_day!='SUNDAY':\n",
    "        print('Wake up')\n",
    "    else:\n",
    "        print('Sleep')\n"
   ]
  },
  {
   "cell_type": "code",
   "execution_count": 15,
   "id": "9a9bf46d-9d11-448d-9347-fa97c461f7f5",
   "metadata": {},
   "outputs": [
    {
     "name": "stdout",
     "output_type": "stream",
     "text": [
      "Sleep\n"
     ]
    }
   ],
   "source": [
    "current_time = 6.40  \n",
    "current_day = 'SUNDAY' \n",
    "if current_time>6.30:\n",
    "    if current_day!='SATURDAY' and current_day!='SUNDAY':\n",
    "        print('Wake up')\n",
    "    else:\n",
    "        print('Sleep')\n"
   ]
  },
  {
   "cell_type": "code",
   "execution_count": 17,
   "id": "722695f5-ec11-4dbd-9f06-a9da4dddd3ab",
   "metadata": {},
   "outputs": [
    {
     "name": "stdout",
     "output_type": "stream",
     "text": [
      "Sleep\n"
     ]
    }
   ],
   "source": [
    "current_time = 6.40  \n",
    "current_day = 'SUNDAY' \n",
    "if current_time>6.30:\n",
    "    if current_day not in ['SATURDAY','SUNDAY']:   # This is list -> ['SATURDAY','SUNDAY']\n",
    "        print('Wake up')\n",
    "    else:\n",
    "        print('Sleep')\n"
   ]
  },
  {
   "cell_type": "code",
   "execution_count": 21,
   "id": "c1cab6d6-4f62-4a4b-a1b8-b0b98b3a966e",
   "metadata": {},
   "outputs": [],
   "source": [
    "current_time = 6.15  \n",
    "current_day = 'SUNDAY' \n",
    "if current_time>6.30:\n",
    "    if current_day!='SATURDAY' and current_day!='SUNDAY':\n",
    "        print('Wake up')\n",
    "    else:\n",
    "        print('Sleep')\n",
    "# "
   ]
  },
  {
   "cell_type": "code",
   "execution_count": 35,
   "id": "cc902cf6-75c7-4078-8394-3c62a8786a55",
   "metadata": {},
   "outputs": [
    {
     "name": "stdout",
     "output_type": "stream",
     "text": [
      "Sleep\n"
     ]
    }
   ],
   "source": [
    "# Nested if - if within if \n",
    "current_time = 6.15  \n",
    "current_day = 'SUNDAY' \n",
    "if current_time>6.30:\n",
    "    if current_day!='SATURDAY' and current_day!='SUNDAY':\n",
    "        print('Wake up')\n",
    "    else:\n",
    "        print('Sleep')\n",
    "else:\n",
    "    print('Sleep')"
   ]
  },
  {
   "cell_type": "code",
   "execution_count": 27,
   "id": "db3cac74-8f93-4d58-852f-0abce8562491",
   "metadata": {},
   "outputs": [
    {
     "name": "stdout",
     "output_type": "stream",
     "text": [
      "Sleep\n"
     ]
    }
   ],
   "source": [
    "current_time = 6.15  \n",
    "current_day = 'SUNDAY' \n",
    "if current_time>6.30 and current_day!='SATURDAY' and current_day!='SUNDAY':\n",
    "    print('Wake up')\n",
    "else:\n",
    "    print('Sleep')"
   ]
  },
  {
   "cell_type": "code",
   "execution_count": 29,
   "id": "2c70d85d-2734-4e25-b8bf-62201a4b42bd",
   "metadata": {},
   "outputs": [
    {
     "name": "stdout",
     "output_type": "stream",
     "text": [
      "Wake up\n"
     ]
    }
   ],
   "source": [
    "current_time = 6.45  \n",
    "current_day = 'FRIDAY' \n",
    "if current_time>6.30 and current_day!='SATURDAY' and current_day!='SUNDAY':\n",
    "    print('Wake up')\n",
    "else:\n",
    "    print('Sleep')"
   ]
  },
  {
   "cell_type": "code",
   "execution_count": 37,
   "id": "f8343fdb-a594-4831-9fed-2902c12b88f8",
   "metadata": {},
   "outputs": [
    {
     "name": "stdout",
     "output_type": "stream",
     "text": [
      "True False True\n",
      "False\n",
      "Sleep\n"
     ]
    }
   ],
   "source": [
    "current_time = 6.45  \n",
    "current_day = 'SATURDAY' \n",
    "print(current_time>6.30,current_day!='SATURDAY',current_day!='SUNDAY')\n",
    "print(current_time>6.30 and current_day!='SATURDAY' and current_day!='SUNDAY')\n",
    "if current_time>6.30 and current_day!='SATURDAY' and current_day!='SUNDAY':\n",
    "    print('Wake up')\n",
    "else:\n",
    "    print('Sleep')"
   ]
  },
  {
   "cell_type": "code",
   "execution_count": 41,
   "id": "4f3c667e-1607-42ec-a9fb-b5fee032de5a",
   "metadata": {},
   "outputs": [
    {
     "name": "stdout",
     "output_type": "stream",
     "text": [
      "2025-07-09 07:30:46.941772\n"
     ]
    }
   ],
   "source": [
    "from datetime import datetime\n",
    "print(datetime.now())"
   ]
  },
  {
   "cell_type": "code",
   "execution_count": 45,
   "id": "dea175fe-cf60-4bed-95ea-14f65a44fbec",
   "metadata": {},
   "outputs": [
    {
     "name": "stdout",
     "output_type": "stream",
     "text": [
      "2025-07-09 07:31:02.665003\n"
     ]
    }
   ],
   "source": [
    "print(datetime.now())"
   ]
  },
  {
   "cell_type": "code",
   "execution_count": 51,
   "id": "50365ada-e141-49be-b09d-023a46dab62b",
   "metadata": {},
   "outputs": [
    {
     "data": {
      "text/plain": [
       "current_datetime.__add__\n",
       "current_datetime.__class__\n",
       "current_datetime.__delattr__\n",
       "current_datetime.__dir__\n",
       "current_datetime.__doc__\n",
       "current_datetime.__eq__\n",
       "current_datetime.__format__\n",
       "current_datetime.__ge__\n",
       "current_datetime.__getattribute__\n",
       "current_datetime.__getstate__\n",
       "current_datetime.__gt__\n",
       "current_datetime.__hash__\n",
       "current_datetime.__init__\n",
       "current_datetime.__init_subclass__\n",
       "current_datetime.__le__\n",
       "current_datetime.__lt__\n",
       "current_datetime.__ne__\n",
       "current_datetime.__new__\n",
       "current_datetime.__radd__\n",
       "current_datetime.__reduce__\n",
       "current_datetime.__reduce_ex__\n",
       "current_datetime.__repr__\n",
       "current_datetime.__rsub__\n",
       "current_datetime.__setattr__\n",
       "current_datetime.__sizeof__\n",
       "current_datetime.__str__\n",
       "current_datetime.__sub__\n",
       "current_datetime.__subclasshook__\n",
       "current_datetime.astimezone\n",
       "current_datetime.combine\n",
       "current_datetime.ctime\n",
       "current_datetime.date\n",
       "current_datetime.day\n",
       "current_datetime.dst\n",
       "current_datetime.fold\n",
       "current_datetime.fromisocalendar\n",
       "current_datetime.fromisoformat\n",
       "current_datetime.fromordinal\n",
       "current_datetime.fromtimestamp\n",
       "current_datetime.hour\n",
       "current_datetime.isocalendar\n",
       "current_datetime.isoformat\n",
       "current_datetime.isoweekday\n",
       "current_datetime.max\n",
       "current_datetime.microsecond\n",
       "current_datetime.min\n",
       "current_datetime.minute\n",
       "current_datetime.month\n",
       "current_datetime.now\n",
       "current_datetime.replace\n",
       "current_datetime.resolution\n",
       "current_datetime.second\n",
       "current_datetime.strftime\n",
       "current_datetime.strptime\n",
       "current_datetime.time\n",
       "current_datetime.timestamp\n",
       "current_datetime.timetuple\n",
       "current_datetime.timetz\n",
       "current_datetime.today\n",
       "current_datetime.toordinal\n",
       "current_datetime.tzinfo\n",
       "current_datetime.tzname\n",
       "current_datetime.utcfromtimestamp\n",
       "current_datetime.utcnow\n",
       "current_datetime.utcoffset\n",
       "current_datetime.utctimetuple\n",
       "current_datetime.weekday\n",
       "current_datetime.year"
      ]
     },
     "metadata": {},
     "output_type": "display_data"
    }
   ],
   "source": [
    "current_datetime = datetime.now()\n",
    "current_datetime.*?"
   ]
  },
  {
   "cell_type": "code",
   "execution_count": 57,
   "id": "a4112ad1-269e-4215-9f5e-42dad106364c",
   "metadata": {},
   "outputs": [
    {
     "data": {
      "text/plain": [
       "32"
      ]
     },
     "execution_count": 57,
     "metadata": {},
     "output_type": "execute_result"
    }
   ],
   "source": [
    "current_datetime.minute"
   ]
  },
  {
   "cell_type": "code",
   "execution_count": 59,
   "id": "083420d5-029b-4f6d-8c1a-69f05198430f",
   "metadata": {},
   "outputs": [
    {
     "data": {
      "text/plain": [
       "58"
      ]
     },
     "execution_count": 59,
     "metadata": {},
     "output_type": "execute_result"
    }
   ],
   "source": [
    "current_datetime.second"
   ]
  },
  {
   "cell_type": "code",
   "execution_count": 73,
   "id": "54363ee7-6d0a-4308-8691-67482efea0b6",
   "metadata": {},
   "outputs": [
    {
     "name": "stdout",
     "output_type": "stream",
     "text": [
      "2025-07-09 07:39:08.367313\n",
      "7 39\n",
      "7 0.39\n",
      "7.39\n"
     ]
    }
   ],
   "source": [
    "from datetime import datetime\n",
    "current_datetime = datetime.now()\n",
    "print(current_datetime)\n",
    "print(current_datetime.hour,current_datetime.minute)\n",
    "print(current_datetime.hour,current_datetime.minute/100)\n",
    "print(current_datetime.hour+current_datetime.minute/100)\n",
    "current_time = current_datetime.hour+current_datetime.minute/100"
   ]
  },
  {
   "cell_type": "markdown",
   "id": "9981d3cc-e82a-4680-a989-41e46e95abbd",
   "metadata": {},
   "source": [
    "## Assignment\n",
    "#### Example 1\n",
    "- Write a program for bank transactions: CREDIT, DEBIT, BALANCE_CHECK\n",
    "- If user credits money, print a successful message.\n",
    "- If user debits money, print a success or failure message.\n",
    "    - Succeeds: if minimum amount is maintained after transaction.\n",
    "    - Fails: if minimum amount is not maintained in the account after the transaction.\n",
    "- if user is checking balance, print the account balance.\n",
    "- Accept transaction type input from user.\n",
    "- Note: Minimum amount that should be maintained in the account is 500 rupees.\n"
   ]
  },
  {
   "cell_type": "code",
   "execution_count": null,
   "id": "c283a117-de07-410b-8414-9c0d53b00665",
   "metadata": {},
   "outputs": [],
   "source": []
  }
 ],
 "metadata": {
  "kernelspec": {
   "display_name": "Python 3 (ipykernel)",
   "language": "python",
   "name": "python3"
  },
  "language_info": {
   "codemirror_mode": {
    "name": "ipython",
    "version": 3
   },
   "file_extension": ".py",
   "mimetype": "text/x-python",
   "name": "python",
   "nbconvert_exporter": "python",
   "pygments_lexer": "ipython3",
   "version": "3.12.4"
  }
 },
 "nbformat": 4,
 "nbformat_minor": 5
}
