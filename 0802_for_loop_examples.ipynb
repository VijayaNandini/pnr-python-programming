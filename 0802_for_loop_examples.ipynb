{
 "cells": [
  {
   "cell_type": "code",
   "execution_count": 1,
   "id": "8911a9a0",
   "metadata": {},
   "outputs": [
    {
     "name": "stdout",
     "output_type": "stream",
     "text": [
      "[0, 1, 2, 3, 4, 5, 6, 7, 8, 9]\n"
     ]
    }
   ],
   "source": [
    "input_list = list(range(10))\n",
    "print(input_list)"
   ]
  },
  {
   "cell_type": "code",
   "execution_count": 3,
   "metadata": {},
   "outputs": [
    {
     "name": "stdout",
     "output_type": "stream",
     "text": [
      "Value in i is 0\n",
      "Value in i is 1\n",
      "Value in i is 2\n",
      "Value in i is 3\n",
      "Value in i is 4\n",
      "Value in i is 5\n",
      "Value in i is 6\n",
      "Value in i is 7\n",
      "Value in i is 8\n",
      "Value in i is 9\n"
     ]
    }
   ],
   "source": [
    "for i in input_list:\n",
    "    print(\"Value in i is\", i)"
   ]
  },
  {
   "cell_type": "code",
   "execution_count": 4,
   "id": "ba1e8db3",
   "metadata": {},
   "outputs": [],
   "source": [
    "my_dict = {'a': 1, 'b': 2, 'c': 0, 'd': 4, 'e': 5, 'f': 100, 'g': False}"
   ]
  },
  {
   "cell_type": "code",
   "execution_count": null,
   "id": "320afc79",
   "metadata": {},
   "outputs": [
    {
     "name": "stdout",
     "output_type": "stream",
     "text": [
      "a\n",
      "b\n",
      "c\n",
      "d\n",
      "e\n",
      "f\n",
      "g\n"
     ]
    }
   ],
   "source": [
    "for i in my_dict:    # Only keys  \n",
    "    print(i)"
   ]
  },
  {
   "cell_type": "code",
   "execution_count": 6,
   "id": "381358b8",
   "metadata": {},
   "outputs": [
    {
     "data": {
      "text/plain": [
       "dict_items([('a', 1), ('b', 2), ('c', 0), ('d', 4), ('e', 5), ('f', 100), ('g', False)])"
      ]
     },
     "execution_count": 6,
     "metadata": {},
     "output_type": "execute_result"
    }
   ],
   "source": [
    "my_dict.items()"
   ]
  },
  {
   "cell_type": "code",
   "execution_count": 7,
   "id": "c4671e16",
   "metadata": {},
   "outputs": [
    {
     "name": "stdout",
     "output_type": "stream",
     "text": [
      "('a', 1)\n",
      "('b', 2)\n",
      "('c', 0)\n",
      "('d', 4)\n",
      "('e', 5)\n",
      "('f', 100)\n",
      "('g', False)\n"
     ]
    }
   ],
   "source": [
    "for i in my_dict.items():\n",
    "    print(i)"
   ]
  },
  {
   "cell_type": "code",
   "execution_count": null,
   "id": "443cad13",
   "metadata": {},
   "outputs": [],
   "source": [
    "# Get the list of numbers between 50 and 100 that are divisible by 3  --> Will discuss in next class"
   ]
  },
  {
   "cell_type": "code",
   "execution_count": 10,
   "id": "e5565e7f",
   "metadata": {},
   "outputs": [
    {
     "name": "stdout",
     "output_type": "stream",
     "text": [
      "[50, 51, 52, 53, 54, 55, 56, 57, 58, 59, 60, 61, 62, 63, 64, 65, 66, 67, 68, 69, 70, 71, 72, 73, 74, 75, 76, 77, 78, 79, 80, 81, 82, 83, 84, 85, 86, 87, 88, 89, 90, 91, 92, 93, 94, 95, 96, 97, 98, 99]\n"
     ]
    }
   ],
   "source": [
    "print(list(range(50,100)))"
   ]
  },
  {
   "cell_type": "code",
   "execution_count": null,
   "id": "b7e85dad",
   "metadata": {},
   "outputs": [],
   "source": []
  }
 ],
 "metadata": {
  "kernelspec": {
   "display_name": "Python 3",
   "language": "python",
   "name": "python3"
  },
  "language_info": {
   "codemirror_mode": {
    "name": "ipython",
    "version": 3
   },
   "file_extension": ".py",
   "mimetype": "text/x-python",
   "name": "python",
   "nbconvert_exporter": "python",
   "pygments_lexer": "ipython3",
   "version": "3.11.9"
  }
 },
 "nbformat": 4,
 "nbformat_minor": 5
}
