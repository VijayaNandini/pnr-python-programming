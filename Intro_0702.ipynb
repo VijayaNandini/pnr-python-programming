{
 "cells": [
  {
   "cell_type": "code",
   "execution_count": 5,
   "id": "7119adb2-a675-4e47-a035-0734f894f361",
   "metadata": {},
   "outputs": [
    {
     "name": "stdout",
     "output_type": "stream",
     "text": [
      "Hello World\n"
     ]
    }
   ],
   "source": [
    "print('Hello World')"
   ]
  },
  {
   "cell_type": "code",
   "execution_count": 9,
   "id": "035a0977-16dc-4811-bea5-03083d0e6e9d",
   "metadata": {},
   "outputs": [
    {
     "name": "stdout",
     "output_type": "stream",
     "text": [
      "Hi Madhuri! Welcome to Python programming!\n"
     ]
    }
   ],
   "source": [
    "print(\"Hi Madhuri! Welcome to Python programming!\")"
   ]
  },
  {
   "cell_type": "markdown",
   "id": "1bed9f2d-ecad-4de7-9b61-5d39d3ceab8f",
   "metadata": {},
   "source": [
    "# Python Data types\n",
    "- String\n",
    "- Integer\n",
    "- Float\n",
    "- Boolean\n",
    "- Complex"
   ]
  },
  {
   "cell_type": "code",
   "execution_count": 29,
   "id": "b01bac5b-bd9a-4a3f-98b6-18bb487e0a46",
   "metadata": {},
   "outputs": [],
   "source": [
    "name = 'Madhuri' # String"
   ]
  },
  {
   "cell_type": "code",
   "execution_count": 39,
   "id": "0322be38-a564-43d9-8b27-df11aa62660e",
   "metadata": {},
   "outputs": [
    {
     "data": {
      "text/plain": [
       "'Madhuri'"
      ]
     },
     "execution_count": 39,
     "metadata": {},
     "output_type": "execute_result"
    }
   ],
   "source": [
    "name  # only works in Jupyter notebook"
   ]
  },
  {
   "cell_type": "code",
   "execution_count": 41,
   "id": "d56da843-90c9-4f8b-8a23-ec5ae66fd600",
   "metadata": {},
   "outputs": [
    {
     "name": "stdout",
     "output_type": "stream",
     "text": [
      "Madhuri\n"
     ]
    }
   ],
   "source": [
    "print(name) # works in python script or jupyter notebook"
   ]
  },
  {
   "cell_type": "code",
   "execution_count": 43,
   "id": "dc373a11-2530-4c73-bd36-a2db86ccb3f3",
   "metadata": {},
   "outputs": [
    {
     "data": {
      "text/plain": [
       "str"
      ]
     },
     "execution_count": 43,
     "metadata": {},
     "output_type": "execute_result"
    }
   ],
   "source": [
    "type(name)"
   ]
  },
  {
   "cell_type": "code",
   "execution_count": 45,
   "id": "e0f6679f-641b-496b-93cb-efd1c6400757",
   "metadata": {},
   "outputs": [],
   "source": [
    "name = \"Madhuri\" # String"
   ]
  },
  {
   "cell_type": "code",
   "execution_count": 47,
   "id": "c78ee107-3864-4758-bb6e-d4cd6a5c3a42",
   "metadata": {},
   "outputs": [
    {
     "data": {
      "text/plain": [
       "str"
      ]
     },
     "execution_count": 47,
     "metadata": {},
     "output_type": "execute_result"
    }
   ],
   "source": [
    "type(name)"
   ]
  },
  {
   "cell_type": "code",
   "execution_count": 49,
   "id": "81ec322f-34df-4c42-8826-4da78565a807",
   "metadata": {},
   "outputs": [
    {
     "data": {
      "text/plain": [
       "'Madhuri'"
      ]
     },
     "execution_count": 49,
     "metadata": {},
     "output_type": "execute_result"
    }
   ],
   "source": [
    "name"
   ]
  },
  {
   "cell_type": "code",
   "execution_count": 51,
   "id": "a1b8821a-dbef-40e4-9325-5560d353fbf3",
   "metadata": {},
   "outputs": [
    {
     "name": "stdout",
     "output_type": "stream",
     "text": [
      "Madhuri\n"
     ]
    }
   ],
   "source": [
    "print(name)"
   ]
  },
  {
   "cell_type": "code",
   "execution_count": 59,
   "id": "3672245c-406d-4626-b0b2-7a996534e6e0",
   "metadata": {},
   "outputs": [],
   "source": [
    "name = \"\"\"Peddibhotla\n",
    "Naga\n",
    "Ratna\n",
    "Madhuri\"\"\" # Multi-line string"
   ]
  },
  {
   "cell_type": "code",
   "execution_count": 61,
   "id": "1bd22e5c-ada4-48cf-9fb6-9de59807b019",
   "metadata": {},
   "outputs": [
    {
     "data": {
      "text/plain": [
       "str"
      ]
     },
     "execution_count": 61,
     "metadata": {},
     "output_type": "execute_result"
    }
   ],
   "source": [
    "type(name)"
   ]
  },
  {
   "cell_type": "code",
   "execution_count": 63,
   "id": "168a4e24-5faf-4c73-8d35-6b2f5bc20af3",
   "metadata": {},
   "outputs": [
    {
     "data": {
      "text/plain": [
       "'Peddibhotla\\nNaga\\nRatna\\nMadhuri'"
      ]
     },
     "execution_count": 63,
     "metadata": {},
     "output_type": "execute_result"
    }
   ],
   "source": [
    "name"
   ]
  },
  {
   "cell_type": "code",
   "execution_count": 65,
   "id": "ee4c2e75-b307-490d-b299-81cb66de1b67",
   "metadata": {},
   "outputs": [
    {
     "name": "stdout",
     "output_type": "stream",
     "text": [
      "Peddibhotla\n",
      "Naga\n",
      "Ratna\n",
      "Madhuri\n"
     ]
    }
   ],
   "source": [
    "print(name)"
   ]
  },
  {
   "cell_type": "code",
   "execution_count": 67,
   "id": "03a54cc5-0d95-44b3-a41f-18b7121d4b20",
   "metadata": {},
   "outputs": [],
   "source": [
    "name = '''Peddibhotla\n",
    "Naga\n",
    "Ratna\n",
    "Madhuri''' # Multi-line string"
   ]
  },
  {
   "cell_type": "code",
   "execution_count": 69,
   "id": "ffd133f4-cf56-4a76-9a76-83e3a74601d5",
   "metadata": {},
   "outputs": [
    {
     "data": {
      "text/plain": [
       "str"
      ]
     },
     "execution_count": 69,
     "metadata": {},
     "output_type": "execute_result"
    }
   ],
   "source": [
    "type(name)"
   ]
  },
  {
   "cell_type": "code",
   "execution_count": 71,
   "id": "302b44d7-e0db-44f1-afb2-a20c8d1dd9d8",
   "metadata": {},
   "outputs": [
    {
     "data": {
      "text/plain": [
       "'Peddibhotla\\nNaga\\nRatna\\nMadhuri'"
      ]
     },
     "execution_count": 71,
     "metadata": {},
     "output_type": "execute_result"
    }
   ],
   "source": [
    "name"
   ]
  },
  {
   "cell_type": "code",
   "execution_count": 73,
   "id": "1802d812-6378-4a80-b28b-89e959e2f9fa",
   "metadata": {},
   "outputs": [
    {
     "name": "stdout",
     "output_type": "stream",
     "text": [
      "Peddibhotla\n",
      "Naga\n",
      "Ratna\n",
      "Madhuri\n"
     ]
    }
   ],
   "source": [
    "print(name)"
   ]
  },
  {
   "cell_type": "code",
   "execution_count": 117,
   "id": "17fe9214-173f-4324-96ac-219feb66aa17",
   "metadata": {},
   "outputs": [],
   "source": [
    "# year_of_birth = 1995\n",
    "yob = 1995 # integer"
   ]
  },
  {
   "cell_type": "code",
   "execution_count": 101,
   "id": "7f607fee-433e-4f97-9994-62a6d13d3817",
   "metadata": {},
   "outputs": [
    {
     "data": {
      "text/plain": [
       "int"
      ]
     },
     "execution_count": 101,
     "metadata": {},
     "output_type": "execute_result"
    }
   ],
   "source": [
    "type(yob)"
   ]
  },
  {
   "cell_type": "code",
   "execution_count": 103,
   "id": "6a67468c-ca14-4d24-848d-771cfbb5dc20",
   "metadata": {},
   "outputs": [
    {
     "data": {
      "text/plain": [
       "1995"
      ]
     },
     "execution_count": 103,
     "metadata": {},
     "output_type": "execute_result"
    }
   ],
   "source": [
    "yob"
   ]
  },
  {
   "cell_type": "code",
   "execution_count": 129,
   "id": "26c6ec87-7bd2-49c9-925b-e1d55b5bb315",
   "metadata": {},
   "outputs": [],
   "source": [
    "experience = 8.5 # Float"
   ]
  },
  {
   "cell_type": "code",
   "execution_count": 107,
   "id": "a7dd4ea6-48c7-4eaf-82d9-ae22261d3de3",
   "metadata": {},
   "outputs": [
    {
     "data": {
      "text/plain": [
       "float"
      ]
     },
     "execution_count": 107,
     "metadata": {},
     "output_type": "execute_result"
    }
   ],
   "source": [
    "type(experience)"
   ]
  },
  {
   "cell_type": "code",
   "execution_count": 109,
   "id": "d72e8444-6332-4b12-8ac3-9cf9c79b1de3",
   "metadata": {},
   "outputs": [
    {
     "name": "stdout",
     "output_type": "stream",
     "text": [
      "8.5\n"
     ]
    }
   ],
   "source": [
    "print(experience)"
   ]
  },
  {
   "cell_type": "code",
   "execution_count": 121,
   "id": "a8817dc9-9e32-468c-87fd-5c389c992a05",
   "metadata": {},
   "outputs": [],
   "source": [
    "is_monday = False  # Boolean - True False"
   ]
  },
  {
   "cell_type": "code",
   "execution_count": 113,
   "id": "a2178379-ba6f-4690-9a02-e188ef33670d",
   "metadata": {},
   "outputs": [
    {
     "data": {
      "text/plain": [
       "bool"
      ]
     },
     "execution_count": 113,
     "metadata": {},
     "output_type": "execute_result"
    }
   ],
   "source": [
    "type(is_monday)"
   ]
  },
  {
   "cell_type": "code",
   "execution_count": 115,
   "id": "1cb3e867-3fb1-4ffa-bee9-804adc6f041a",
   "metadata": {},
   "outputs": [
    {
     "name": "stdout",
     "output_type": "stream",
     "text": [
      "False\n"
     ]
    }
   ],
   "source": [
    "print(is_monday)"
   ]
  },
  {
   "cell_type": "code",
   "execution_count": 125,
   "id": "202a512d-1b03-4235-a982-8de4dff4ff03",
   "metadata": {},
   "outputs": [
    {
     "ename": "NameError",
     "evalue": "name 'false' is not defined",
     "output_type": "error",
     "traceback": [
      "\u001b[1;31m---------------------------------------------------------------------------\u001b[0m",
      "\u001b[1;31mNameError\u001b[0m                                 Traceback (most recent call last)",
      "Cell \u001b[1;32mIn[125], line 1\u001b[0m\n\u001b[1;32m----> 1\u001b[0m \u001b[43mfalse\u001b[49m \u001b[38;5;66;03m# NameError: It means variable with this name is not defined\u001b[39;00m\n",
      "\u001b[1;31mNameError\u001b[0m: name 'false' is not defined"
     ]
    }
   ],
   "source": [
    "false # NameError: It means variable with this name is not defined"
   ]
  },
  {
   "cell_type": "code",
   "execution_count": 127,
   "id": "39565f8b-3bee-4627-b06b-c0e9dfa01ce4",
   "metadata": {},
   "outputs": [],
   "source": [
    "# Today is first class on python\n",
    "# I am trying to introduce basics\n",
    "\n",
    "# To comment - ctrl + /"
   ]
  },
  {
   "cell_type": "code",
   "execution_count": null,
   "id": "7d7c901d-f85a-4eea-bfd2-4faa34c503b7",
   "metadata": {},
   "outputs": [],
   "source": []
  }
 ],
 "metadata": {
  "kernelspec": {
   "display_name": "Python 3 (ipykernel)",
   "language": "python",
   "name": "python3"
  },
  "language_info": {
   "codemirror_mode": {
    "name": "ipython",
    "version": 3
   },
   "file_extension": ".py",
   "mimetype": "text/x-python",
   "name": "python",
   "nbconvert_exporter": "python",
   "pygments_lexer": "ipython3",
   "version": "3.12.4"
  }
 },
 "nbformat": 4,
 "nbformat_minor": 5
}
